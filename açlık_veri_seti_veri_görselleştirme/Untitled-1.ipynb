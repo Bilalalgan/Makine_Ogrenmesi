{
 "cells": [
  {
   "cell_type": "code",
   "execution_count": null,
   "metadata": {},
   "outputs": [],
   "source": [
    "import pandas as pd\n",
    "import numpy as np\n",
    "import seaborn as sns\n",
    "import matplotlib.pyplot as plt"
   ]
  },
  {
   "cell_type": "markdown",
   "metadata": {},
   "source": [
    "Gerekli Kütüphane çağırma işlemlerini yaptık."
   ]
  },
  {
   "cell_type": "code",
   "execution_count": 108,
   "metadata": {},
   "outputs": [],
   "source": [
    "df = pd.read_csv('Açlık-yolsuzluk.csv')"
   ]
  },
  {
   "cell_type": "markdown",
   "metadata": {},
   "source": [
    "Data Setimizi okuduk."
   ]
  },
  {
   "cell_type": "code",
   "execution_count": 109,
   "metadata": {},
   "outputs": [
    {
     "data": {
      "text/html": [
       "<div>\n",
       "<style scoped>\n",
       "    .dataframe tbody tr th:only-of-type {\n",
       "        vertical-align: middle;\n",
       "    }\n",
       "\n",
       "    .dataframe tbody tr th {\n",
       "        vertical-align: top;\n",
       "    }\n",
       "\n",
       "    .dataframe thead th {\n",
       "        text-align: right;\n",
       "    }\n",
       "</style>\n",
       "<table border=\"1\" class=\"dataframe\">\n",
       "  <thead>\n",
       "    <tr style=\"text-align: right;\">\n",
       "      <th></th>\n",
       "      <th>Country</th>\n",
       "      <th>happiness_score</th>\n",
       "      <th>gdp_per_capita</th>\n",
       "      <th>family</th>\n",
       "      <th>health</th>\n",
       "      <th>freedom</th>\n",
       "      <th>generosity</th>\n",
       "      <th>government_trust</th>\n",
       "      <th>dystopia_residual</th>\n",
       "      <th>continent</th>\n",
       "      <th>Year</th>\n",
       "      <th>social_support</th>\n",
       "      <th>cpi_score</th>\n",
       "    </tr>\n",
       "  </thead>\n",
       "  <tbody>\n",
       "    <tr>\n",
       "      <th>0</th>\n",
       "      <td>Norway</td>\n",
       "      <td>7.537</td>\n",
       "      <td>1.616463</td>\n",
       "      <td>1.533524</td>\n",
       "      <td>0.796667</td>\n",
       "      <td>0.635423</td>\n",
       "      <td>0.362012</td>\n",
       "      <td>0.315964</td>\n",
       "      <td>2.277027</td>\n",
       "      <td>Europe</td>\n",
       "      <td>2015</td>\n",
       "      <td>0.0</td>\n",
       "      <td>88</td>\n",
       "    </tr>\n",
       "    <tr>\n",
       "      <th>1</th>\n",
       "      <td>Denmark</td>\n",
       "      <td>7.522</td>\n",
       "      <td>1.482383</td>\n",
       "      <td>1.551122</td>\n",
       "      <td>0.792566</td>\n",
       "      <td>0.626007</td>\n",
       "      <td>0.355280</td>\n",
       "      <td>0.400770</td>\n",
       "      <td>2.313707</td>\n",
       "      <td>Europe</td>\n",
       "      <td>2015</td>\n",
       "      <td>0.0</td>\n",
       "      <td>91</td>\n",
       "    </tr>\n",
       "    <tr>\n",
       "      <th>2</th>\n",
       "      <td>Iceland</td>\n",
       "      <td>7.504</td>\n",
       "      <td>1.480633</td>\n",
       "      <td>1.610574</td>\n",
       "      <td>0.833552</td>\n",
       "      <td>0.627163</td>\n",
       "      <td>0.475540</td>\n",
       "      <td>0.153527</td>\n",
       "      <td>2.322715</td>\n",
       "      <td>Europe</td>\n",
       "      <td>2015</td>\n",
       "      <td>0.0</td>\n",
       "      <td>79</td>\n",
       "    </tr>\n",
       "    <tr>\n",
       "      <th>3</th>\n",
       "      <td>Switzerland</td>\n",
       "      <td>7.494</td>\n",
       "      <td>1.564980</td>\n",
       "      <td>1.516912</td>\n",
       "      <td>0.858131</td>\n",
       "      <td>0.620071</td>\n",
       "      <td>0.290549</td>\n",
       "      <td>0.367007</td>\n",
       "      <td>2.276716</td>\n",
       "      <td>Europe</td>\n",
       "      <td>2015</td>\n",
       "      <td>0.0</td>\n",
       "      <td>86</td>\n",
       "    </tr>\n",
       "    <tr>\n",
       "      <th>4</th>\n",
       "      <td>Finland</td>\n",
       "      <td>7.469</td>\n",
       "      <td>1.443572</td>\n",
       "      <td>1.540247</td>\n",
       "      <td>0.809158</td>\n",
       "      <td>0.617951</td>\n",
       "      <td>0.245483</td>\n",
       "      <td>0.382612</td>\n",
       "      <td>2.430182</td>\n",
       "      <td>Europe</td>\n",
       "      <td>2015</td>\n",
       "      <td>0.0</td>\n",
       "      <td>90</td>\n",
       "    </tr>\n",
       "  </tbody>\n",
       "</table>\n",
       "</div>"
      ],
      "text/plain": [
       "       Country  happiness_score  gdp_per_capita    family    health   freedom  \\\n",
       "0       Norway            7.537        1.616463  1.533524  0.796667  0.635423   \n",
       "1      Denmark            7.522        1.482383  1.551122  0.792566  0.626007   \n",
       "2      Iceland            7.504        1.480633  1.610574  0.833552  0.627163   \n",
       "3  Switzerland            7.494        1.564980  1.516912  0.858131  0.620071   \n",
       "4      Finland            7.469        1.443572  1.540247  0.809158  0.617951   \n",
       "\n",
       "   generosity  government_trust  dystopia_residual continent  Year  \\\n",
       "0    0.362012          0.315964           2.277027    Europe  2015   \n",
       "1    0.355280          0.400770           2.313707    Europe  2015   \n",
       "2    0.475540          0.153527           2.322715    Europe  2015   \n",
       "3    0.290549          0.367007           2.276716    Europe  2015   \n",
       "4    0.245483          0.382612           2.430182    Europe  2015   \n",
       "\n",
       "   social_support  cpi_score  \n",
       "0             0.0         88  \n",
       "1             0.0         91  \n",
       "2             0.0         79  \n",
       "3             0.0         86  \n",
       "4             0.0         90  "
      ]
     },
     "execution_count": 109,
     "metadata": {},
     "output_type": "execute_result"
    }
   ],
   "source": [
    "df.head()\n"
   ]
  },
  {
   "cell_type": "markdown",
   "metadata": {},
   "source": [
    "Data setimizdeki ilk 5 gönderiye baktık."
   ]
  },
  {
   "cell_type": "code",
   "execution_count": 110,
   "metadata": {},
   "outputs": [
    {
     "name": "stdout",
     "output_type": "stream",
     "text": [
      "<class 'pandas.core.frame.DataFrame'>\n",
      "RangeIndex: 792 entries, 0 to 791\n",
      "Data columns (total 13 columns):\n",
      " #   Column             Non-Null Count  Dtype  \n",
      "---  ------             --------------  -----  \n",
      " 0   Country            792 non-null    object \n",
      " 1   happiness_score    792 non-null    float64\n",
      " 2   gdp_per_capita     792 non-null    float64\n",
      " 3   family             792 non-null    float64\n",
      " 4   health             792 non-null    float64\n",
      " 5   freedom            792 non-null    float64\n",
      " 6   generosity         792 non-null    float64\n",
      " 7   government_trust   792 non-null    float64\n",
      " 8   dystopia_residual  792 non-null    float64\n",
      " 9   continent          792 non-null    object \n",
      " 10  Year               792 non-null    int64  \n",
      " 11  social_support     792 non-null    float64\n",
      " 12  cpi_score          792 non-null    int64  \n",
      "dtypes: float64(9), int64(2), object(2)\n",
      "memory usage: 80.6+ KB\n"
     ]
    }
   ],
   "source": [
    "df.info()"
   ]
  },
  {
   "cell_type": "markdown",
   "metadata": {},
   "source": [
    "12 sütünumuz var ve bunların 9 tanesinin tipi kesirli, 2 tanesi tam sayı, 2 tane de metin. Toplanda 13 klonumuz var."
   ]
  },
  {
   "cell_type": "markdown",
   "metadata": {},
   "source": [
    "Ülke, Mutluluk, Yurtiçi Hasılat, Aile, Sağlık, Özgürlük, Cömerlik, Hükümete Güven, Bölge, Yıl, YOlsuzluk, Sosyal Destek, Skor"
   ]
  },
  {
   "cell_type": "code",
   "execution_count": 111,
   "metadata": {},
   "outputs": [
    {
     "data": {
      "text/plain": [
       "Country              0\n",
       "happiness_score      0\n",
       "gdp_per_capita       0\n",
       "family               0\n",
       "health               0\n",
       "freedom              0\n",
       "generosity           0\n",
       "government_trust     0\n",
       "dystopia_residual    0\n",
       "continent            0\n",
       "Year                 0\n",
       "social_support       0\n",
       "cpi_score            0\n",
       "dtype: int64"
      ]
     },
     "execution_count": 111,
     "metadata": {},
     "output_type": "execute_result"
    }
   ],
   "source": [
    "df.isnull().sum()"
   ]
  },
  {
   "cell_type": "markdown",
   "metadata": {},
   "source": [
    "Eksik veri yok."
   ]
  },
  {
   "cell_type": "code",
   "execution_count": 112,
   "metadata": {},
   "outputs": [
    {
     "data": {
      "text/plain": [
       "(792, 13)"
      ]
     },
     "execution_count": 112,
     "metadata": {},
     "output_type": "execute_result"
    }
   ],
   "source": [
    "df.shape"
   ]
  },
  {
   "cell_type": "markdown",
   "metadata": {},
   "source": [
    "Veri Setimiz 792 Satır, 13 Sutundan oluşuyor."
   ]
  },
  {
   "cell_type": "code",
   "execution_count": 113,
   "metadata": {},
   "outputs": [
    {
     "data": {
      "text/html": [
       "<div>\n",
       "<style scoped>\n",
       "    .dataframe tbody tr th:only-of-type {\n",
       "        vertical-align: middle;\n",
       "    }\n",
       "\n",
       "    .dataframe tbody tr th {\n",
       "        vertical-align: top;\n",
       "    }\n",
       "\n",
       "    .dataframe thead th {\n",
       "        text-align: right;\n",
       "    }\n",
       "</style>\n",
       "<table border=\"1\" class=\"dataframe\">\n",
       "  <thead>\n",
       "    <tr style=\"text-align: right;\">\n",
       "      <th></th>\n",
       "      <th>happiness_score</th>\n",
       "      <th>gdp_per_capita</th>\n",
       "      <th>family</th>\n",
       "      <th>health</th>\n",
       "      <th>freedom</th>\n",
       "      <th>generosity</th>\n",
       "      <th>government_trust</th>\n",
       "      <th>dystopia_residual</th>\n",
       "      <th>Year</th>\n",
       "      <th>social_support</th>\n",
       "      <th>cpi_score</th>\n",
       "    </tr>\n",
       "  </thead>\n",
       "  <tbody>\n",
       "    <tr>\n",
       "      <th>count</th>\n",
       "      <td>792.000000</td>\n",
       "      <td>792.000000</td>\n",
       "      <td>792.000000</td>\n",
       "      <td>792.000000</td>\n",
       "      <td>792.000000</td>\n",
       "      <td>792.000000</td>\n",
       "      <td>792.000000</td>\n",
       "      <td>792.000000</td>\n",
       "      <td>792.000000</td>\n",
       "      <td>792.000000</td>\n",
       "      <td>792.000000</td>\n",
       "    </tr>\n",
       "    <tr>\n",
       "      <th>mean</th>\n",
       "      <td>5.473310</td>\n",
       "      <td>0.929217</td>\n",
       "      <td>0.504998</td>\n",
       "      <td>0.648691</td>\n",
       "      <td>0.427016</td>\n",
       "      <td>0.212440</td>\n",
       "      <td>0.125720</td>\n",
       "      <td>1.379277</td>\n",
       "      <td>2017.500000</td>\n",
       "      <td>0.609302</td>\n",
       "      <td>44.327020</td>\n",
       "    </tr>\n",
       "    <tr>\n",
       "      <th>std</th>\n",
       "      <td>1.124726</td>\n",
       "      <td>0.385774</td>\n",
       "      <td>0.552736</td>\n",
       "      <td>0.232261</td>\n",
       "      <td>0.148003</td>\n",
       "      <td>0.121660</td>\n",
       "      <td>0.109032</td>\n",
       "      <td>1.075276</td>\n",
       "      <td>1.708904</td>\n",
       "      <td>0.640754</td>\n",
       "      <td>19.508833</td>\n",
       "    </tr>\n",
       "    <tr>\n",
       "      <th>min</th>\n",
       "      <td>2.566900</td>\n",
       "      <td>0.000000</td>\n",
       "      <td>0.000000</td>\n",
       "      <td>0.000000</td>\n",
       "      <td>0.000000</td>\n",
       "      <td>0.000000</td>\n",
       "      <td>0.000000</td>\n",
       "      <td>0.000000</td>\n",
       "      <td>2015.000000</td>\n",
       "      <td>0.000000</td>\n",
       "      <td>11.000000</td>\n",
       "    </tr>\n",
       "    <tr>\n",
       "      <th>25%</th>\n",
       "      <td>4.590750</td>\n",
       "      <td>0.644242</td>\n",
       "      <td>0.000000</td>\n",
       "      <td>0.510070</td>\n",
       "      <td>0.325433</td>\n",
       "      <td>0.125784</td>\n",
       "      <td>0.052862</td>\n",
       "      <td>0.000000</td>\n",
       "      <td>2016.000000</td>\n",
       "      <td>0.000000</td>\n",
       "      <td>30.000000</td>\n",
       "    </tr>\n",
       "    <tr>\n",
       "      <th>50%</th>\n",
       "      <td>5.485500</td>\n",
       "      <td>0.994544</td>\n",
       "      <td>0.000000</td>\n",
       "      <td>0.685397</td>\n",
       "      <td>0.439621</td>\n",
       "      <td>0.197000</td>\n",
       "      <td>0.089000</td>\n",
       "      <td>1.731948</td>\n",
       "      <td>2017.500000</td>\n",
       "      <td>0.176214</td>\n",
       "      <td>38.000000</td>\n",
       "    </tr>\n",
       "    <tr>\n",
       "      <th>75%</th>\n",
       "      <td>6.300500</td>\n",
       "      <td>1.228677</td>\n",
       "      <td>1.040410</td>\n",
       "      <td>0.815641</td>\n",
       "      <td>0.546280</td>\n",
       "      <td>0.273250</td>\n",
       "      <td>0.154250</td>\n",
       "      <td>2.236894</td>\n",
       "      <td>2019.000000</td>\n",
       "      <td>1.268250</td>\n",
       "      <td>57.000000</td>\n",
       "    </tr>\n",
       "    <tr>\n",
       "      <th>max</th>\n",
       "      <td>7.808700</td>\n",
       "      <td>2.096000</td>\n",
       "      <td>1.610574</td>\n",
       "      <td>1.141000</td>\n",
       "      <td>0.724000</td>\n",
       "      <td>0.838075</td>\n",
       "      <td>0.551910</td>\n",
       "      <td>3.602140</td>\n",
       "      <td>2020.000000</td>\n",
       "      <td>1.644000</td>\n",
       "      <td>91.000000</td>\n",
       "    </tr>\n",
       "  </tbody>\n",
       "</table>\n",
       "</div>"
      ],
      "text/plain": [
       "       happiness_score  gdp_per_capita      family      health     freedom  \\\n",
       "count       792.000000      792.000000  792.000000  792.000000  792.000000   \n",
       "mean          5.473310        0.929217    0.504998    0.648691    0.427016   \n",
       "std           1.124726        0.385774    0.552736    0.232261    0.148003   \n",
       "min           2.566900        0.000000    0.000000    0.000000    0.000000   \n",
       "25%           4.590750        0.644242    0.000000    0.510070    0.325433   \n",
       "50%           5.485500        0.994544    0.000000    0.685397    0.439621   \n",
       "75%           6.300500        1.228677    1.040410    0.815641    0.546280   \n",
       "max           7.808700        2.096000    1.610574    1.141000    0.724000   \n",
       "\n",
       "       generosity  government_trust  dystopia_residual         Year  \\\n",
       "count  792.000000        792.000000         792.000000   792.000000   \n",
       "mean     0.212440          0.125720           1.379277  2017.500000   \n",
       "std      0.121660          0.109032           1.075276     1.708904   \n",
       "min      0.000000          0.000000           0.000000  2015.000000   \n",
       "25%      0.125784          0.052862           0.000000  2016.000000   \n",
       "50%      0.197000          0.089000           1.731948  2017.500000   \n",
       "75%      0.273250          0.154250           2.236894  2019.000000   \n",
       "max      0.838075          0.551910           3.602140  2020.000000   \n",
       "\n",
       "       social_support   cpi_score  \n",
       "count      792.000000  792.000000  \n",
       "mean         0.609302   44.327020  \n",
       "std          0.640754   19.508833  \n",
       "min          0.000000   11.000000  \n",
       "25%          0.000000   30.000000  \n",
       "50%          0.176214   38.000000  \n",
       "75%          1.268250   57.000000  \n",
       "max          1.644000   91.000000  "
      ]
     },
     "execution_count": 113,
     "metadata": {},
     "output_type": "execute_result"
    }
   ],
   "source": [
    "df.describe()"
   ]
  },
  {
   "cell_type": "markdown",
   "metadata": {},
   "source": [
    "Betimsel İstatistiklerimize Baktık."
   ]
  },
  {
   "cell_type": "code",
   "execution_count": 114,
   "metadata": {},
   "outputs": [
    {
     "data": {
      "text/plain": [
       "array(['Norway', 'Denmark', 'Iceland', 'Switzerland', 'Finland',\n",
       "       'Netherlands', 'Canada', 'New Zealand', 'Sweden', 'Australia',\n",
       "       'Israel', 'Costa Rica', 'Austria', 'United States', 'Ireland',\n",
       "       'Germany', 'Belgium', 'Luxembourg', 'United Kingdom', 'Chile',\n",
       "       'United Arab Emirates', 'Brazil', 'Argentina', 'Mexico',\n",
       "       'Singapore', 'Malta', 'Guatemala', 'Uruguay', 'Panama', 'France',\n",
       "       'Thailand', 'Spain', 'Colombia', 'Saudi Arabia', 'Kuwait',\n",
       "       'Slovakia', 'Bahrain', 'Malaysia', 'Nicaragua', 'Ecuador',\n",
       "       'El Salvador', 'Poland', 'Uzbekistan', 'Italy', 'Russia', 'Japan',\n",
       "       'Lithuania', 'Algeria', 'Latvia', 'Moldova', 'Romania', 'Bolivia',\n",
       "       'Turkmenistan', 'Kazakhstan', 'Slovenia', 'Peru', 'Mauritius',\n",
       "       'Cyprus', 'Estonia', 'Belarus', 'Libya', 'Turkey', 'Paraguay',\n",
       "       'Philippines', 'Serbia', 'Jordan', 'Hungary', 'Jamaica', 'Croatia',\n",
       "       'Kosovo', 'China', 'Pakistan', 'Indonesia', 'Venezuela',\n",
       "       'Montenegro', 'Morocco', 'Azerbaijan', 'Dominican Republic',\n",
       "       'Greece', 'Lebanon', 'Portugal', 'Bosnia and Herzegovina',\n",
       "       'Honduras', 'Nigeria', 'Vietnam', 'Tajikistan', 'Kyrgyzstan',\n",
       "       'Nepal', 'Mongolia', 'South Africa', 'Tunisia', 'Egypt',\n",
       "       'Bulgaria', 'Sierra Leone', 'Cameroon', 'Iran', 'Albania',\n",
       "       'Bangladesh', 'Kenya', 'Myanmar', 'Senegal', 'Zambia', 'Iraq',\n",
       "       'Gabon', 'Ethiopia', 'Sri Lanka', 'Armenia', 'India', 'Mauritania',\n",
       "       'Georgia', 'Mali', 'Cambodia', 'Ghana', 'Ukraine', 'Uganda',\n",
       "       'Burkina Faso', 'Niger', 'Malawi', 'Chad', 'Zimbabwe',\n",
       "       'Afghanistan', 'Botswana', 'Benin', 'Madagascar', 'Haiti', 'Yemen',\n",
       "       'Liberia', 'Guinea', 'Togo', 'Rwanda', 'Tanzania', 'Burundi'],\n",
       "      dtype=object)"
      ]
     },
     "execution_count": 114,
     "metadata": {},
     "output_type": "execute_result"
    }
   ],
   "source": [
    "df[\"Country\"].unique()"
   ]
  },
  {
   "cell_type": "markdown",
   "metadata": {},
   "source": [
    "Kod ile country değişkeni içerisindeki birbirinden farklı tanımlara baktık.Böylelikle Veri setimizde hangi ülkeler olduğuna baktık."
   ]
  },
  {
   "cell_type": "code",
   "execution_count": 115,
   "metadata": {},
   "outputs": [
    {
     "data": {
      "text/plain": [
       "Text(0.5, 1.0, 'The average happiness score in 5 years  ')"
      ]
     },
     "execution_count": 115,
     "metadata": {},
     "output_type": "execute_result"
    },
    {
     "data": {
      "image/png": "[encoded data removed]",
      "text/plain": [
       "<Figure size 1440x576 with 1 Axes>"
      ]
     },
     "metadata": {
      "needs_background": "light"
     },
     "output_type": "display_data"
    }
   ],
   "source": [
    "plt.figure(figsize=(20,8))\n",
    "sns.lineplot(data=df, x=\"Year\",y=\"happiness_score\")\n",
    "plt.title(\"The average happiness score in 5 years  \")"
   ]
  },
  {
   "cell_type": "markdown",
   "metadata": {},
   "source": [
    "Yıllara göre mutluluk değerlerini inceledik."
   ]
  },
  {
   "cell_type": "code",
   "execution_count": 116,
   "metadata": {},
   "outputs": [
    {
     "data": {
      "image/png": "[encoded data removed]",
      "text/plain": [
       "<Figure size 720x720 with 1 Axes>"
      ]
     },
     "metadata": {},
     "output_type": "display_data"
    }
   ],
   "source": [
    "plt.figure(figsize = [10, 10], clear = True, facecolor = \"#ABB2B9\")\n",
    "df[\"continent\"].value_counts().plot.pie( autopct='%1.3f%%', shadow = True);"
   ]
  },
  {
   "cell_type": "markdown",
   "metadata": {},
   "source": [
    "En mutlu kıtaya baktık."
   ]
  },
  {
   "cell_type": "code",
   "execution_count": 117,
   "metadata": {},
   "outputs": [
    {
     "data": {
      "text/plain": [
       "<AxesSubplot:xlabel='continent'>"
      ]
     },
     "execution_count": 117,
     "metadata": {},
     "output_type": "execute_result"
    },
    {
     "data": {
      "image/png": "[encoded data removed]",
      "text/plain": [
       "<Figure size 720x504 with 1 Axes>"
      ]
     },
     "metadata": {
      "needs_background": "light"
     },
     "output_type": "display_data"
    }
   ],
   "source": [
    "avg_co= df.groupby(\"continent\")[\"happiness_score\"].mean()\n",
    "avg_co.sort_values()\n",
    "avg_co.sort_values().plot(kind=\"bar\",figsize=(10,7))"
   ]
  },
  {
   "cell_type": "markdown",
   "metadata": {},
   "source": [
    "Kıtalara göre mutluluk grafiğini inceledik."
   ]
  },
  {
   "cell_type": "code",
   "execution_count": 118,
   "metadata": {},
   "outputs": [],
   "source": [
    "Turkiye= df[df[\"Country\"]==\"Turkey\"]\n"
   ]
  },
  {
   "cell_type": "markdown",
   "metadata": {},
   "source": [
    "Şimdi türkiyenin değerlerini inceleyeceğiz."
   ]
  },
  {
   "cell_type": "code",
   "execution_count": 127,
   "metadata": {},
   "outputs": [
    {
     "data": {
      "text/plain": [
       "Country  happiness_score  gdp_per_capita  family    health    freedom   generosity  government_trust  dystopia_residual  continent  Year  social_support  cpi_score\n",
       "Turkey   5.1318           1.127169        0.000000  0.781335  0.254401  0.085886    0.120983          1.564817           Asia       2020  1.197159        40           1\n",
       "         5.3320           1.060980        0.946320  0.731720  0.228150  0.122530    0.157460          2.085280           Asia       2016  0.000000        41           1\n",
       "         5.3730           1.183000        0.000000  0.808000  0.195000  0.083000    0.106000          0.000000           Asia       2017  1.360000        40           1\n",
       "         5.3890           1.164920        0.877170  0.647180  0.238890  0.047070    0.123480          2.290740           Asia       2019  0.000000        39           1\n",
       "         5.4830           1.148000        0.000000  0.686000  0.324000  0.106000    0.109000          0.000000           Asia       2018  1.380000        41           1\n",
       "         5.5000           1.198274        1.337753  0.637606  0.300741  0.046693    0.099672          1.879278           Asia       2015  0.000000        42           1\n",
       "dtype: int64"
      ]
     },
     "execution_count": 127,
     "metadata": {},
     "output_type": "execute_result"
    }
   ],
   "source": [
    "Turkiye.value_counts()"
   ]
  },
  {
   "cell_type": "markdown",
   "metadata": {},
   "source": [
    "Türkiyenin en mutlu yılı 2015 olduğunu ve en düşük mutluluk seviyesinin 2020 yılında olduğunu görüyoruz. Şimdi görselleştirelim."
   ]
  },
  {
   "cell_type": "code",
   "execution_count": 119,
   "metadata": {},
   "outputs": [
    {
     "data": {
      "text/plain": [
       "<seaborn.axisgrid.FacetGrid at 0x1a13d78ad60>"
      ]
     },
     "execution_count": 119,
     "metadata": {},
     "output_type": "execute_result"
    },
    {
     "data": {
      "image/png": "[encoded data removed]",
      "text/plain": [
       "<Figure size 720x360 with 1 Axes>"
      ]
     },
     "metadata": {
      "needs_background": "light"
     },
     "output_type": "display_data"
    }
   ],
   "source": [
    "sns.catplot(x=\"Year\", y=\"happiness_score\", data=Turkiye, kind='bar', height=5, aspect=2)"
   ]
  },
  {
   "cell_type": "markdown",
   "metadata": {},
   "source": [
    "Bizim mutluluk seviyemiz verimizin ortalama değerine yakın çıktı. Ortalama Değer: 5.473310"
   ]
  },
  {
   "cell_type": "code",
   "execution_count": 122,
   "metadata": {},
   "outputs": [],
   "source": [
    "mutlular = df[df[\"happiness_score\"] >= 7.808700 ]"
   ]
  },
  {
   "cell_type": "markdown",
   "metadata": {},
   "source": [
    "En mutlu ülkeyi buluyoruz burada. Yukarıdaki Betimsel istatistik kısmında max mutluluk değeri = 7.808700 olan ülkeyi arıyoruz. "
   ]
  },
  {
   "cell_type": "code",
   "execution_count": 123,
   "metadata": {},
   "outputs": [
    {
     "data": {
      "text/html": [
       "<div>\n",
       "<style scoped>\n",
       "    .dataframe tbody tr th:only-of-type {\n",
       "        vertical-align: middle;\n",
       "    }\n",
       "\n",
       "    .dataframe tbody tr th {\n",
       "        vertical-align: top;\n",
       "    }\n",
       "\n",
       "    .dataframe thead th {\n",
       "        text-align: right;\n",
       "    }\n",
       "</style>\n",
       "<table border=\"1\" class=\"dataframe\">\n",
       "  <thead>\n",
       "    <tr style=\"text-align: right;\">\n",
       "      <th></th>\n",
       "      <th>Country</th>\n",
       "      <th>happiness_score</th>\n",
       "      <th>gdp_per_capita</th>\n",
       "      <th>family</th>\n",
       "      <th>health</th>\n",
       "      <th>freedom</th>\n",
       "      <th>generosity</th>\n",
       "      <th>government_trust</th>\n",
       "      <th>dystopia_residual</th>\n",
       "      <th>continent</th>\n",
       "      <th>Year</th>\n",
       "      <th>social_support</th>\n",
       "      <th>cpi_score</th>\n",
       "    </tr>\n",
       "  </thead>\n",
       "  <tbody>\n",
       "    <tr>\n",
       "      <th>660</th>\n",
       "      <td>Finland</td>\n",
       "      <td>7.8087</td>\n",
       "      <td>1.28519</td>\n",
       "      <td>0.0</td>\n",
       "      <td>0.961271</td>\n",
       "      <td>0.662317</td>\n",
       "      <td>0.15967</td>\n",
       "      <td>0.477857</td>\n",
       "      <td>2.762835</td>\n",
       "      <td>Europe</td>\n",
       "      <td>2020</td>\n",
       "      <td>1.499526</td>\n",
       "      <td>85</td>\n",
       "    </tr>\n",
       "  </tbody>\n",
       "</table>\n",
       "</div>"
      ],
      "text/plain": [
       "     Country  happiness_score  gdp_per_capita  family    health   freedom  \\\n",
       "660  Finland           7.8087         1.28519     0.0  0.961271  0.662317   \n",
       "\n",
       "     generosity  government_trust  dystopia_residual continent  Year  \\\n",
       "660     0.15967          0.477857           2.762835    Europe  2020   \n",
       "\n",
       "     social_support  cpi_score  \n",
       "660        1.499526         85  "
      ]
     },
     "execution_count": 123,
     "metadata": {},
     "output_type": "execute_result"
    }
   ],
   "source": [
    "mutlular"
   ]
  },
  {
   "cell_type": "markdown",
   "metadata": {},
   "source": [
    "En mutlu ülke firlandiya."
   ]
  },
  {
   "cell_type": "code",
   "execution_count": 124,
   "metadata": {},
   "outputs": [],
   "source": [
    "Firlandiya = df[df[\"Country\"]==\"Finland\"]"
   ]
  },
  {
   "cell_type": "markdown",
   "metadata": {},
   "source": [
    "Yanlızca firlandiyayı aldık."
   ]
  },
  {
   "cell_type": "code",
   "execution_count": 125,
   "metadata": {},
   "outputs": [
    {
     "data": {
      "text/plain": [
       "<seaborn.axisgrid.FacetGrid at 0x1a13d8567c0>"
      ]
     },
     "execution_count": 125,
     "metadata": {},
     "output_type": "execute_result"
    },
    {
     "data": {
      "image/png": "[encoded data removed]",
      "text/plain": [
       "<Figure size 720x360 with 1 Axes>"
      ]
     },
     "metadata": {
      "needs_background": "light"
     },
     "output_type": "display_data"
    }
   ],
   "source": [
    "sns.catplot(x=\"Year\", y=\"happiness_score\", data=Firlandiya, kind='bar', height=5, aspect=2)"
   ]
  },
  {
   "cell_type": "markdown",
   "metadata": {},
   "source": [
    "Adamlar hep mutluymus..."
   ]
  },
  {
   "cell_type": "code",
   "execution_count": 132,
   "metadata": {},
   "outputs": [],
   "source": [
    "uzgun = df[df[\"happiness_score\"] <= 2.6 ]"
   ]
  },
  {
   "cell_type": "code",
   "execution_count": 133,
   "metadata": {},
   "outputs": [
    {
     "data": {
      "text/html": [
       "<div>\n",
       "<style scoped>\n",
       "    .dataframe tbody tr th:only-of-type {\n",
       "        vertical-align: middle;\n",
       "    }\n",
       "\n",
       "    .dataframe tbody tr th {\n",
       "        vertical-align: top;\n",
       "    }\n",
       "\n",
       "    .dataframe thead th {\n",
       "        text-align: right;\n",
       "    }\n",
       "</style>\n",
       "<table border=\"1\" class=\"dataframe\">\n",
       "  <thead>\n",
       "    <tr style=\"text-align: right;\">\n",
       "      <th></th>\n",
       "      <th>Country</th>\n",
       "      <th>happiness_score</th>\n",
       "      <th>gdp_per_capita</th>\n",
       "      <th>family</th>\n",
       "      <th>health</th>\n",
       "      <th>freedom</th>\n",
       "      <th>generosity</th>\n",
       "      <th>government_trust</th>\n",
       "      <th>dystopia_residual</th>\n",
       "      <th>continent</th>\n",
       "      <th>Year</th>\n",
       "      <th>social_support</th>\n",
       "      <th>cpi_score</th>\n",
       "    </tr>\n",
       "  </thead>\n",
       "  <tbody>\n",
       "    <tr>\n",
       "      <th>791</th>\n",
       "      <td>Afghanistan</td>\n",
       "      <td>2.5669</td>\n",
       "      <td>0.300706</td>\n",
       "      <td>0.0</td>\n",
       "      <td>0.266052</td>\n",
       "      <td>0.0</td>\n",
       "      <td>0.135235</td>\n",
       "      <td>0.001226</td>\n",
       "      <td>1.507236</td>\n",
       "      <td>Asia</td>\n",
       "      <td>2020</td>\n",
       "      <td>0.356434</td>\n",
       "      <td>19</td>\n",
       "    </tr>\n",
       "  </tbody>\n",
       "</table>\n",
       "</div>"
      ],
      "text/plain": [
       "         Country  happiness_score  gdp_per_capita  family    health  freedom  \\\n",
       "791  Afghanistan           2.5669        0.300706     0.0  0.266052      0.0   \n",
       "\n",
       "     generosity  government_trust  dystopia_residual continent  Year  \\\n",
       "791    0.135235          0.001226           1.507236      Asia  2020   \n",
       "\n",
       "     social_support  cpi_score  \n",
       "791        0.356434         19  "
      ]
     },
     "execution_count": 133,
     "metadata": {},
     "output_type": "execute_result"
    }
   ],
   "source": [
    "uzgun"
   ]
  },
  {
   "cell_type": "markdown",
   "metadata": {},
   "source": [
    "En üzgün ülke afganistanmış."
   ]
  },
  {
   "cell_type": "code",
   "execution_count": 136,
   "metadata": {},
   "outputs": [],
   "source": [
    "Afganistan = df[df[\"Country\"]==\"Afghanistan\"]"
   ]
  },
  {
   "cell_type": "code",
   "execution_count": 137,
   "metadata": {},
   "outputs": [
    {
     "data": {
      "text/plain": [
       "<seaborn.axisgrid.FacetGrid at 0x1a13d707f70>"
      ]
     },
     "execution_count": 137,
     "metadata": {},
     "output_type": "execute_result"
    },
    {
     "data": {
      "image/png": "[encoded data removed]",
      "text/plain": [
       "<Figure size 720x360 with 1 Axes>"
      ]
     },
     "metadata": {
      "needs_background": "light"
     },
     "output_type": "display_data"
    }
   ],
   "source": [
    "sns.catplot(x=\"Year\", y=\"happiness_score\", data=Afganistan, kind='bar', height=5, aspect=2)"
   ]
  },
  {
   "cell_type": "markdown",
   "metadata": {},
   "source": [
    "3.5 Üstünde olan mutluluk seviyesi 2.5 seviyelerine kadar düştüğünü görüyoruz.."
   ]
  }
 ],
 "metadata": {
  "kernelspec": {
   "display_name": "Python 3.7.8 64-bit",
   "language": "python",
   "name": "python3"
  },
  "language_info": {
   "codemirror_mode": {
    "name": "ipython",
    "version": 3
   },
   "file_extension": ".py",
   "mimetype": "text/x-python",
   "name": "python",
   "nbconvert_exporter": "python",
   "pygments_lexer": "ipython3",
   "version": "3.7.8"
  },
  "orig_nbformat": 4,
  "vscode": {
   "interpreter": {
    "hash": "0a54084e6b208ee8d1ce3989ffc20924477a5f55f5a43e22e699a6741623861e"
   }
  }
 },
 "nbformat": 4,
 "nbformat_minor": 2
}
