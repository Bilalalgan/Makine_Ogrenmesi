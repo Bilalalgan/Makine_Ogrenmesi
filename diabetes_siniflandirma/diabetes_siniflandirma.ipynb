{
 "cells": [
  {
   "cell_type": "markdown",
   "metadata": {},
   "source": [
    "# Sınıflandırma Problemleri"
   ]
  },
  {
   "cell_type": "code",
   "execution_count": 27,
   "metadata": {},
   "outputs": [],
   "source": [
    "import numpy as np\n",
    "import pandas as pd \n",
    "import statsmodels.api as sm\n",
    "import statsmodels.formula.api as smf\n",
    "import seaborn as sns\n",
    "from sklearn.preprocessing import scale \n",
    "from sklearn.model_selection import train_test_split, GridSearchCV, cross_val_score\n",
    "from sklearn.metrics import confusion_matrix, accuracy_score, classification_report\n",
    "from sklearn.metrics import roc_auc_score,roc_curve\n",
    "import statsmodels.formula.api as smf\n",
    "import matplotlib.pyplot as plt\n",
    "from sklearn.neighbors import KNeighborsClassifier\n",
    "from sklearn.discriminant_analysis import LinearDiscriminantAnalysis\n",
    "from sklearn.linear_model import LogisticRegression\n",
    "from sklearn.svm import SVC\n",
    "from sklearn.naive_bayes import GaussianNB\n",
    "from sklearn import tree\n",
    "from sklearn.ensemble import RandomForestClassifier\n",
    "from sklearn.ensemble import GradientBoostingClassifier\n",
    "from xgboost import XGBClassifier\n",
    "from lightgbm import LGBMClassifier\n",
    "from catboost import CatBoostClassifier\n",
    "from warnings import filterwarnings\n",
    "filterwarnings('ignore')"
   ]
  },
  {
   "cell_type": "markdown",
   "metadata": {},
   "source": [
    "# Lojistik Regresyon "
   ]
  },
  {
   "cell_type": "markdown",
   "metadata": {},
   "source": [
    "## Model "
   ]
  },
  {
   "cell_type": "code",
   "execution_count": 28,
   "metadata": {},
   "outputs": [
    {
     "data": {
      "text/html": [
       "<div>\n",
       "<style scoped>\n",
       "    .dataframe tbody tr th:only-of-type {\n",
       "        vertical-align: middle;\n",
       "    }\n",
       "\n",
       "    .dataframe tbody tr th {\n",
       "        vertical-align: top;\n",
       "    }\n",
       "\n",
       "    .dataframe thead th {\n",
       "        text-align: right;\n",
       "    }\n",
       "</style>\n",
       "<table border=\"1\" class=\"dataframe\">\n",
       "  <thead>\n",
       "    <tr style=\"text-align: right;\">\n",
       "      <th></th>\n",
       "      <th>Pregnancies</th>\n",
       "      <th>Glucose</th>\n",
       "      <th>BloodPressure</th>\n",
       "      <th>SkinThickness</th>\n",
       "      <th>Insulin</th>\n",
       "      <th>BMI</th>\n",
       "      <th>DiabetesPedigreeFunction</th>\n",
       "      <th>Age</th>\n",
       "      <th>Outcome</th>\n",
       "    </tr>\n",
       "  </thead>\n",
       "  <tbody>\n",
       "    <tr>\n",
       "      <th>0</th>\n",
       "      <td>6</td>\n",
       "      <td>148</td>\n",
       "      <td>72</td>\n",
       "      <td>35</td>\n",
       "      <td>0</td>\n",
       "      <td>33.6</td>\n",
       "      <td>0.627</td>\n",
       "      <td>50</td>\n",
       "      <td>1</td>\n",
       "    </tr>\n",
       "    <tr>\n",
       "      <th>1</th>\n",
       "      <td>1</td>\n",
       "      <td>85</td>\n",
       "      <td>66</td>\n",
       "      <td>29</td>\n",
       "      <td>0</td>\n",
       "      <td>26.6</td>\n",
       "      <td>0.351</td>\n",
       "      <td>31</td>\n",
       "      <td>0</td>\n",
       "    </tr>\n",
       "    <tr>\n",
       "      <th>2</th>\n",
       "      <td>8</td>\n",
       "      <td>183</td>\n",
       "      <td>64</td>\n",
       "      <td>0</td>\n",
       "      <td>0</td>\n",
       "      <td>23.3</td>\n",
       "      <td>0.672</td>\n",
       "      <td>32</td>\n",
       "      <td>1</td>\n",
       "    </tr>\n",
       "    <tr>\n",
       "      <th>3</th>\n",
       "      <td>1</td>\n",
       "      <td>89</td>\n",
       "      <td>66</td>\n",
       "      <td>23</td>\n",
       "      <td>94</td>\n",
       "      <td>28.1</td>\n",
       "      <td>0.167</td>\n",
       "      <td>21</td>\n",
       "      <td>0</td>\n",
       "    </tr>\n",
       "    <tr>\n",
       "      <th>4</th>\n",
       "      <td>0</td>\n",
       "      <td>137</td>\n",
       "      <td>40</td>\n",
       "      <td>35</td>\n",
       "      <td>168</td>\n",
       "      <td>43.1</td>\n",
       "      <td>2.288</td>\n",
       "      <td>33</td>\n",
       "      <td>1</td>\n",
       "    </tr>\n",
       "  </tbody>\n",
       "</table>\n",
       "</div>"
      ],
      "text/plain": [
       "   Pregnancies  Glucose  BloodPressure  SkinThickness  Insulin   BMI  \\\n",
       "0            6      148             72             35        0  33.6   \n",
       "1            1       85             66             29        0  26.6   \n",
       "2            8      183             64              0        0  23.3   \n",
       "3            1       89             66             23       94  28.1   \n",
       "4            0      137             40             35      168  43.1   \n",
       "\n",
       "   DiabetesPedigreeFunction  Age  Outcome  \n",
       "0                     0.627   50        1  \n",
       "1                     0.351   31        0  \n",
       "2                     0.672   32        1  \n",
       "3                     0.167   21        0  \n",
       "4                     2.288   33        1  "
      ]
     },
     "execution_count": 28,
     "metadata": {},
     "output_type": "execute_result"
    }
   ],
   "source": [
    "diabetes = pd.read_csv(\"diabetes.csv\")\n",
    "df = diabetes.copy()\n",
    "df = df.dropna()\n",
    "df.head()"
   ]
  },
  {
   "cell_type": "code",
   "execution_count": 29,
   "metadata": {},
   "outputs": [
    {
     "name": "stdout",
     "output_type": "stream",
     "text": [
      "<class 'pandas.core.frame.DataFrame'>\n",
      "Int64Index: 768 entries, 0 to 767\n",
      "Data columns (total 9 columns):\n",
      " #   Column                    Non-Null Count  Dtype  \n",
      "---  ------                    --------------  -----  \n",
      " 0   Pregnancies               768 non-null    int64  \n",
      " 1   Glucose                   768 non-null    int64  \n",
      " 2   BloodPressure             768 non-null    int64  \n",
      " 3   SkinThickness             768 non-null    int64  \n",
      " 4   Insulin                   768 non-null    int64  \n",
      " 5   BMI                       768 non-null    float64\n",
      " 6   DiabetesPedigreeFunction  768 non-null    float64\n",
      " 7   Age                       768 non-null    int64  \n",
      " 8   Outcome                   768 non-null    int64  \n",
      "dtypes: float64(2), int64(7)\n",
      "memory usage: 60.0 KB\n"
     ]
    }
   ],
   "source": [
    "df.info()"
   ]
  },
  {
   "cell_type": "code",
   "execution_count": 30,
   "metadata": {},
   "outputs": [
    {
     "data": {
      "text/plain": [
       "0    500\n",
       "1    268\n",
       "Name: Outcome, dtype: int64"
      ]
     },
     "execution_count": 30,
     "metadata": {},
     "output_type": "execute_result"
    }
   ],
   "source": [
    "df[\"Outcome\"].value_counts()"
   ]
  },
  {
   "cell_type": "code",
   "execution_count": 31,
   "metadata": {},
   "outputs": [
    {
     "data": {
      "image/png": "[encoded data removed]",
      "text/plain": [
       "<Figure size 432x288 with 1 Axes>"
      ]
     },
     "metadata": {
      "needs_background": "light"
     },
     "output_type": "display_data"
    }
   ],
   "source": [
    "df[\"Outcome\"].value_counts().plot.barh();"
   ]
  },
  {
   "cell_type": "code",
   "execution_count": 32,
   "metadata": {},
   "outputs": [
    {
     "data": {
      "text/html": [
       "<div>\n",
       "<style scoped>\n",
       "    .dataframe tbody tr th:only-of-type {\n",
       "        vertical-align: middle;\n",
       "    }\n",
       "\n",
       "    .dataframe tbody tr th {\n",
       "        vertical-align: top;\n",
       "    }\n",
       "\n",
       "    .dataframe thead th {\n",
       "        text-align: right;\n",
       "    }\n",
       "</style>\n",
       "<table border=\"1\" class=\"dataframe\">\n",
       "  <thead>\n",
       "    <tr style=\"text-align: right;\">\n",
       "      <th></th>\n",
       "      <th>count</th>\n",
       "      <th>mean</th>\n",
       "      <th>std</th>\n",
       "      <th>min</th>\n",
       "      <th>25%</th>\n",
       "      <th>50%</th>\n",
       "      <th>75%</th>\n",
       "      <th>max</th>\n",
       "    </tr>\n",
       "  </thead>\n",
       "  <tbody>\n",
       "    <tr>\n",
       "      <th>Pregnancies</th>\n",
       "      <td>768.0</td>\n",
       "      <td>3.845052</td>\n",
       "      <td>3.369578</td>\n",
       "      <td>0.000</td>\n",
       "      <td>1.00000</td>\n",
       "      <td>3.0000</td>\n",
       "      <td>6.00000</td>\n",
       "      <td>17.00</td>\n",
       "    </tr>\n",
       "    <tr>\n",
       "      <th>Glucose</th>\n",
       "      <td>768.0</td>\n",
       "      <td>120.894531</td>\n",
       "      <td>31.972618</td>\n",
       "      <td>0.000</td>\n",
       "      <td>99.00000</td>\n",
       "      <td>117.0000</td>\n",
       "      <td>140.25000</td>\n",
       "      <td>199.00</td>\n",
       "    </tr>\n",
       "    <tr>\n",
       "      <th>BloodPressure</th>\n",
       "      <td>768.0</td>\n",
       "      <td>69.105469</td>\n",
       "      <td>19.355807</td>\n",
       "      <td>0.000</td>\n",
       "      <td>62.00000</td>\n",
       "      <td>72.0000</td>\n",
       "      <td>80.00000</td>\n",
       "      <td>122.00</td>\n",
       "    </tr>\n",
       "    <tr>\n",
       "      <th>SkinThickness</th>\n",
       "      <td>768.0</td>\n",
       "      <td>20.536458</td>\n",
       "      <td>15.952218</td>\n",
       "      <td>0.000</td>\n",
       "      <td>0.00000</td>\n",
       "      <td>23.0000</td>\n",
       "      <td>32.00000</td>\n",
       "      <td>99.00</td>\n",
       "    </tr>\n",
       "    <tr>\n",
       "      <th>Insulin</th>\n",
       "      <td>768.0</td>\n",
       "      <td>79.799479</td>\n",
       "      <td>115.244002</td>\n",
       "      <td>0.000</td>\n",
       "      <td>0.00000</td>\n",
       "      <td>30.5000</td>\n",
       "      <td>127.25000</td>\n",
       "      <td>846.00</td>\n",
       "    </tr>\n",
       "    <tr>\n",
       "      <th>BMI</th>\n",
       "      <td>768.0</td>\n",
       "      <td>31.992578</td>\n",
       "      <td>7.884160</td>\n",
       "      <td>0.000</td>\n",
       "      <td>27.30000</td>\n",
       "      <td>32.0000</td>\n",
       "      <td>36.60000</td>\n",
       "      <td>67.10</td>\n",
       "    </tr>\n",
       "    <tr>\n",
       "      <th>DiabetesPedigreeFunction</th>\n",
       "      <td>768.0</td>\n",
       "      <td>0.471876</td>\n",
       "      <td>0.331329</td>\n",
       "      <td>0.078</td>\n",
       "      <td>0.24375</td>\n",
       "      <td>0.3725</td>\n",
       "      <td>0.62625</td>\n",
       "      <td>2.42</td>\n",
       "    </tr>\n",
       "    <tr>\n",
       "      <th>Age</th>\n",
       "      <td>768.0</td>\n",
       "      <td>33.240885</td>\n",
       "      <td>11.760232</td>\n",
       "      <td>21.000</td>\n",
       "      <td>24.00000</td>\n",
       "      <td>29.0000</td>\n",
       "      <td>41.00000</td>\n",
       "      <td>81.00</td>\n",
       "    </tr>\n",
       "    <tr>\n",
       "      <th>Outcome</th>\n",
       "      <td>768.0</td>\n",
       "      <td>0.348958</td>\n",
       "      <td>0.476951</td>\n",
       "      <td>0.000</td>\n",
       "      <td>0.00000</td>\n",
       "      <td>0.0000</td>\n",
       "      <td>1.00000</td>\n",
       "      <td>1.00</td>\n",
       "    </tr>\n",
       "  </tbody>\n",
       "</table>\n",
       "</div>"
      ],
      "text/plain": [
       "                          count        mean         std     min       25%  \\\n",
       "Pregnancies               768.0    3.845052    3.369578   0.000   1.00000   \n",
       "Glucose                   768.0  120.894531   31.972618   0.000  99.00000   \n",
       "BloodPressure             768.0   69.105469   19.355807   0.000  62.00000   \n",
       "SkinThickness             768.0   20.536458   15.952218   0.000   0.00000   \n",
       "Insulin                   768.0   79.799479  115.244002   0.000   0.00000   \n",
       "BMI                       768.0   31.992578    7.884160   0.000  27.30000   \n",
       "DiabetesPedigreeFunction  768.0    0.471876    0.331329   0.078   0.24375   \n",
       "Age                       768.0   33.240885   11.760232  21.000  24.00000   \n",
       "Outcome                   768.0    0.348958    0.476951   0.000   0.00000   \n",
       "\n",
       "                               50%        75%     max  \n",
       "Pregnancies                 3.0000    6.00000   17.00  \n",
       "Glucose                   117.0000  140.25000  199.00  \n",
       "BloodPressure              72.0000   80.00000  122.00  \n",
       "SkinThickness              23.0000   32.00000   99.00  \n",
       "Insulin                    30.5000  127.25000  846.00  \n",
       "BMI                        32.0000   36.60000   67.10  \n",
       "DiabetesPedigreeFunction    0.3725    0.62625    2.42  \n",
       "Age                        29.0000   41.00000   81.00  \n",
       "Outcome                     0.0000    1.00000    1.00  "
      ]
     },
     "execution_count": 32,
     "metadata": {},
     "output_type": "execute_result"
    }
   ],
   "source": [
    "df.describe().T"
   ]
  },
  {
   "cell_type": "code",
   "execution_count": 33,
   "metadata": {},
   "outputs": [],
   "source": [
    "y = df[\"Outcome\"]\n",
    "X = df.drop([\"Outcome\"], axis=1)"
   ]
  },
  {
   "cell_type": "code",
   "execution_count": 34,
   "metadata": {},
   "outputs": [],
   "source": [
    "#statsmodels"
   ]
  },
  {
   "cell_type": "code",
   "execution_count": 35,
   "metadata": {},
   "outputs": [
    {
     "name": "stdout",
     "output_type": "stream",
     "text": [
      "Optimization terminated successfully.\n",
      "         Current function value: 0.608498\n",
      "         Iterations 5\n"
     ]
    },
    {
     "data": {
      "text/html": [
       "<table class=\"simpletable\">\n",
       "<caption>Logit Regression Results</caption>\n",
       "<tr>\n",
       "  <th>Dep. Variable:</th>        <td>Outcome</td>     <th>  No. Observations:  </th>  <td>   768</td>  \n",
       "</tr>\n",
       "<tr>\n",
       "  <th>Model:</th>                 <td>Logit</td>      <th>  Df Residuals:      </th>  <td>   760</td>  \n",
       "</tr>\n",
       "<tr>\n",
       "  <th>Method:</th>                 <td>MLE</td>       <th>  Df Model:          </th>  <td>     7</td>  \n",
       "</tr>\n",
       "<tr>\n",
       "  <th>Date:</th>            <td>Mon, 16 May 2022</td> <th>  Pseudo R-squ.:     </th>  <td>0.05922</td> \n",
       "</tr>\n",
       "<tr>\n",
       "  <th>Time:</th>                <td>02:36:06</td>     <th>  Log-Likelihood:    </th> <td> -467.33</td> \n",
       "</tr>\n",
       "<tr>\n",
       "  <th>converged:</th>             <td>True</td>       <th>  LL-Null:           </th> <td> -496.74</td> \n",
       "</tr>\n",
       "<tr>\n",
       "  <th>Covariance Type:</th>     <td>nonrobust</td>    <th>  LLR p-value:       </th> <td>2.583e-10</td>\n",
       "</tr>\n",
       "</table>\n",
       "<table class=\"simpletable\">\n",
       "<tr>\n",
       "              <td></td>                <th>coef</th>     <th>std err</th>      <th>z</th>      <th>P>|z|</th>  <th>[0.025</th>    <th>0.975]</th>  \n",
       "</tr>\n",
       "<tr>\n",
       "  <th>Pregnancies</th>              <td>    0.1284</td> <td>    0.029</td> <td>    4.484</td> <td> 0.000</td> <td>    0.072</td> <td>    0.185</td>\n",
       "</tr>\n",
       "<tr>\n",
       "  <th>Glucose</th>                  <td>    0.0129</td> <td>    0.003</td> <td>    4.757</td> <td> 0.000</td> <td>    0.008</td> <td>    0.018</td>\n",
       "</tr>\n",
       "<tr>\n",
       "  <th>BloodPressure</th>            <td>   -0.0303</td> <td>    0.005</td> <td>   -6.481</td> <td> 0.000</td> <td>   -0.039</td> <td>   -0.021</td>\n",
       "</tr>\n",
       "<tr>\n",
       "  <th>SkinThickness</th>            <td>    0.0002</td> <td>    0.006</td> <td>    0.032</td> <td> 0.974</td> <td>   -0.012</td> <td>    0.012</td>\n",
       "</tr>\n",
       "<tr>\n",
       "  <th>Insulin</th>                  <td>    0.0007</td> <td>    0.001</td> <td>    0.942</td> <td> 0.346</td> <td>   -0.001</td> <td>    0.002</td>\n",
       "</tr>\n",
       "<tr>\n",
       "  <th>BMI</th>                      <td>   -0.0048</td> <td>    0.011</td> <td>   -0.449</td> <td> 0.653</td> <td>   -0.026</td> <td>    0.016</td>\n",
       "</tr>\n",
       "<tr>\n",
       "  <th>DiabetesPedigreeFunction</th> <td>    0.3203</td> <td>    0.240</td> <td>    1.335</td> <td> 0.182</td> <td>   -0.150</td> <td>    0.790</td>\n",
       "</tr>\n",
       "<tr>\n",
       "  <th>Age</th>                      <td>   -0.0156</td> <td>    0.008</td> <td>   -1.852</td> <td> 0.064</td> <td>   -0.032</td> <td>    0.001</td>\n",
       "</tr>\n",
       "</table>"
      ],
      "text/plain": [
       "<class 'statsmodels.iolib.summary.Summary'>\n",
       "\"\"\"\n",
       "                           Logit Regression Results                           \n",
       "==============================================================================\n",
       "Dep. Variable:                Outcome   No. Observations:                  768\n",
       "Model:                          Logit   Df Residuals:                      760\n",
       "Method:                           MLE   Df Model:                            7\n",
       "Date:                Mon, 16 May 2022   Pseudo R-squ.:                 0.05922\n",
       "Time:                        02:36:06   Log-Likelihood:                -467.33\n",
       "converged:                       True   LL-Null:                       -496.74\n",
       "Covariance Type:            nonrobust   LLR p-value:                 2.583e-10\n",
       "============================================================================================\n",
       "                               coef    std err          z      P>|z|      [0.025      0.975]\n",
       "--------------------------------------------------------------------------------------------\n",
       "Pregnancies                  0.1284      0.029      4.484      0.000       0.072       0.185\n",
       "Glucose                      0.0129      0.003      4.757      0.000       0.008       0.018\n",
       "BloodPressure               -0.0303      0.005     -6.481      0.000      -0.039      -0.021\n",
       "SkinThickness                0.0002      0.006      0.032      0.974      -0.012       0.012\n",
       "Insulin                      0.0007      0.001      0.942      0.346      -0.001       0.002\n",
       "BMI                         -0.0048      0.011     -0.449      0.653      -0.026       0.016\n",
       "DiabetesPedigreeFunction     0.3203      0.240      1.335      0.182      -0.150       0.790\n",
       "Age                         -0.0156      0.008     -1.852      0.064      -0.032       0.001\n",
       "============================================================================================\n",
       "\"\"\""
      ]
     },
     "execution_count": 35,
     "metadata": {},
     "output_type": "execute_result"
    }
   ],
   "source": [
    "loj = sm.Logit(y, X)\n",
    "loj_model= loj.fit()\n",
    "loj_model.summary()"
   ]
  },
  {
   "cell_type": "code",
   "execution_count": 36,
   "metadata": {},
   "outputs": [],
   "source": [
    "#scikit-learn"
   ]
  },
  {
   "cell_type": "code",
   "execution_count": 37,
   "metadata": {},
   "outputs": [
    {
     "data": {
      "text/plain": [
       "LogisticRegression(solver='liblinear')"
      ]
     },
     "execution_count": 37,
     "metadata": {},
     "output_type": "execute_result"
    }
   ],
   "source": [
    "from sklearn.linear_model import LogisticRegression\n",
    "loj = LogisticRegression(solver = \"liblinear\")\n",
    "loj_model = loj.fit(X,y)\n",
    "loj_model"
   ]
  },
  {
   "cell_type": "code",
   "execution_count": 38,
   "metadata": {},
   "outputs": [
    {
     "data": {
      "text/plain": [
       "array([-5.84073324])"
      ]
     },
     "execution_count": 38,
     "metadata": {},
     "output_type": "execute_result"
    }
   ],
   "source": [
    "loj_model.intercept_"
   ]
  },
  {
   "cell_type": "code",
   "execution_count": 39,
   "metadata": {},
   "outputs": [
    {
     "data": {
      "text/plain": [
       "array([[ 1.16937119e-01,  2.82506791e-02, -1.69647463e-02,\n",
       "         7.64900753e-04, -6.30568264e-04,  5.91967766e-02,\n",
       "         6.68475894e-01,  7.08845329e-03]])"
      ]
     },
     "execution_count": 39,
     "metadata": {},
     "output_type": "execute_result"
    }
   ],
   "source": [
    "loj_model.coef_"
   ]
  },
  {
   "cell_type": "markdown",
   "metadata": {},
   "source": [
    "## Tahmin & Model Tuning"
   ]
  },
  {
   "cell_type": "code",
   "execution_count": 40,
   "metadata": {},
   "outputs": [],
   "source": [
    "y_pred = loj_model.predict(X)"
   ]
  },
  {
   "cell_type": "code",
   "execution_count": 41,
   "metadata": {},
   "outputs": [
    {
     "data": {
      "text/plain": [
       "array([[448,  52],\n",
       "       [121, 147]], dtype=int64)"
      ]
     },
     "execution_count": 41,
     "metadata": {},
     "output_type": "execute_result"
    }
   ],
   "source": [
    "confusion_matrix(y, y_pred)"
   ]
  },
  {
   "cell_type": "code",
   "execution_count": 42,
   "metadata": {},
   "outputs": [
    {
     "data": {
      "text/plain": [
       "0.7747395833333334"
      ]
     },
     "execution_count": 42,
     "metadata": {},
     "output_type": "execute_result"
    }
   ],
   "source": [
    "accuracy_score(y, y_pred)"
   ]
  },
  {
   "cell_type": "code",
   "execution_count": 43,
   "metadata": {},
   "outputs": [
    {
     "name": "stdout",
     "output_type": "stream",
     "text": [
      "              precision    recall  f1-score   support\n",
      "\n",
      "           0       0.79      0.90      0.84       500\n",
      "           1       0.74      0.55      0.63       268\n",
      "\n",
      "    accuracy                           0.77       768\n",
      "   macro avg       0.76      0.72      0.73       768\n",
      "weighted avg       0.77      0.77      0.77       768\n",
      "\n"
     ]
    }
   ],
   "source": [
    "print(classification_report(y, y_pred))"
   ]
  },
  {
   "cell_type": "code",
   "execution_count": 44,
   "metadata": {},
   "outputs": [
    {
     "data": {
      "text/plain": [
       "array([1, 0, 1, 0, 1, 0, 0, 1, 1, 0], dtype=int64)"
      ]
     },
     "execution_count": 44,
     "metadata": {},
     "output_type": "execute_result"
    }
   ],
   "source": [
    "loj_model.predict(X)[0:10]"
   ]
  },
  {
   "cell_type": "code",
   "execution_count": 45,
   "metadata": {},
   "outputs": [
    {
     "data": {
      "text/plain": [
       "array([[0.35208919, 0.64791081],\n",
       "       [0.91613598, 0.08386402],\n",
       "       [0.22544273, 0.77455727],\n",
       "       [0.92033572, 0.07966428],\n",
       "       [0.16985872, 0.83014128],\n",
       "       [0.79768782, 0.20231218],\n",
       "       [0.8787278 , 0.1212722 ],\n",
       "       [0.2764273 , 0.7235727 ],\n",
       "       [0.32085978, 0.67914022],\n",
       "       [0.9216265 , 0.0783735 ]])"
      ]
     },
     "execution_count": 45,
     "metadata": {},
     "output_type": "execute_result"
    }
   ],
   "source": [
    "loj_model.predict_proba(X)[0:10][:,0:2]"
   ]
  },
  {
   "cell_type": "code",
   "execution_count": 46,
   "metadata": {},
   "outputs": [
    {
     "data": {
      "text/plain": [
       "0    1\n",
       "1    0\n",
       "2    1\n",
       "3    0\n",
       "4    1\n",
       "5    0\n",
       "6    1\n",
       "7    0\n",
       "8    1\n",
       "9    1\n",
       "Name: Outcome, dtype: int64"
      ]
     },
     "execution_count": 46,
     "metadata": {},
     "output_type": "execute_result"
    }
   ],
   "source": [
    "y[0:10]"
   ]
  },
  {
   "cell_type": "code",
   "execution_count": 47,
   "metadata": {},
   "outputs": [],
   "source": [
    "y_probs = loj_model.predict_proba(X)\n",
    "y_probs = y_probs[:,1]"
   ]
  },
  {
   "cell_type": "code",
   "execution_count": 48,
   "metadata": {},
   "outputs": [
    {
     "data": {
      "text/plain": [
       "array([0.64791081, 0.08386402, 0.77455727, 0.07966428, 0.83014128,\n",
       "       0.20231218, 0.1212722 , 0.7235727 , 0.67914022, 0.0783735 ])"
      ]
     },
     "execution_count": 48,
     "metadata": {},
     "output_type": "execute_result"
    }
   ],
   "source": [
    "y_probs[0:10]"
   ]
  },
  {
   "cell_type": "code",
   "execution_count": 49,
   "metadata": {},
   "outputs": [],
   "source": [
    "y_pred = [1 if i > 0.5 else 0 for i in y_probs]"
   ]
  },
  {
   "cell_type": "code",
   "execution_count": 50,
   "metadata": {},
   "outputs": [
    {
     "data": {
      "text/plain": [
       "[1, 0, 1, 0, 1, 0, 0, 1, 1, 0]"
      ]
     },
     "execution_count": 50,
     "metadata": {},
     "output_type": "execute_result"
    }
   ],
   "source": [
    "y_pred[0:10]"
   ]
  },
  {
   "cell_type": "code",
   "execution_count": 51,
   "metadata": {},
   "outputs": [
    {
     "data": {
      "text/plain": [
       "array([[448,  52],\n",
       "       [121, 147]], dtype=int64)"
      ]
     },
     "execution_count": 51,
     "metadata": {},
     "output_type": "execute_result"
    }
   ],
   "source": [
    "confusion_matrix(y, y_pred)"
   ]
  },
  {
   "cell_type": "code",
   "execution_count": 52,
   "metadata": {},
   "outputs": [
    {
     "data": {
      "text/plain": [
       "0.7747395833333334"
      ]
     },
     "execution_count": 52,
     "metadata": {},
     "output_type": "execute_result"
    }
   ],
   "source": [
    "accuracy_score(y, y_pred)"
   ]
  },
  {
   "cell_type": "code",
   "execution_count": 53,
   "metadata": {},
   "outputs": [
    {
     "name": "stdout",
     "output_type": "stream",
     "text": [
      "              precision    recall  f1-score   support\n",
      "\n",
      "           0       0.79      0.90      0.84       500\n",
      "           1       0.74      0.55      0.63       268\n",
      "\n",
      "    accuracy                           0.77       768\n",
      "   macro avg       0.76      0.72      0.73       768\n",
      "weighted avg       0.77      0.77      0.77       768\n",
      "\n"
     ]
    }
   ],
   "source": [
    "print(classification_report(y, y_pred))"
   ]
  },
  {
   "cell_type": "code",
   "execution_count": 54,
   "metadata": {},
   "outputs": [
    {
     "data": {
      "text/plain": [
       "array([0.64791081, 0.08386402, 0.77455727, 0.07966428, 0.83014128])"
      ]
     },
     "execution_count": 54,
     "metadata": {},
     "output_type": "execute_result"
    }
   ],
   "source": [
    "loj_model.predict_proba(X)[:,1][0:5]"
   ]
  },
  {
   "cell_type": "code",
   "execution_count": 55,
   "metadata": {},
   "outputs": [
    {
     "data": {
      "image/png": "[encoded data removed]",
      "text/plain": [
       "<Figure size 432x288 with 1 Axes>"
      ]
     },
     "metadata": {
      "needs_background": "light"
     },
     "output_type": "display_data"
    }
   ],
   "source": [
    "logit_roc_auc = roc_auc_score(y, loj_model.predict(X))\n",
    "\n",
    "fpr, tpr, thresholds = roc_curve(y, loj_model.predict_proba(X)[:,1])\n",
    "plt.figure()\n",
    "plt.plot(fpr, tpr, label='AUC (area = %0.2f)' % logit_roc_auc)\n",
    "plt.plot([0, 1], [0, 1],'r--')\n",
    "plt.xlim([0.0, 1.0])\n",
    "plt.ylim([0.0, 1.05])\n",
    "plt.xlabel('False Positive Oranı')\n",
    "plt.ylabel('True Positive Oranı')\n",
    "plt.title('ROC')\n",
    "plt.show()"
   ]
  },
  {
   "cell_type": "code",
   "execution_count": 56,
   "metadata": {},
   "outputs": [],
   "source": [
    "X_train, X_test, y_train, y_test = train_test_split(X, y, \n",
    "                                                    test_size = 0.30, \n",
    "                                                    random_state = 42)\n"
   ]
  },
  {
   "cell_type": "code",
   "execution_count": 57,
   "metadata": {},
   "outputs": [
    {
     "data": {
      "text/plain": [
       "LogisticRegression(solver='liblinear')"
      ]
     },
     "execution_count": 57,
     "metadata": {},
     "output_type": "execute_result"
    }
   ],
   "source": [
    "loj = LogisticRegression(solver = \"liblinear\")\n",
    "loj_model = loj.fit(X_train,y_train)\n",
    "loj_model"
   ]
  },
  {
   "cell_type": "code",
   "execution_count": 58,
   "metadata": {},
   "outputs": [
    {
     "data": {
      "text/plain": [
       "0.7532467532467533"
      ]
     },
     "execution_count": 58,
     "metadata": {},
     "output_type": "execute_result"
    }
   ],
   "source": [
    "accuracy_score(y_test, loj_model.predict(X_test))"
   ]
  },
  {
   "cell_type": "code",
   "execution_count": 59,
   "metadata": {},
   "outputs": [
    {
     "data": {
      "text/plain": [
       "0.7748188405797102"
      ]
     },
     "execution_count": 59,
     "metadata": {},
     "output_type": "execute_result"
    }
   ],
   "source": [
    "cross_val_score(loj_model, X_test, y_test, cv = 10).mean()"
   ]
  },
  {
   "cell_type": "markdown",
   "metadata": {},
   "source": [
    "# Gaussian Naive Bayes"
   ]
  },
  {
   "cell_type": "code",
   "execution_count": 60,
   "metadata": {},
   "outputs": [],
   "source": [
    "diabetes = pd.read_csv(\"diabetes.csv\")\n",
    "df = diabetes.copy()\n",
    "df = df.dropna()\n",
    "y = df[\"Outcome\"]\n",
    "X = df.drop(['Outcome'], axis=1)\n",
    "X_train, X_test, y_train, y_test = train_test_split(X, y, \n",
    "                                                    test_size=0.30, \n",
    "                                                    random_state=42)\n",
    "\n"
   ]
  },
  {
   "cell_type": "code",
   "execution_count": 61,
   "metadata": {},
   "outputs": [],
   "source": [
    "from sklearn.naive_bayes import GaussianNB"
   ]
  },
  {
   "cell_type": "code",
   "execution_count": 62,
   "metadata": {},
   "outputs": [
    {
     "data": {
      "text/plain": [
       "GaussianNB()"
      ]
     },
     "execution_count": 62,
     "metadata": {},
     "output_type": "execute_result"
    }
   ],
   "source": [
    "nb = GaussianNB()\n",
    "nb_model = nb.fit(X_train, y_train)\n",
    "nb_model"
   ]
  },
  {
   "cell_type": "code",
   "execution_count": 63,
   "metadata": {},
   "outputs": [
    {
     "data": {
      "text/plain": [
       "array([0, 0, 0, 0, 1, 1, 0, 0, 0, 1], dtype=int64)"
      ]
     },
     "execution_count": 63,
     "metadata": {},
     "output_type": "execute_result"
    }
   ],
   "source": [
    "nb_model.predict(X_test)[0:10]"
   ]
  },
  {
   "cell_type": "code",
   "execution_count": 64,
   "metadata": {},
   "outputs": [
    {
     "data": {
      "text/plain": [
       "array([[0.73815858, 0.26184142],\n",
       "       [0.94027894, 0.05972106],\n",
       "       [0.97242831, 0.02757169],\n",
       "       [0.82840069, 0.17159931],\n",
       "       [0.47153473, 0.52846527],\n",
       "       [0.47274458, 0.52725542],\n",
       "       [0.99607705, 0.00392295],\n",
       "       [0.69925055, 0.30074945],\n",
       "       [0.53838117, 0.46161883],\n",
       "       [0.25004536, 0.74995464]])"
      ]
     },
     "execution_count": 64,
     "metadata": {},
     "output_type": "execute_result"
    }
   ],
   "source": [
    "nb_model.predict_proba(X_test)[0:10]"
   ]
  },
  {
   "cell_type": "code",
   "execution_count": 65,
   "metadata": {},
   "outputs": [],
   "source": [
    "y_pred = nb_model.predict(X_test)"
   ]
  },
  {
   "cell_type": "code",
   "execution_count": 66,
   "metadata": {},
   "outputs": [
    {
     "data": {
      "text/plain": [
       "0.7445887445887446"
      ]
     },
     "execution_count": 66,
     "metadata": {},
     "output_type": "execute_result"
    }
   ],
   "source": [
    "accuracy_score(y_test, y_pred)"
   ]
  },
  {
   "cell_type": "code",
   "execution_count": 67,
   "metadata": {},
   "outputs": [
    {
     "data": {
      "text/plain": [
       "0.775"
      ]
     },
     "execution_count": 67,
     "metadata": {},
     "output_type": "execute_result"
    }
   ],
   "source": [
    "cross_val_score(nb_model, X_test, y_test, cv = 10).mean()"
   ]
  },
  {
   "cell_type": "markdown",
   "metadata": {},
   "source": [
    "# KNN"
   ]
  },
  {
   "cell_type": "markdown",
   "metadata": {},
   "source": [
    "## Model & Tahmin"
   ]
  },
  {
   "cell_type": "code",
   "execution_count": 68,
   "metadata": {},
   "outputs": [],
   "source": [
    "diabetes = pd.read_csv(\"diabetes.csv\")\n",
    "df = diabetes.copy()\n",
    "df = df.dropna()\n",
    "y = df[\"Outcome\"]\n",
    "X = df.drop(['Outcome'], axis=1)\n",
    "X_train, X_test, y_train, y_test = train_test_split(X, y, \n",
    "                                                    test_size=0.30, \n",
    "                                                    random_state=42)"
   ]
  },
  {
   "cell_type": "code",
   "execution_count": 69,
   "metadata": {},
   "outputs": [
    {
     "data": {
      "text/plain": [
       "KNeighborsClassifier()"
      ]
     },
     "execution_count": 69,
     "metadata": {},
     "output_type": "execute_result"
    }
   ],
   "source": [
    "knn = KNeighborsClassifier()\n",
    "knn_model = knn.fit(X_train, y_train)\n",
    "knn_model"
   ]
  },
  {
   "cell_type": "code",
   "execution_count": 70,
   "metadata": {},
   "outputs": [],
   "source": [
    "y_pred = knn_model.predict(X_test)"
   ]
  },
  {
   "cell_type": "code",
   "execution_count": 71,
   "metadata": {},
   "outputs": [
    {
     "data": {
      "text/plain": [
       "0.6883116883116883"
      ]
     },
     "execution_count": 71,
     "metadata": {},
     "output_type": "execute_result"
    }
   ],
   "source": [
    "accuracy_score(y_test, y_pred)"
   ]
  },
  {
   "cell_type": "code",
   "execution_count": 72,
   "metadata": {},
   "outputs": [
    {
     "name": "stdout",
     "output_type": "stream",
     "text": [
      "              precision    recall  f1-score   support\n",
      "\n",
      "           0       0.77      0.75      0.76       151\n",
      "           1       0.55      0.56      0.56        80\n",
      "\n",
      "    accuracy                           0.69       231\n",
      "   macro avg       0.66      0.66      0.66       231\n",
      "weighted avg       0.69      0.69      0.69       231\n",
      "\n"
     ]
    }
   ],
   "source": [
    "print(classification_report(y_test, y_pred))"
   ]
  },
  {
   "cell_type": "markdown",
   "metadata": {},
   "source": [
    "## Model Tuning"
   ]
  },
  {
   "cell_type": "code",
   "execution_count": 73,
   "metadata": {},
   "outputs": [],
   "source": [
    "knn_params = {\"n_neighbors\": np.arange(1,50)}"
   ]
  },
  {
   "cell_type": "code",
   "execution_count": 74,
   "metadata": {},
   "outputs": [
    {
     "data": {
      "text/plain": [
       "GridSearchCV(cv=10, estimator=KNeighborsClassifier(),\n",
       "             param_grid={'n_neighbors': array([ 1,  2,  3,  4,  5,  6,  7,  8,  9, 10, 11, 12, 13, 14, 15, 16, 17,\n",
       "       18, 19, 20, 21, 22, 23, 24, 25, 26, 27, 28, 29, 30, 31, 32, 33, 34,\n",
       "       35, 36, 37, 38, 39, 40, 41, 42, 43, 44, 45, 46, 47, 48, 49])})"
      ]
     },
     "execution_count": 74,
     "metadata": {},
     "output_type": "execute_result"
    }
   ],
   "source": [
    "knn = KNeighborsClassifier()\n",
    "knn_cv = GridSearchCV(knn, knn_params, cv=10)\n",
    "knn_cv.fit(X_train, y_train)"
   ]
  },
  {
   "cell_type": "code",
   "execution_count": 75,
   "metadata": {},
   "outputs": [
    {
     "name": "stdout",
     "output_type": "stream",
     "text": [
      "En iyi skor:0.748637316561845\n",
      "En iyi parametreler: {'n_neighbors': 11}\n"
     ]
    }
   ],
   "source": [
    "print(\"En iyi skor:\" + str(knn_cv.best_score_))\n",
    "print(\"En iyi parametreler: \" + str(knn_cv.best_params_))"
   ]
  },
  {
   "cell_type": "code",
   "execution_count": null,
   "metadata": {},
   "outputs": [],
   "source": []
  },
  {
   "cell_type": "code",
   "execution_count": 76,
   "metadata": {},
   "outputs": [],
   "source": [
    "knn = KNeighborsClassifier(11)\n",
    "knn_tuned = knn.fit(X_train, y_train)"
   ]
  },
  {
   "cell_type": "code",
   "execution_count": 77,
   "metadata": {},
   "outputs": [
    {
     "data": {
      "text/plain": [
       "0.7316017316017316"
      ]
     },
     "execution_count": 77,
     "metadata": {},
     "output_type": "execute_result"
    }
   ],
   "source": [
    "knn_tuned.score(X_test, y_test)"
   ]
  },
  {
   "cell_type": "code",
   "execution_count": 78,
   "metadata": {},
   "outputs": [],
   "source": [
    "y_pred = knn_tuned.predict(X_test)"
   ]
  },
  {
   "cell_type": "code",
   "execution_count": 79,
   "metadata": {},
   "outputs": [
    {
     "data": {
      "text/plain": [
       "0.7316017316017316"
      ]
     },
     "execution_count": 79,
     "metadata": {},
     "output_type": "execute_result"
    }
   ],
   "source": [
    "accuracy_score(y_test, y_pred)"
   ]
  },
  {
   "cell_type": "markdown",
   "metadata": {},
   "source": [
    "# SVC"
   ]
  },
  {
   "cell_type": "markdown",
   "metadata": {},
   "source": [
    "## Model & Tahmin"
   ]
  },
  {
   "cell_type": "code",
   "execution_count": 80,
   "metadata": {},
   "outputs": [],
   "source": [
    "diabetes = pd.read_csv(\"diabetes.csv\")\n",
    "df = diabetes.copy()\n",
    "df = df.dropna()\n",
    "y = df[\"Outcome\"]\n",
    "X = df.drop(['Outcome'], axis=1)\n",
    "X_train, X_test, y_train, y_test = train_test_split(X, y, \n",
    "                                                    test_size=0.30, \n",
    "                                                    random_state=42)"
   ]
  },
  {
   "cell_type": "code",
   "execution_count": 81,
   "metadata": {},
   "outputs": [],
   "source": [
    "svm_model = SVC(kernel = \"linear\").fit(X_train, y_train)"
   ]
  },
  {
   "cell_type": "code",
   "execution_count": 82,
   "metadata": {},
   "outputs": [
    {
     "data": {
      "text/plain": [
       "SVC(kernel='linear')"
      ]
     },
     "execution_count": 82,
     "metadata": {},
     "output_type": "execute_result"
    }
   ],
   "source": [
    "svm_model"
   ]
  },
  {
   "cell_type": "code",
   "execution_count": 83,
   "metadata": {},
   "outputs": [],
   "source": [
    "y_pred = svm_model.predict(X_test)"
   ]
  },
  {
   "cell_type": "code",
   "execution_count": 84,
   "metadata": {},
   "outputs": [
    {
     "data": {
      "text/plain": [
       "0.7445887445887446"
      ]
     },
     "execution_count": 84,
     "metadata": {},
     "output_type": "execute_result"
    }
   ],
   "source": [
    "accuracy_score(y_test, y_pred)"
   ]
  },
  {
   "cell_type": "markdown",
   "metadata": {},
   "source": [
    "# RBF SVC"
   ]
  },
  {
   "cell_type": "markdown",
   "metadata": {},
   "source": [
    "## Model & Tahmin"
   ]
  },
  {
   "cell_type": "code",
   "execution_count": 90,
   "metadata": {},
   "outputs": [],
   "source": [
    "diabetes = pd.read_csv(\"diabetes.csv\")\n",
    "df = diabetes.copy()\n",
    "df = df.dropna()\n",
    "y = df[\"Outcome\"]\n",
    "X = df.drop(['Outcome'], axis=1)\n",
    "X_train, X_test, y_train, y_test = train_test_split(X, y, \n",
    "                                                    test_size=0.30, \n",
    "                                                    random_state=42)"
   ]
  },
  {
   "cell_type": "code",
   "execution_count": 91,
   "metadata": {},
   "outputs": [],
   "source": [
    "svc_model = SVC(kernel = \"rbf\").fit(X_train, y_train)"
   ]
  },
  {
   "cell_type": "code",
   "execution_count": 92,
   "metadata": {},
   "outputs": [
    {
     "data": {
      "text/plain": [
       "['C',\n",
       " '__abstractmethods__',\n",
       " '__class__',\n",
       " '__delattr__',\n",
       " '__dict__',\n",
       " '__dir__',\n",
       " '__doc__',\n",
       " '__eq__',\n",
       " '__format__',\n",
       " '__ge__',\n",
       " '__getattribute__',\n",
       " '__getstate__',\n",
       " '__gt__',\n",
       " '__hash__',\n",
       " '__init__',\n",
       " '__init_subclass__',\n",
       " '__le__',\n",
       " '__lt__',\n",
       " '__module__',\n",
       " '__ne__',\n",
       " '__new__',\n",
       " '__reduce__',\n",
       " '__reduce_ex__',\n",
       " '__repr__',\n",
       " '__setattr__',\n",
       " '__setstate__',\n",
       " '__sizeof__',\n",
       " '__str__',\n",
       " '__subclasshook__',\n",
       " '__weakref__',\n",
       " '_abc_impl',\n",
       " '_check_feature_names',\n",
       " '_check_n_features',\n",
       " '_check_proba',\n",
       " '_compute_kernel',\n",
       " '_decision_function',\n",
       " '_dense_decision_function',\n",
       " '_dense_fit',\n",
       " '_dense_predict',\n",
       " '_dense_predict_proba',\n",
       " '_dual_coef_',\n",
       " '_estimator_type',\n",
       " '_gamma',\n",
       " '_get_coef',\n",
       " '_get_param_names',\n",
       " '_get_tags',\n",
       " '_impl',\n",
       " '_intercept_',\n",
       " '_more_tags',\n",
       " '_n_support',\n",
       " '_pairwise',\n",
       " '_probA',\n",
       " '_probB',\n",
       " '_repr_html_',\n",
       " '_repr_html_inner',\n",
       " '_repr_mimebundle_',\n",
       " '_sparse',\n",
       " '_sparse_decision_function',\n",
       " '_sparse_fit',\n",
       " '_sparse_kernels',\n",
       " '_sparse_predict',\n",
       " '_sparse_predict_proba',\n",
       " '_validate_data',\n",
       " '_validate_for_predict',\n",
       " '_validate_targets',\n",
       " '_warn_from_fit_status',\n",
       " 'break_ties',\n",
       " 'cache_size',\n",
       " 'class_weight',\n",
       " 'class_weight_',\n",
       " 'classes_',\n",
       " 'coef0',\n",
       " 'coef_',\n",
       " 'decision_function',\n",
       " 'decision_function_shape',\n",
       " 'degree',\n",
       " 'dual_coef_',\n",
       " 'epsilon',\n",
       " 'feature_names_in_',\n",
       " 'fit',\n",
       " 'fit_status_',\n",
       " 'gamma',\n",
       " 'get_params',\n",
       " 'intercept_',\n",
       " 'kernel',\n",
       " 'max_iter',\n",
       " 'n_features_in_',\n",
       " 'n_support_',\n",
       " 'nu',\n",
       " 'predict',\n",
       " 'predict_log_proba',\n",
       " 'predict_proba',\n",
       " 'probA_',\n",
       " 'probB_',\n",
       " 'probability',\n",
       " 'random_state',\n",
       " 'score',\n",
       " 'set_params',\n",
       " 'shape_fit_',\n",
       " 'shrinking',\n",
       " 'support_',\n",
       " 'support_vectors_',\n",
       " 'tol',\n",
       " 'verbose']"
      ]
     },
     "execution_count": 92,
     "metadata": {},
     "output_type": "execute_result"
    }
   ],
   "source": [
    "dir(svc_model)"
   ]
  },
  {
   "cell_type": "code",
   "execution_count": 93,
   "metadata": {},
   "outputs": [
    {
     "data": {
      "text/plain": [
       "0.7359307359307359"
      ]
     },
     "execution_count": 93,
     "metadata": {},
     "output_type": "execute_result"
    }
   ],
   "source": [
    "y_pred = svc_model.predict(X_test)\n",
    "accuracy_score(y_test, y_pred)"
   ]
  },
  {
   "cell_type": "markdown",
   "metadata": {},
   "source": [
    "## Model Tuning"
   ]
  },
  {
   "cell_type": "code",
   "execution_count": null,
   "metadata": {},
   "outputs": [],
   "source": [
    "svc_params = {\"C\": [0.0001, 0.001, 0.1, 1, 5, 10 ,50 ,100],\n",
    "             \"gamma\": [0.0001, 0.001, 0.1, 1, 5, 10 ,50 ,100]}"
   ]
  },
  {
   "cell_type": "code",
   "execution_count": null,
   "metadata": {},
   "outputs": [
    {
     "name": "stdout",
     "output_type": "stream",
     "text": [
      "Fitting 10 folds for each of 64 candidates, totalling 640 fits\n"
     ]
    },
    {
     "data": {
      "text/plain": [
       "GridSearchCV(cv=10, estimator=SVC(), n_jobs=-1,\n",
       "             param_grid={'C': [0.0001, 0.001, 0.1, 1, 5, 10, 50, 100],\n",
       "                         'gamma': [0.0001, 0.001, 0.1, 1, 5, 10, 50, 100]},\n",
       "             verbose=2)"
      ]
     },
     "execution_count": 17,
     "metadata": {},
     "output_type": "execute_result"
    }
   ],
   "source": [
    "svc = SVC()\n",
    "svc_cv_model = GridSearchCV(svc, svc_params, \n",
    "                         cv = 10, \n",
    "                         n_jobs = -1,\n",
    "                         verbose = 2)\n",
    "\n",
    "svc_cv_model.fit(X_train, y_train)"
   ]
  },
  {
   "cell_type": "code",
   "execution_count": null,
   "metadata": {},
   "outputs": [
    {
     "name": "stdout",
     "output_type": "stream",
     "text": [
      "En iyi parametreler: {'C': 10, 'gamma': 0.0001}\n"
     ]
    }
   ],
   "source": [
    "print(\"En iyi parametreler: \" + str(svc_cv_model.best_params_))"
   ]
  },
  {
   "cell_type": "code",
   "execution_count": 94,
   "metadata": {},
   "outputs": [],
   "source": [
    "svc_tuned = SVC(C = 10, gamma = 0.0001).fit(X_train, y_train)"
   ]
  },
  {
   "cell_type": "code",
   "execution_count": 95,
   "metadata": {},
   "outputs": [
    {
     "data": {
      "text/plain": [
       "0.7359307359307359"
      ]
     },
     "execution_count": 95,
     "metadata": {},
     "output_type": "execute_result"
    }
   ],
   "source": [
    "y_pred = svc_tuned.predict(X_test)\n",
    "accuracy_score(y_test, y_pred)"
   ]
  },
  {
   "cell_type": "markdown",
   "metadata": {},
   "source": [
    "# Yapay Sinir Ağları"
   ]
  },
  {
   "cell_type": "markdown",
   "metadata": {},
   "source": [
    "## Model & Tahmin"
   ]
  },
  {
   "cell_type": "code",
   "execution_count": 96,
   "metadata": {},
   "outputs": [],
   "source": [
    "diabetes = pd.read_csv(\"diabetes.csv\")\n",
    "df = diabetes.copy()\n",
    "df = df.dropna()\n",
    "y = df[\"Outcome\"]\n",
    "X = df.drop(['Outcome'], axis=1)\n",
    "X_train, X_test, y_train, y_test = train_test_split(X, y, \n",
    "                                                    test_size=0.30, \n",
    "                                                    random_state=42)"
   ]
  },
  {
   "cell_type": "code",
   "execution_count": 97,
   "metadata": {},
   "outputs": [],
   "source": [
    "from sklearn.preprocessing import StandardScaler  "
   ]
  },
  {
   "cell_type": "code",
   "execution_count": 98,
   "metadata": {},
   "outputs": [],
   "source": [
    "scaler = StandardScaler()"
   ]
  },
  {
   "cell_type": "code",
   "execution_count": 99,
   "metadata": {},
   "outputs": [],
   "source": [
    "scaler.fit(X_train)\n",
    "X_train_scaled = scaler.transform(X_train)\n",
    "X_test_scaled = scaler.transform(X_test)"
   ]
  },
  {
   "cell_type": "code",
   "execution_count": 100,
   "metadata": {},
   "outputs": [
    {
     "data": {
      "text/plain": [
       "array([[ 0.69748316, -0.70719864, -0.64639893,  0.81207927,  0.95720244,\n",
       "         0.26575953, -0.11680393,  0.85019217],\n",
       "       [-0.52953881, -0.27388818,  0.29399563,  0.74746428, -0.6936878 ,\n",
       "         0.488933  , -0.94192338, -1.03426754],\n",
       "       [-0.52953881, -0.39769117, -0.31449497, -1.3202154 , -0.6936878 ,\n",
       "        -0.1543317 , -0.91266382, -1.03426754],\n",
       "       [ 1.31099414, -0.42864191,  0.57058226, -1.3202154 , -0.6936878 ,\n",
       "        -0.96825847,  1.12965312,  0.07927683],\n",
       "       [ 1.00423865,  0.46892976,  1.12375553, -1.3202154 , -0.6936878 ,\n",
       "        -0.27248236, -0.76051413,  1.44979298]])"
      ]
     },
     "execution_count": 100,
     "metadata": {},
     "output_type": "execute_result"
    }
   ],
   "source": [
    "X_test_scaled[0:5]"
   ]
  },
  {
   "cell_type": "code",
   "execution_count": 101,
   "metadata": {},
   "outputs": [],
   "source": [
    "from sklearn.neural_network import MLPClassifier"
   ]
  },
  {
   "cell_type": "code",
   "execution_count": 102,
   "metadata": {},
   "outputs": [],
   "source": [
    "mlpc = MLPClassifier().fit(X_train_scaled, y_train)"
   ]
  },
  {
   "cell_type": "code",
   "execution_count": 103,
   "metadata": {},
   "outputs": [
    {
     "data": {
      "text/plain": [
       "0.7316017316017316"
      ]
     },
     "execution_count": 103,
     "metadata": {},
     "output_type": "execute_result"
    }
   ],
   "source": [
    "y_pred = mlpc.predict(X_test_scaled)\n",
    "accuracy_score(y_test, y_pred)"
   ]
  },
  {
   "cell_type": "markdown",
   "metadata": {},
   "source": [
    "## Model Tuning"
   ]
  },
  {
   "cell_type": "code",
   "execution_count": null,
   "metadata": {},
   "outputs": [
    {
     "data": {
      "text/plain": [
       "MLPClassifier()"
      ]
     },
     "execution_count": 10,
     "metadata": {},
     "output_type": "execute_result"
    }
   ],
   "source": [
    "mlpc"
   ]
  },
  {
   "cell_type": "code",
   "execution_count": null,
   "metadata": {},
   "outputs": [
    {
     "name": "stdout",
     "output_type": "stream",
     "text": [
      "\u001b[1;31mType:\u001b[0m        MLPClassifier\n",
      "\u001b[1;31mString form:\u001b[0m MLPClassifier()\n",
      "\u001b[1;31mFile:\u001b[0m        c:\\users\\bilal\\appdata\\local\\programs\\python\\python39\\lib\\site-packages\\sklearn\\neural_network\\_multilayer_perceptron.py\n",
      "\u001b[1;31mDocstring:\u001b[0m  \n",
      "Multi-layer Perceptron classifier.\n",
      "\n",
      "This model optimizes the log-loss function using LBFGS or stochastic\n",
      "gradient descent.\n",
      "\n",
      ".. versionadded:: 0.18\n",
      "\n",
      "Parameters\n",
      "----------\n",
      "hidden_layer_sizes : tuple, length = n_layers - 2, default=(100,)\n",
      "    The ith element represents the number of neurons in the ith\n",
      "    hidden layer.\n",
      "\n",
      "activation : {'identity', 'logistic', 'tanh', 'relu'}, default='relu'\n",
      "    Activation function for the hidden layer.\n",
      "\n",
      "    - 'identity', no-op activation, useful to implement linear bottleneck,\n",
      "      returns f(x) = x\n",
      "\n",
      "    - 'logistic', the logistic sigmoid function,\n",
      "      returns f(x) = 1 / (1 + exp(-x)).\n",
      "\n",
      "    - 'tanh', the hyperbolic tan function,\n",
      "      returns f(x) = tanh(x).\n",
      "\n",
      "    - 'relu', the rectified linear unit function,\n",
      "      returns f(x) = max(0, x)\n",
      "\n",
      "solver : {'lbfgs', 'sgd', 'adam'}, default='adam'\n",
      "    The solver for weight optimization.\n",
      "\n",
      "    - 'lbfgs' is an optimizer in the family of quasi-Newton methods.\n",
      "\n",
      "    - 'sgd' refers to stochastic gradient descent.\n",
      "\n",
      "    - 'adam' refers to a stochastic gradient-based optimizer proposed\n",
      "      by Kingma, Diederik, and Jimmy Ba\n",
      "\n",
      "    Note: The default solver 'adam' works pretty well on relatively\n",
      "    large datasets (with thousands of training samples or more) in terms of\n",
      "    both training time and validation score.\n",
      "    For small datasets, however, 'lbfgs' can converge faster and perform\n",
      "    better.\n",
      "\n",
      "alpha : float, default=0.0001\n",
      "    L2 penalty (regularization term) parameter.\n",
      "\n",
      "batch_size : int, default='auto'\n",
      "    Size of minibatches for stochastic optimizers.\n",
      "    If the solver is 'lbfgs', the classifier will not use minibatch.\n",
      "    When set to \"auto\", `batch_size=min(200, n_samples)`.\n",
      "\n",
      "learning_rate : {'constant', 'invscaling', 'adaptive'}, default='constant'\n",
      "    Learning rate schedule for weight updates.\n",
      "\n",
      "    - 'constant' is a constant learning rate given by\n",
      "      'learning_rate_init'.\n",
      "\n",
      "    - 'invscaling' gradually decreases the learning rate at each\n",
      "      time step 't' using an inverse scaling exponent of 'power_t'.\n",
      "      effective_learning_rate = learning_rate_init / pow(t, power_t)\n",
      "\n",
      "    - 'adaptive' keeps the learning rate constant to\n",
      "      'learning_rate_init' as long as training loss keeps decreasing.\n",
      "      Each time two consecutive epochs fail to decrease training loss by at\n",
      "      least tol, or fail to increase validation score by at least tol if\n",
      "      'early_stopping' is on, the current learning rate is divided by 5.\n",
      "\n",
      "    Only used when ``solver='sgd'``.\n",
      "\n",
      "learning_rate_init : float, default=0.001\n",
      "    The initial learning rate used. It controls the step-size\n",
      "    in updating the weights. Only used when solver='sgd' or 'adam'.\n",
      "\n",
      "power_t : float, default=0.5\n",
      "    The exponent for inverse scaling learning rate.\n",
      "    It is used in updating effective learning rate when the learning_rate\n",
      "    is set to 'invscaling'. Only used when solver='sgd'.\n",
      "\n",
      "max_iter : int, default=200\n",
      "    Maximum number of iterations. The solver iterates until convergence\n",
      "    (determined by 'tol') or this number of iterations. For stochastic\n",
      "    solvers ('sgd', 'adam'), note that this determines the number of epochs\n",
      "    (how many times each data point will be used), not the number of\n",
      "    gradient steps.\n",
      "\n",
      "shuffle : bool, default=True\n",
      "    Whether to shuffle samples in each iteration. Only used when\n",
      "    solver='sgd' or 'adam'.\n",
      "\n",
      "random_state : int, RandomState instance, default=None\n",
      "    Determines random number generation for weights and bias\n",
      "    initialization, train-test split if early stopping is used, and batch\n",
      "    sampling when solver='sgd' or 'adam'.\n",
      "    Pass an int for reproducible results across multiple function calls.\n",
      "    See :term:`Glossary <random_state>`.\n",
      "\n",
      "tol : float, default=1e-4\n",
      "    Tolerance for the optimization. When the loss or score is not improving\n",
      "    by at least ``tol`` for ``n_iter_no_change`` consecutive iterations,\n",
      "    unless ``learning_rate`` is set to 'adaptive', convergence is\n",
      "    considered to be reached and training stops.\n",
      "\n",
      "verbose : bool, default=False\n",
      "    Whether to print progress messages to stdout.\n",
      "\n",
      "warm_start : bool, default=False\n",
      "    When set to True, reuse the solution of the previous\n",
      "    call to fit as initialization, otherwise, just erase the\n",
      "    previous solution. See :term:`the Glossary <warm_start>`.\n",
      "\n",
      "momentum : float, default=0.9\n",
      "    Momentum for gradient descent update. Should be between 0 and 1. Only\n",
      "    used when solver='sgd'.\n",
      "\n",
      "nesterovs_momentum : bool, default=True\n",
      "    Whether to use Nesterov's momentum. Only used when solver='sgd' and\n",
      "    momentum > 0.\n",
      "\n",
      "early_stopping : bool, default=False\n",
      "    Whether to use early stopping to terminate training when validation\n",
      "    score is not improving. If set to true, it will automatically set\n",
      "    aside 10% of training data as validation and terminate training when\n",
      "    validation score is not improving by at least tol for\n",
      "    ``n_iter_no_change`` consecutive epochs. The split is stratified,\n",
      "    except in a multilabel setting.\n",
      "    If early stopping is False, then the training stops when the training\n",
      "    loss does not improve by more than tol for n_iter_no_change consecutive\n",
      "    passes over the training set.\n",
      "    Only effective when solver='sgd' or 'adam'.\n",
      "\n",
      "validation_fraction : float, default=0.1\n",
      "    The proportion of training data to set aside as validation set for\n",
      "    early stopping. Must be between 0 and 1.\n",
      "    Only used if early_stopping is True.\n",
      "\n",
      "beta_1 : float, default=0.9\n",
      "    Exponential decay rate for estimates of first moment vector in adam,\n",
      "    should be in [0, 1). Only used when solver='adam'.\n",
      "\n",
      "beta_2 : float, default=0.999\n",
      "    Exponential decay rate for estimates of second moment vector in adam,\n",
      "    should be in [0, 1). Only used when solver='adam'.\n",
      "\n",
      "epsilon : float, default=1e-8\n",
      "    Value for numerical stability in adam. Only used when solver='adam'.\n",
      "\n",
      "n_iter_no_change : int, default=10\n",
      "    Maximum number of epochs to not meet ``tol`` improvement.\n",
      "    Only effective when solver='sgd' or 'adam'.\n",
      "\n",
      "    .. versionadded:: 0.20\n",
      "\n",
      "max_fun : int, default=15000\n",
      "    Only used when solver='lbfgs'. Maximum number of loss function calls.\n",
      "    The solver iterates until convergence (determined by 'tol'), number\n",
      "    of iterations reaches max_iter, or this number of loss function calls.\n",
      "    Note that number of loss function calls will be greater than or equal\n",
      "    to the number of iterations for the `MLPClassifier`.\n",
      "\n",
      "    .. versionadded:: 0.22\n",
      "\n",
      "Attributes\n",
      "----------\n",
      "classes_ : ndarray or list of ndarray of shape (n_classes,)\n",
      "    Class labels for each output.\n",
      "\n",
      "loss_ : float\n",
      "    The current loss computed with the loss function.\n",
      "\n",
      "best_loss_ : float\n",
      "    The minimum loss reached by the solver throughout fitting.\n",
      "\n",
      "loss_curve_ : list of shape (`n_iter_`,)\n",
      "    The ith element in the list represents the loss at the ith iteration.\n",
      "\n",
      "t_ : int\n",
      "    The number of training samples seen by the solver during fitting.\n",
      "\n",
      "coefs_ : list of shape (n_layers - 1,)\n",
      "    The ith element in the list represents the weight matrix corresponding\n",
      "    to layer i.\n",
      "\n",
      "intercepts_ : list of shape (n_layers - 1,)\n",
      "    The ith element in the list represents the bias vector corresponding to\n",
      "    layer i + 1.\n",
      "\n",
      "n_features_in_ : int\n",
      "    Number of features seen during :term:`fit`.\n",
      "\n",
      "    .. versionadded:: 0.24\n",
      "\n",
      "feature_names_in_ : ndarray of shape (`n_features_in_`,)\n",
      "    Names of features seen during :term:`fit`. Defined only when `X`\n",
      "    has feature names that are all strings.\n",
      "\n",
      "    .. versionadded:: 1.0\n",
      "\n",
      "n_iter_ : int\n",
      "    The number of iterations the solver has run.\n",
      "\n",
      "n_layers_ : int\n",
      "    Number of layers.\n",
      "\n",
      "n_outputs_ : int\n",
      "    Number of outputs.\n",
      "\n",
      "out_activation_ : str\n",
      "    Name of the output activation function.\n",
      "\n",
      "See Also\n",
      "--------\n",
      "MLPRegressor : Multi-layer Perceptron regressor.\n",
      "BernoulliRBM : Bernoulli Restricted Boltzmann Machine (RBM).\n",
      "\n",
      "Notes\n",
      "-----\n",
      "MLPClassifier trains iteratively since at each time step\n",
      "the partial derivatives of the loss function with respect to the model\n",
      "parameters are computed to update the parameters.\n",
      "\n",
      "It can also have a regularization term added to the loss function\n",
      "that shrinks model parameters to prevent overfitting.\n",
      "\n",
      "This implementation works with data represented as dense numpy arrays or\n",
      "sparse scipy arrays of floating point values.\n",
      "\n",
      "References\n",
      "----------\n",
      "Hinton, Geoffrey E.\n",
      "    \"Connectionist learning procedures.\" Artificial intelligence 40.1\n",
      "    (1989): 185-234.\n",
      "\n",
      "Glorot, Xavier, and Yoshua Bengio. \"Understanding the difficulty of\n",
      "    training deep feedforward neural networks.\" International Conference\n",
      "    on Artificial Intelligence and Statistics. 2010.\n",
      "\n",
      "He, Kaiming, et al. \"Delving deep into rectifiers: Surpassing human-level\n",
      "    performance on imagenet classification.\" arXiv preprint\n",
      "    arXiv:1502.01852 (2015).\n",
      "\n",
      "Kingma, Diederik, and Jimmy Ba. \"Adam: A method for stochastic\n",
      "    optimization.\" arXiv preprint arXiv:1412.6980 (2014).\n",
      "\n",
      "Examples\n",
      "--------\n",
      ">>> from sklearn.neural_network import MLPClassifier\n",
      ">>> from sklearn.datasets import make_classification\n",
      ">>> from sklearn.model_selection import train_test_split\n",
      ">>> X, y = make_classification(n_samples=100, random_state=1)\n",
      ">>> X_train, X_test, y_train, y_test = train_test_split(X, y, stratify=y,\n",
      "...                                                     random_state=1)\n",
      ">>> clf = MLPClassifier(random_state=1, max_iter=300).fit(X_train, y_train)\n",
      ">>> clf.predict_proba(X_test[:1])\n",
      "array([[0.038..., 0.961...]])\n",
      ">>> clf.predict(X_test[:5, :])\n",
      "array([1, 0, 1, 0, 1])\n",
      ">>> clf.score(X_test, y_test)\n",
      "0.8...\n"
     ]
    }
   ],
   "source": [
    "?mlpc"
   ]
  },
  {
   "cell_type": "code",
   "execution_count": null,
   "metadata": {},
   "outputs": [],
   "source": [
    "mlpc_params = {\"alpha\": [0.1, 0.01, 0.02, 0.005, 0.0001,0.00001],\n",
    "              \"hidden_layer_sizes\": [(10,10,10),\n",
    "                                     (100,100,100),\n",
    "                                     (100,100),\n",
    "                                     (3,5), \n",
    "                                     (5, 3)],\n",
    "              \"solver\" : [\"lbfgs\",\"adam\",\"sgd\"],\n",
    "              \"activation\": [\"relu\",\"logistic\"]}\n"
   ]
  },
  {
   "cell_type": "code",
   "execution_count": null,
   "metadata": {},
   "outputs": [
    {
     "name": "stdout",
     "output_type": "stream",
     "text": [
      "Fitting 10 folds for each of 180 candidates, totalling 1800 fits\n"
     ]
    },
    {
     "data": {
      "text/plain": [
       "GridSearchCV(cv=10, estimator=MLPClassifier(), n_jobs=-1,\n",
       "             param_grid={'activation': ['relu', 'logistic'],\n",
       "                         'alpha': [0.1, 0.01, 0.02, 0.005, 0.0001, 1e-05],\n",
       "                         'hidden_layer_sizes': [(10, 10, 10), (100, 100, 100),\n",
       "                                                (100, 100), (3, 5), (5, 3)],\n",
       "                         'solver': ['lbfgs', 'adam', 'sgd']},\n",
       "             verbose=2)"
      ]
     },
     "execution_count": 13,
     "metadata": {},
     "output_type": "execute_result"
    }
   ],
   "source": [
    "mlpc = MLPClassifier()\n",
    "mlpc_cv_model = GridSearchCV(mlpc, mlpc_params, \n",
    "                         cv = 10, \n",
    "                         n_jobs = -1,\n",
    "                         verbose = 2)\n",
    "\n",
    "mlpc_cv_model.fit(X_train_scaled, y_train)"
   ]
  },
  {
   "cell_type": "code",
   "execution_count": null,
   "metadata": {},
   "outputs": [
    {
     "name": "stdout",
     "output_type": "stream",
     "text": [
      "En iyi parametreler: {'activation': 'relu', 'alpha': 0.01, 'hidden_layer_sizes': (100, 100, 100), 'solver': 'sgd'}\n"
     ]
    }
   ],
   "source": [
    "print(\"En iyi parametreler: \" + str(mlpc_cv_model.best_params_))"
   ]
  },
  {
   "cell_type": "code",
   "execution_count": 104,
   "metadata": {},
   "outputs": [],
   "source": [
    "mlpc_tuned = MLPClassifier(activation = \"relu\", \n",
    "                           alpha = 0.01, \n",
    "                           hidden_layer_sizes = (100, 100, 100),\n",
    "                          solver = \"sgd\")"
   ]
  },
  {
   "cell_type": "code",
   "execution_count": 105,
   "metadata": {},
   "outputs": [
    {
     "data": {
      "text/plain": [
       "MLPClassifier(alpha=0.01, hidden_layer_sizes=(100, 100, 100), solver='sgd')"
      ]
     },
     "execution_count": 105,
     "metadata": {},
     "output_type": "execute_result"
    }
   ],
   "source": [
    "mlpc_tuned.fit(X_train_scaled, y_train)"
   ]
  },
  {
   "cell_type": "code",
   "execution_count": 106,
   "metadata": {},
   "outputs": [
    {
     "data": {
      "text/plain": [
       "0.7489177489177489"
      ]
     },
     "execution_count": 106,
     "metadata": {},
     "output_type": "execute_result"
    }
   ],
   "source": [
    "y_pred = mlpc_tuned.predict(X_test_scaled)\n",
    "accuracy_score(y_test, y_pred)"
   ]
  },
  {
   "cell_type": "markdown",
   "metadata": {},
   "source": [
    "# CART"
   ]
  },
  {
   "cell_type": "markdown",
   "metadata": {},
   "source": [
    "## Model & Tahmin"
   ]
  },
  {
   "cell_type": "code",
   "execution_count": 107,
   "metadata": {},
   "outputs": [],
   "source": [
    "diabetes = pd.read_csv(\"diabetes.csv\")\n",
    "df = diabetes.copy()\n",
    "df = df.dropna()\n",
    "y = df[\"Outcome\"]\n",
    "X = df.drop(['Outcome'], axis=1)\n",
    "#X = df[\"Pregnancies\"]\n",
    "X = pd.DataFrame(X)\n",
    "X_train, X_test, y_train, y_test = train_test_split(X, y, \n",
    "                                                    test_size=0.30, \n",
    "                                                    random_state=42)"
   ]
  },
  {
   "cell_type": "code",
   "execution_count": 108,
   "metadata": {},
   "outputs": [],
   "source": [
    "from sklearn.tree import DecisionTreeClassifier"
   ]
  },
  {
   "cell_type": "code",
   "execution_count": 109,
   "metadata": {},
   "outputs": [],
   "source": [
    "cart = DecisionTreeClassifier()\n",
    "cart_model = cart.fit(X_train, y_train)"
   ]
  },
  {
   "cell_type": "code",
   "execution_count": 110,
   "metadata": {},
   "outputs": [
    {
     "data": {
      "text/plain": [
       "DecisionTreeClassifier()"
      ]
     },
     "execution_count": 110,
     "metadata": {},
     "output_type": "execute_result"
    }
   ],
   "source": [
    "cart_model"
   ]
  },
  {
   "cell_type": "code",
   "execution_count": 111,
   "metadata": {},
   "outputs": [
    {
     "name": "stdout",
     "output_type": "stream",
     "text": [
      "((((((0 if x[6] <= 0.671999990940094 else 1 if x[6] <= 0.6974999904632568 else\n",
      "    0) if x[5] <= 31.40000057220459 else ((0 if x[3] <= 40.5 else 1) if x[1\n",
      "    ] <= 111.5 else ((0 if x[5] <= 32.59999942779541 else 1) if x[5] <= \n",
      "    37.39999961853027 else 0) if x[2] <= 72.0 else 1) if x[4] <= 9.0 else (\n",
      "    0 if x[6] <= 0.6395000219345093 else 1 if x[6] <= 0.6759999990463257 else\n",
      "    0) if x[0] <= 4.5 else 1 if x[7] <= 26.5 else 0) if x[5] <= \n",
      "    49.10000038146973 else 1) if x[1] <= 127.5 else 1 if x[2] <= 56.0 else \n",
      "    (0 if x[7] <= 27.5 else 0 if x[3] <= 14.5 else 1) if x[5] <= \n",
      "    30.300000190734863 else 1 if x[5] <= 32.000000953674316 else ((0 if x[5\n",
      "    ] <= 33.75 else 1) if x[0] <= 0.5 else 1 if x[5] <= 32.45000076293945 else\n",
      "    0) if x[2] <= 85.0 else 1) if x[7] <= 28.5 else (1 if x[7] <= 29.5 else\n",
      "    (1 if x[6] <= 0.4359999895095825 else 0) if x[5] <= 9.649999618530273 else\n",
      "    0 if x[1] <= 133.0 else (0 if x[2] <= 66.5 else 1) if x[2] <= 73.0 else\n",
      "    0) if x[5] <= 26.949999809265137 else (1 if x[1] <= 28.5 else 0 if x[0] <=\n",
      "    9.5 else 0 if x[6] <= 0.29099999368190765 else 1 if x[3] <= 36.0 else 0\n",
      "    ) if x[1] <= 94.5 else ((((0 if x[6] <= 0.24950000643730164 else 1 if x\n",
      "    [1] <= 126.5 else 0) if x[5] <= 28.34999942779541 else 1 if x[5] <= \n",
      "    31.15000057220459 else (1 if x[2] <= 66.0 else 0) if x[7] <= 36.5 else \n",
      "    (1 if x[6] <= 0.13649999350309372 else 0) if x[6] <= \n",
      "    0.21000000089406967 else 1 if x[0] <= 9.0 else 0 if x[6] <= \n",
      "    0.26500000059604645 else 1) if x[3] <= 26.5 else ((0 if x[1] <= 101.5 else\n",
      "    1 if x[5] <= 41.19999885559082 else 0) if x[2] <= 67.0 else 0 if x[2] <=\n",
      "    80.0 else 0 if x[4] <= 87.5 else 1) if x[1] <= 127.5 else (1 if x[5] <=\n",
      "    29.399999618530273 else 0) if x[3] <= 31.0 else 1) if x[2] <= 83.0 else\n",
      "    ((0 if x[3] <= 39.5 else 1 if x[1] <= 136.5 else 0) if x[5] <= \n",
      "    41.19999885559082 else 1) if x[4] <= 124.0 else 0 if x[3] <= 19.5 else \n",
      "    1) if x[6] <= 0.527999997138977 else ((((1 if x[6] <= \n",
      "    0.7639999985694885 else 0) if x[0] <= 2.0 else 1) if x[1] <= 132.0 else\n",
      "    0) if x[5] <= 29.09999942779541 else 0 if x[7] <= 50.0 else 1) if x[5] <=\n",
      "    31.600000381469727 else ((1 if x[2] <= 87.0 else 0 if x[7] <= 31.5 else\n",
      "    1) if x[3] <= 54.5 else 0) if x[6] <= 1.1489999890327454 else 1 if x[7] <=\n",
      "    36.0 else 0) if x[1] <= 154.5 else (1 if x[5] <= 25.350000381469727 else\n",
      "    (0 if x[7] <= 25.5 else 1) if x[7] <= 52.5 else 0) if x[5] <= \n",
      "    28.700000762939453 else (((((0 if x[2] <= 67.0 else 1) if x[4] <= 180.0\n",
      "     else 0) if x[4] <= 457.0 else 1) if x[7] <= 30.5 else 1) if x[6] <= \n",
      "    0.3044999986886978 else (1 if x[1] <= 164.5 else 0) if x[1] <= 165.5 else\n",
      "    1) if x[6] <= 1.4275000095367432 else 1 if x[0] <= 3.5 else 0)\n",
      "\n"
     ]
    }
   ],
   "source": [
    "from skompiler import skompile\n",
    "print(skompile(cart_model.predict).to(\"python/code\"))"
   ]
  },
  {
   "cell_type": "code",
   "execution_count": 112,
   "metadata": {},
   "outputs": [],
   "source": [
    "x = [9]"
   ]
  },
  {
   "cell_type": "code",
   "execution_count": 113,
   "metadata": {},
   "outputs": [
    {
     "data": {
      "text/plain": [
       "1"
      ]
     },
     "execution_count": 113,
     "metadata": {},
     "output_type": "execute_result"
    }
   ],
   "source": [
    "((0 if x[0] <= 2.5 else 0) if x[0] <= 6.5 else 1 if x[0] <= 13.5 else 1)"
   ]
  },
  {
   "cell_type": "code",
   "execution_count": 114,
   "metadata": {},
   "outputs": [
    {
     "data": {
      "text/plain": [
       "0.7229437229437229"
      ]
     },
     "execution_count": 114,
     "metadata": {},
     "output_type": "execute_result"
    }
   ],
   "source": [
    "y_pred = cart_model.predict(X_test)\n",
    "accuracy_score(y_test, y_pred)"
   ]
  },
  {
   "cell_type": "markdown",
   "metadata": {},
   "source": [
    "## Model Tuning"
   ]
  },
  {
   "cell_type": "code",
   "execution_count": 115,
   "metadata": {},
   "outputs": [
    {
     "data": {
      "text/plain": [
       "DecisionTreeClassifier()"
      ]
     },
     "execution_count": 115,
     "metadata": {},
     "output_type": "execute_result"
    }
   ],
   "source": [
    "cart_model"
   ]
  },
  {
   "cell_type": "code",
   "execution_count": 116,
   "metadata": {},
   "outputs": [
    {
     "name": "stdout",
     "output_type": "stream",
     "text": [
      "\u001b[1;31mType:\u001b[0m        DecisionTreeClassifier\n",
      "\u001b[1;31mString form:\u001b[0m DecisionTreeClassifier()\n",
      "\u001b[1;31mFile:\u001b[0m        c:\\users\\bilal\\appdata\\local\\programs\\python\\python39\\lib\\site-packages\\sklearn\\tree\\_classes.py\n",
      "\u001b[1;31mDocstring:\u001b[0m  \n",
      "A decision tree classifier.\n",
      "\n",
      "Read more in the :ref:`User Guide <tree>`.\n",
      "\n",
      "Parameters\n",
      "----------\n",
      "criterion : {\"gini\", \"entropy\"}, default=\"gini\"\n",
      "    The function to measure the quality of a split. Supported criteria are\n",
      "    \"gini\" for the Gini impurity and \"entropy\" for the information gain.\n",
      "\n",
      "splitter : {\"best\", \"random\"}, default=\"best\"\n",
      "    The strategy used to choose the split at each node. Supported\n",
      "    strategies are \"best\" to choose the best split and \"random\" to choose\n",
      "    the best random split.\n",
      "\n",
      "max_depth : int, default=None\n",
      "    The maximum depth of the tree. If None, then nodes are expanded until\n",
      "    all leaves are pure or until all leaves contain less than\n",
      "    min_samples_split samples.\n",
      "\n",
      "min_samples_split : int or float, default=2\n",
      "    The minimum number of samples required to split an internal node:\n",
      "\n",
      "    - If int, then consider `min_samples_split` as the minimum number.\n",
      "    - If float, then `min_samples_split` is a fraction and\n",
      "      `ceil(min_samples_split * n_samples)` are the minimum\n",
      "      number of samples for each split.\n",
      "\n",
      "    .. versionchanged:: 0.18\n",
      "       Added float values for fractions.\n",
      "\n",
      "min_samples_leaf : int or float, default=1\n",
      "    The minimum number of samples required to be at a leaf node.\n",
      "    A split point at any depth will only be considered if it leaves at\n",
      "    least ``min_samples_leaf`` training samples in each of the left and\n",
      "    right branches.  This may have the effect of smoothing the model,\n",
      "    especially in regression.\n",
      "\n",
      "    - If int, then consider `min_samples_leaf` as the minimum number.\n",
      "    - If float, then `min_samples_leaf` is a fraction and\n",
      "      `ceil(min_samples_leaf * n_samples)` are the minimum\n",
      "      number of samples for each node.\n",
      "\n",
      "    .. versionchanged:: 0.18\n",
      "       Added float values for fractions.\n",
      "\n",
      "min_weight_fraction_leaf : float, default=0.0\n",
      "    The minimum weighted fraction of the sum total of weights (of all\n",
      "    the input samples) required to be at a leaf node. Samples have\n",
      "    equal weight when sample_weight is not provided.\n",
      "\n",
      "max_features : int, float or {\"auto\", \"sqrt\", \"log2\"}, default=None\n",
      "    The number of features to consider when looking for the best split:\n",
      "\n",
      "        - If int, then consider `max_features` features at each split.\n",
      "        - If float, then `max_features` is a fraction and\n",
      "          `int(max_features * n_features)` features are considered at each\n",
      "          split.\n",
      "        - If \"auto\", then `max_features=sqrt(n_features)`.\n",
      "        - If \"sqrt\", then `max_features=sqrt(n_features)`.\n",
      "        - If \"log2\", then `max_features=log2(n_features)`.\n",
      "        - If None, then `max_features=n_features`.\n",
      "\n",
      "    Note: the search for a split does not stop until at least one\n",
      "    valid partition of the node samples is found, even if it requires to\n",
      "    effectively inspect more than ``max_features`` features.\n",
      "\n",
      "random_state : int, RandomState instance or None, default=None\n",
      "    Controls the randomness of the estimator. The features are always\n",
      "    randomly permuted at each split, even if ``splitter`` is set to\n",
      "    ``\"best\"``. When ``max_features < n_features``, the algorithm will\n",
      "    select ``max_features`` at random at each split before finding the best\n",
      "    split among them. But the best found split may vary across different\n",
      "    runs, even if ``max_features=n_features``. That is the case, if the\n",
      "    improvement of the criterion is identical for several splits and one\n",
      "    split has to be selected at random. To obtain a deterministic behaviour\n",
      "    during fitting, ``random_state`` has to be fixed to an integer.\n",
      "    See :term:`Glossary <random_state>` for details.\n",
      "\n",
      "max_leaf_nodes : int, default=None\n",
      "    Grow a tree with ``max_leaf_nodes`` in best-first fashion.\n",
      "    Best nodes are defined as relative reduction in impurity.\n",
      "    If None then unlimited number of leaf nodes.\n",
      "\n",
      "min_impurity_decrease : float, default=0.0\n",
      "    A node will be split if this split induces a decrease of the impurity\n",
      "    greater than or equal to this value.\n",
      "\n",
      "    The weighted impurity decrease equation is the following::\n",
      "\n",
      "        N_t / N * (impurity - N_t_R / N_t * right_impurity\n",
      "                            - N_t_L / N_t * left_impurity)\n",
      "\n",
      "    where ``N`` is the total number of samples, ``N_t`` is the number of\n",
      "    samples at the current node, ``N_t_L`` is the number of samples in the\n",
      "    left child, and ``N_t_R`` is the number of samples in the right child.\n",
      "\n",
      "    ``N``, ``N_t``, ``N_t_R`` and ``N_t_L`` all refer to the weighted sum,\n",
      "    if ``sample_weight`` is passed.\n",
      "\n",
      "    .. versionadded:: 0.19\n",
      "\n",
      "class_weight : dict, list of dict or \"balanced\", default=None\n",
      "    Weights associated with classes in the form ``{class_label: weight}``.\n",
      "    If None, all classes are supposed to have weight one. For\n",
      "    multi-output problems, a list of dicts can be provided in the same\n",
      "    order as the columns of y.\n",
      "\n",
      "    Note that for multioutput (including multilabel) weights should be\n",
      "    defined for each class of every column in its own dict. For example,\n",
      "    for four-class multilabel classification weights should be\n",
      "    [{0: 1, 1: 1}, {0: 1, 1: 5}, {0: 1, 1: 1}, {0: 1, 1: 1}] instead of\n",
      "    [{1:1}, {2:5}, {3:1}, {4:1}].\n",
      "\n",
      "    The \"balanced\" mode uses the values of y to automatically adjust\n",
      "    weights inversely proportional to class frequencies in the input data\n",
      "    as ``n_samples / (n_classes * np.bincount(y))``\n",
      "\n",
      "    For multi-output, the weights of each column of y will be multiplied.\n",
      "\n",
      "    Note that these weights will be multiplied with sample_weight (passed\n",
      "    through the fit method) if sample_weight is specified.\n",
      "\n",
      "ccp_alpha : non-negative float, default=0.0\n",
      "    Complexity parameter used for Minimal Cost-Complexity Pruning. The\n",
      "    subtree with the largest cost complexity that is smaller than\n",
      "    ``ccp_alpha`` will be chosen. By default, no pruning is performed. See\n",
      "    :ref:`minimal_cost_complexity_pruning` for details.\n",
      "\n",
      "    .. versionadded:: 0.22\n",
      "\n",
      "Attributes\n",
      "----------\n",
      "classes_ : ndarray of shape (n_classes,) or list of ndarray\n",
      "    The classes labels (single output problem),\n",
      "    or a list of arrays of class labels (multi-output problem).\n",
      "\n",
      "feature_importances_ : ndarray of shape (n_features,)\n",
      "    The impurity-based feature importances.\n",
      "    The higher, the more important the feature.\n",
      "    The importance of a feature is computed as the (normalized)\n",
      "    total reduction of the criterion brought by that feature.  It is also\n",
      "    known as the Gini importance [4]_.\n",
      "\n",
      "    Warning: impurity-based feature importances can be misleading for\n",
      "    high cardinality features (many unique values). See\n",
      "    :func:`sklearn.inspection.permutation_importance` as an alternative.\n",
      "\n",
      "max_features_ : int\n",
      "    The inferred value of max_features.\n",
      "\n",
      "n_classes_ : int or list of int\n",
      "    The number of classes (for single output problems),\n",
      "    or a list containing the number of classes for each\n",
      "    output (for multi-output problems).\n",
      "\n",
      "n_features_ : int\n",
      "    The number of features when ``fit`` is performed.\n",
      "\n",
      "    .. deprecated:: 1.0\n",
      "       `n_features_` is deprecated in 1.0 and will be removed in\n",
      "       1.2. Use `n_features_in_` instead.\n",
      "\n",
      "n_features_in_ : int\n",
      "    Number of features seen during :term:`fit`.\n",
      "\n",
      "    .. versionadded:: 0.24\n",
      "\n",
      "feature_names_in_ : ndarray of shape (`n_features_in_`,)\n",
      "    Names of features seen during :term:`fit`. Defined only when `X`\n",
      "    has feature names that are all strings.\n",
      "\n",
      "    .. versionadded:: 1.0\n",
      "\n",
      "n_outputs_ : int\n",
      "    The number of outputs when ``fit`` is performed.\n",
      "\n",
      "tree_ : Tree instance\n",
      "    The underlying Tree object. Please refer to\n",
      "    ``help(sklearn.tree._tree.Tree)`` for attributes of Tree object and\n",
      "    :ref:`sphx_glr_auto_examples_tree_plot_unveil_tree_structure.py`\n",
      "    for basic usage of these attributes.\n",
      "\n",
      "See Also\n",
      "--------\n",
      "DecisionTreeRegressor : A decision tree regressor.\n",
      "\n",
      "Notes\n",
      "-----\n",
      "The default values for the parameters controlling the size of the trees\n",
      "(e.g. ``max_depth``, ``min_samples_leaf``, etc.) lead to fully grown and\n",
      "unpruned trees which can potentially be very large on some data sets. To\n",
      "reduce memory consumption, the complexity and size of the trees should be\n",
      "controlled by setting those parameter values.\n",
      "\n",
      "The :meth:`predict` method operates using the :func:`numpy.argmax`\n",
      "function on the outputs of :meth:`predict_proba`. This means that in\n",
      "case the highest predicted probabilities are tied, the classifier will\n",
      "predict the tied class with the lowest index in :term:`classes_`.\n",
      "\n",
      "References\n",
      "----------\n",
      "\n",
      ".. [1] https://en.wikipedia.org/wiki/Decision_tree_learning\n",
      "\n",
      ".. [2] L. Breiman, J. Friedman, R. Olshen, and C. Stone, \"Classification\n",
      "       and Regression Trees\", Wadsworth, Belmont, CA, 1984.\n",
      "\n",
      ".. [3] T. Hastie, R. Tibshirani and J. Friedman. \"Elements of Statistical\n",
      "       Learning\", Springer, 2009.\n",
      "\n",
      ".. [4] L. Breiman, and A. Cutler, \"Random Forests\",\n",
      "       https://www.stat.berkeley.edu/~breiman/RandomForests/cc_home.htm\n",
      "\n",
      "Examples\n",
      "--------\n",
      ">>> from sklearn.datasets import load_iris\n",
      ">>> from sklearn.model_selection import cross_val_score\n",
      ">>> from sklearn.tree import DecisionTreeClassifier\n",
      ">>> clf = DecisionTreeClassifier(random_state=0)\n",
      ">>> iris = load_iris()\n",
      ">>> cross_val_score(clf, iris.data, iris.target, cv=10)\n",
      "...                             # doctest: +SKIP\n",
      "...\n",
      "array([ 1.     ,  0.93...,  0.86...,  0.93...,  0.93...,\n",
      "        0.93...,  0.93...,  1.     ,  0.93...,  1.      ])\n"
     ]
    }
   ],
   "source": [
    "?cart_model"
   ]
  },
  {
   "cell_type": "code",
   "execution_count": 117,
   "metadata": {},
   "outputs": [],
   "source": [
    "cart_grid = {\"max_depth\": range(1,10),\n",
    "            \"min_samples_split\" : list(range(2,50)) }"
   ]
  },
  {
   "cell_type": "code",
   "execution_count": 118,
   "metadata": {},
   "outputs": [
    {
     "name": "stdout",
     "output_type": "stream",
     "text": [
      "Fitting 10 folds for each of 432 candidates, totalling 4320 fits\n"
     ]
    },
    {
     "ename": "KeyboardInterrupt",
     "evalue": "",
     "output_type": "error",
     "traceback": [
      "\u001b[1;31m---------------------------------------------------------------------------\u001b[0m",
      "\u001b[1;31mKeyboardInterrupt\u001b[0m                         Traceback (most recent call last)",
      "\u001b[1;32mc:\\Users\\Bilal\\Desktop\\Udemy\\Makine Öğrenmesi\\Makine Öğrenmesi 4 (Sınıflandırma Modelleri)\\siniflandirma_problemleri\\siniflandirma.ipynb Cell 121'\u001b[0m in \u001b[0;36m<cell line: 3>\u001b[1;34m()\u001b[0m\n\u001b[0;32m      <a href='vscode-notebook-cell:/c%3A/Users/Bilal/Desktop/Udemy/Makine%20%C3%96%C4%9Frenmesi/Makine%20%C3%96%C4%9Frenmesi%204%20%28S%C4%B1n%C4%B1fland%C4%B1rma%20Modelleri%29/siniflandirma_problemleri/siniflandirma.ipynb#ch0000120?line=0'>1</a>\u001b[0m cart \u001b[39m=\u001b[39m tree\u001b[39m.\u001b[39mDecisionTreeClassifier()\n\u001b[0;32m      <a href='vscode-notebook-cell:/c%3A/Users/Bilal/Desktop/Udemy/Makine%20%C3%96%C4%9Frenmesi/Makine%20%C3%96%C4%9Frenmesi%204%20%28S%C4%B1n%C4%B1fland%C4%B1rma%20Modelleri%29/siniflandirma_problemleri/siniflandirma.ipynb#ch0000120?line=1'>2</a>\u001b[0m cart_cv \u001b[39m=\u001b[39m GridSearchCV(cart, cart_grid, cv \u001b[39m=\u001b[39m \u001b[39m10\u001b[39m, n_jobs \u001b[39m=\u001b[39m \u001b[39m-\u001b[39m\u001b[39m1\u001b[39m, verbose \u001b[39m=\u001b[39m \u001b[39m2\u001b[39m)\n\u001b[1;32m----> <a href='vscode-notebook-cell:/c%3A/Users/Bilal/Desktop/Udemy/Makine%20%C3%96%C4%9Frenmesi/Makine%20%C3%96%C4%9Frenmesi%204%20%28S%C4%B1n%C4%B1fland%C4%B1rma%20Modelleri%29/siniflandirma_problemleri/siniflandirma.ipynb#ch0000120?line=2'>3</a>\u001b[0m cart_cv_model \u001b[39m=\u001b[39m cart_cv\u001b[39m.\u001b[39;49mfit(X_train, y_train)\n",
      "File \u001b[1;32mc:\\Users\\Bilal\\AppData\\Local\\Programs\\Python\\Python39\\lib\\site-packages\\sklearn\\model_selection\\_search.py:891\u001b[0m, in \u001b[0;36mBaseSearchCV.fit\u001b[1;34m(self, X, y, groups, **fit_params)\u001b[0m\n\u001b[0;32m    <a href='file:///c%3A/Users/Bilal/AppData/Local/Programs/Python/Python39/lib/site-packages/sklearn/model_selection/_search.py?line=884'>885</a>\u001b[0m     results \u001b[39m=\u001b[39m \u001b[39mself\u001b[39m\u001b[39m.\u001b[39m_format_results(\n\u001b[0;32m    <a href='file:///c%3A/Users/Bilal/AppData/Local/Programs/Python/Python39/lib/site-packages/sklearn/model_selection/_search.py?line=885'>886</a>\u001b[0m         all_candidate_params, n_splits, all_out, all_more_results\n\u001b[0;32m    <a href='file:///c%3A/Users/Bilal/AppData/Local/Programs/Python/Python39/lib/site-packages/sklearn/model_selection/_search.py?line=886'>887</a>\u001b[0m     )\n\u001b[0;32m    <a href='file:///c%3A/Users/Bilal/AppData/Local/Programs/Python/Python39/lib/site-packages/sklearn/model_selection/_search.py?line=888'>889</a>\u001b[0m     \u001b[39mreturn\u001b[39;00m results\n\u001b[1;32m--> <a href='file:///c%3A/Users/Bilal/AppData/Local/Programs/Python/Python39/lib/site-packages/sklearn/model_selection/_search.py?line=890'>891</a>\u001b[0m \u001b[39mself\u001b[39;49m\u001b[39m.\u001b[39;49m_run_search(evaluate_candidates)\n\u001b[0;32m    <a href='file:///c%3A/Users/Bilal/AppData/Local/Programs/Python/Python39/lib/site-packages/sklearn/model_selection/_search.py?line=892'>893</a>\u001b[0m \u001b[39m# multimetric is determined here because in the case of a callable\u001b[39;00m\n\u001b[0;32m    <a href='file:///c%3A/Users/Bilal/AppData/Local/Programs/Python/Python39/lib/site-packages/sklearn/model_selection/_search.py?line=893'>894</a>\u001b[0m \u001b[39m# self.scoring the return type is only known after calling\u001b[39;00m\n\u001b[0;32m    <a href='file:///c%3A/Users/Bilal/AppData/Local/Programs/Python/Python39/lib/site-packages/sklearn/model_selection/_search.py?line=894'>895</a>\u001b[0m first_test_score \u001b[39m=\u001b[39m all_out[\u001b[39m0\u001b[39m][\u001b[39m\"\u001b[39m\u001b[39mtest_scores\u001b[39m\u001b[39m\"\u001b[39m]\n",
      "File \u001b[1;32mc:\\Users\\Bilal\\AppData\\Local\\Programs\\Python\\Python39\\lib\\site-packages\\sklearn\\model_selection\\_search.py:1392\u001b[0m, in \u001b[0;36mGridSearchCV._run_search\u001b[1;34m(self, evaluate_candidates)\u001b[0m\n\u001b[0;32m   <a href='file:///c%3A/Users/Bilal/AppData/Local/Programs/Python/Python39/lib/site-packages/sklearn/model_selection/_search.py?line=1389'>1390</a>\u001b[0m \u001b[39mdef\u001b[39;00m \u001b[39m_run_search\u001b[39m(\u001b[39mself\u001b[39m, evaluate_candidates):\n\u001b[0;32m   <a href='file:///c%3A/Users/Bilal/AppData/Local/Programs/Python/Python39/lib/site-packages/sklearn/model_selection/_search.py?line=1390'>1391</a>\u001b[0m     \u001b[39m\"\"\"Search all candidates in param_grid\"\"\"\u001b[39;00m\n\u001b[1;32m-> <a href='file:///c%3A/Users/Bilal/AppData/Local/Programs/Python/Python39/lib/site-packages/sklearn/model_selection/_search.py?line=1391'>1392</a>\u001b[0m     evaluate_candidates(ParameterGrid(\u001b[39mself\u001b[39;49m\u001b[39m.\u001b[39;49mparam_grid))\n",
      "File \u001b[1;32mc:\\Users\\Bilal\\AppData\\Local\\Programs\\Python\\Python39\\lib\\site-packages\\sklearn\\model_selection\\_search.py:838\u001b[0m, in \u001b[0;36mBaseSearchCV.fit.<locals>.evaluate_candidates\u001b[1;34m(candidate_params, cv, more_results)\u001b[0m\n\u001b[0;32m    <a href='file:///c%3A/Users/Bilal/AppData/Local/Programs/Python/Python39/lib/site-packages/sklearn/model_selection/_search.py?line=829'>830</a>\u001b[0m \u001b[39mif\u001b[39;00m \u001b[39mself\u001b[39m\u001b[39m.\u001b[39mverbose \u001b[39m>\u001b[39m \u001b[39m0\u001b[39m:\n\u001b[0;32m    <a href='file:///c%3A/Users/Bilal/AppData/Local/Programs/Python/Python39/lib/site-packages/sklearn/model_selection/_search.py?line=830'>831</a>\u001b[0m     \u001b[39mprint\u001b[39m(\n\u001b[0;32m    <a href='file:///c%3A/Users/Bilal/AppData/Local/Programs/Python/Python39/lib/site-packages/sklearn/model_selection/_search.py?line=831'>832</a>\u001b[0m         \u001b[39m\"\u001b[39m\u001b[39mFitting \u001b[39m\u001b[39m{0}\u001b[39;00m\u001b[39m folds for each of \u001b[39m\u001b[39m{1}\u001b[39;00m\u001b[39m candidates,\u001b[39m\u001b[39m\"\u001b[39m\n\u001b[0;32m    <a href='file:///c%3A/Users/Bilal/AppData/Local/Programs/Python/Python39/lib/site-packages/sklearn/model_selection/_search.py?line=832'>833</a>\u001b[0m         \u001b[39m\"\u001b[39m\u001b[39m totalling \u001b[39m\u001b[39m{2}\u001b[39;00m\u001b[39m fits\u001b[39m\u001b[39m\"\u001b[39m\u001b[39m.\u001b[39mformat(\n\u001b[0;32m    <a href='file:///c%3A/Users/Bilal/AppData/Local/Programs/Python/Python39/lib/site-packages/sklearn/model_selection/_search.py?line=833'>834</a>\u001b[0m             n_splits, n_candidates, n_candidates \u001b[39m*\u001b[39m n_splits\n\u001b[0;32m    <a href='file:///c%3A/Users/Bilal/AppData/Local/Programs/Python/Python39/lib/site-packages/sklearn/model_selection/_search.py?line=834'>835</a>\u001b[0m         )\n\u001b[0;32m    <a href='file:///c%3A/Users/Bilal/AppData/Local/Programs/Python/Python39/lib/site-packages/sklearn/model_selection/_search.py?line=835'>836</a>\u001b[0m     )\n\u001b[1;32m--> <a href='file:///c%3A/Users/Bilal/AppData/Local/Programs/Python/Python39/lib/site-packages/sklearn/model_selection/_search.py?line=837'>838</a>\u001b[0m out \u001b[39m=\u001b[39m parallel(\n\u001b[0;32m    <a href='file:///c%3A/Users/Bilal/AppData/Local/Programs/Python/Python39/lib/site-packages/sklearn/model_selection/_search.py?line=838'>839</a>\u001b[0m     delayed(_fit_and_score)(\n\u001b[0;32m    <a href='file:///c%3A/Users/Bilal/AppData/Local/Programs/Python/Python39/lib/site-packages/sklearn/model_selection/_search.py?line=839'>840</a>\u001b[0m         clone(base_estimator),\n\u001b[0;32m    <a href='file:///c%3A/Users/Bilal/AppData/Local/Programs/Python/Python39/lib/site-packages/sklearn/model_selection/_search.py?line=840'>841</a>\u001b[0m         X,\n\u001b[0;32m    <a href='file:///c%3A/Users/Bilal/AppData/Local/Programs/Python/Python39/lib/site-packages/sklearn/model_selection/_search.py?line=841'>842</a>\u001b[0m         y,\n\u001b[0;32m    <a href='file:///c%3A/Users/Bilal/AppData/Local/Programs/Python/Python39/lib/site-packages/sklearn/model_selection/_search.py?line=842'>843</a>\u001b[0m         train\u001b[39m=\u001b[39;49mtrain,\n\u001b[0;32m    <a href='file:///c%3A/Users/Bilal/AppData/Local/Programs/Python/Python39/lib/site-packages/sklearn/model_selection/_search.py?line=843'>844</a>\u001b[0m         test\u001b[39m=\u001b[39;49mtest,\n\u001b[0;32m    <a href='file:///c%3A/Users/Bilal/AppData/Local/Programs/Python/Python39/lib/site-packages/sklearn/model_selection/_search.py?line=844'>845</a>\u001b[0m         parameters\u001b[39m=\u001b[39;49mparameters,\n\u001b[0;32m    <a href='file:///c%3A/Users/Bilal/AppData/Local/Programs/Python/Python39/lib/site-packages/sklearn/model_selection/_search.py?line=845'>846</a>\u001b[0m         split_progress\u001b[39m=\u001b[39;49m(split_idx, n_splits),\n\u001b[0;32m    <a href='file:///c%3A/Users/Bilal/AppData/Local/Programs/Python/Python39/lib/site-packages/sklearn/model_selection/_search.py?line=846'>847</a>\u001b[0m         candidate_progress\u001b[39m=\u001b[39;49m(cand_idx, n_candidates),\n\u001b[0;32m    <a href='file:///c%3A/Users/Bilal/AppData/Local/Programs/Python/Python39/lib/site-packages/sklearn/model_selection/_search.py?line=847'>848</a>\u001b[0m         \u001b[39m*\u001b[39;49m\u001b[39m*\u001b[39;49mfit_and_score_kwargs,\n\u001b[0;32m    <a href='file:///c%3A/Users/Bilal/AppData/Local/Programs/Python/Python39/lib/site-packages/sklearn/model_selection/_search.py?line=848'>849</a>\u001b[0m     )\n\u001b[0;32m    <a href='file:///c%3A/Users/Bilal/AppData/Local/Programs/Python/Python39/lib/site-packages/sklearn/model_selection/_search.py?line=849'>850</a>\u001b[0m     \u001b[39mfor\u001b[39;49;00m (cand_idx, parameters), (split_idx, (train, test)) \u001b[39min\u001b[39;49;00m product(\n\u001b[0;32m    <a href='file:///c%3A/Users/Bilal/AppData/Local/Programs/Python/Python39/lib/site-packages/sklearn/model_selection/_search.py?line=850'>851</a>\u001b[0m         \u001b[39menumerate\u001b[39;49m(candidate_params), \u001b[39menumerate\u001b[39;49m(cv\u001b[39m.\u001b[39;49msplit(X, y, groups))\n\u001b[0;32m    <a href='file:///c%3A/Users/Bilal/AppData/Local/Programs/Python/Python39/lib/site-packages/sklearn/model_selection/_search.py?line=851'>852</a>\u001b[0m     )\n\u001b[0;32m    <a href='file:///c%3A/Users/Bilal/AppData/Local/Programs/Python/Python39/lib/site-packages/sklearn/model_selection/_search.py?line=852'>853</a>\u001b[0m )\n\u001b[0;32m    <a href='file:///c%3A/Users/Bilal/AppData/Local/Programs/Python/Python39/lib/site-packages/sklearn/model_selection/_search.py?line=854'>855</a>\u001b[0m \u001b[39mif\u001b[39;00m \u001b[39mlen\u001b[39m(out) \u001b[39m<\u001b[39m \u001b[39m1\u001b[39m:\n\u001b[0;32m    <a href='file:///c%3A/Users/Bilal/AppData/Local/Programs/Python/Python39/lib/site-packages/sklearn/model_selection/_search.py?line=855'>856</a>\u001b[0m     \u001b[39mraise\u001b[39;00m \u001b[39mValueError\u001b[39;00m(\n\u001b[0;32m    <a href='file:///c%3A/Users/Bilal/AppData/Local/Programs/Python/Python39/lib/site-packages/sklearn/model_selection/_search.py?line=856'>857</a>\u001b[0m         \u001b[39m\"\u001b[39m\u001b[39mNo fits were performed. \u001b[39m\u001b[39m\"\u001b[39m\n\u001b[0;32m    <a href='file:///c%3A/Users/Bilal/AppData/Local/Programs/Python/Python39/lib/site-packages/sklearn/model_selection/_search.py?line=857'>858</a>\u001b[0m         \u001b[39m\"\u001b[39m\u001b[39mWas the CV iterator empty? \u001b[39m\u001b[39m\"\u001b[39m\n\u001b[0;32m    <a href='file:///c%3A/Users/Bilal/AppData/Local/Programs/Python/Python39/lib/site-packages/sklearn/model_selection/_search.py?line=858'>859</a>\u001b[0m         \u001b[39m\"\u001b[39m\u001b[39mWere there no candidates?\u001b[39m\u001b[39m\"\u001b[39m\n\u001b[0;32m    <a href='file:///c%3A/Users/Bilal/AppData/Local/Programs/Python/Python39/lib/site-packages/sklearn/model_selection/_search.py?line=859'>860</a>\u001b[0m     )\n",
      "File \u001b[1;32mc:\\Users\\Bilal\\AppData\\Local\\Programs\\Python\\Python39\\lib\\site-packages\\joblib\\parallel.py:1056\u001b[0m, in \u001b[0;36mParallel.__call__\u001b[1;34m(self, iterable)\u001b[0m\n\u001b[0;32m   <a href='file:///c%3A/Users/Bilal/AppData/Local/Programs/Python/Python39/lib/site-packages/joblib/parallel.py?line=1052'>1053</a>\u001b[0m     \u001b[39mself\u001b[39m\u001b[39m.\u001b[39m_iterating \u001b[39m=\u001b[39m \u001b[39mFalse\u001b[39;00m\n\u001b[0;32m   <a href='file:///c%3A/Users/Bilal/AppData/Local/Programs/Python/Python39/lib/site-packages/joblib/parallel.py?line=1054'>1055</a>\u001b[0m \u001b[39mwith\u001b[39;00m \u001b[39mself\u001b[39m\u001b[39m.\u001b[39m_backend\u001b[39m.\u001b[39mretrieval_context():\n\u001b[1;32m-> <a href='file:///c%3A/Users/Bilal/AppData/Local/Programs/Python/Python39/lib/site-packages/joblib/parallel.py?line=1055'>1056</a>\u001b[0m     \u001b[39mself\u001b[39;49m\u001b[39m.\u001b[39;49mretrieve()\n\u001b[0;32m   <a href='file:///c%3A/Users/Bilal/AppData/Local/Programs/Python/Python39/lib/site-packages/joblib/parallel.py?line=1056'>1057</a>\u001b[0m \u001b[39m# Make sure that we get a last message telling us we are done\u001b[39;00m\n\u001b[0;32m   <a href='file:///c%3A/Users/Bilal/AppData/Local/Programs/Python/Python39/lib/site-packages/joblib/parallel.py?line=1057'>1058</a>\u001b[0m elapsed_time \u001b[39m=\u001b[39m time\u001b[39m.\u001b[39mtime() \u001b[39m-\u001b[39m \u001b[39mself\u001b[39m\u001b[39m.\u001b[39m_start_time\n",
      "File \u001b[1;32mc:\\Users\\Bilal\\AppData\\Local\\Programs\\Python\\Python39\\lib\\site-packages\\joblib\\parallel.py:930\u001b[0m, in \u001b[0;36mParallel.retrieve\u001b[1;34m(self)\u001b[0m\n\u001b[0;32m    <a href='file:///c%3A/Users/Bilal/AppData/Local/Programs/Python/Python39/lib/site-packages/joblib/parallel.py?line=925'>926</a>\u001b[0m     \u001b[39mcontinue\u001b[39;00m\n\u001b[0;32m    <a href='file:///c%3A/Users/Bilal/AppData/Local/Programs/Python/Python39/lib/site-packages/joblib/parallel.py?line=926'>927</a>\u001b[0m \u001b[39m# We need to be careful: the job list can be filling up as\u001b[39;00m\n\u001b[0;32m    <a href='file:///c%3A/Users/Bilal/AppData/Local/Programs/Python/Python39/lib/site-packages/joblib/parallel.py?line=927'>928</a>\u001b[0m \u001b[39m# we empty it and Python list are not thread-safe by default hence\u001b[39;00m\n\u001b[0;32m    <a href='file:///c%3A/Users/Bilal/AppData/Local/Programs/Python/Python39/lib/site-packages/joblib/parallel.py?line=928'>929</a>\u001b[0m \u001b[39m# the use of the lock\u001b[39;00m\n\u001b[1;32m--> <a href='file:///c%3A/Users/Bilal/AppData/Local/Programs/Python/Python39/lib/site-packages/joblib/parallel.py?line=929'>930</a>\u001b[0m \u001b[39mwith\u001b[39;00m \u001b[39mself\u001b[39m\u001b[39m.\u001b[39m_lock:\n\u001b[0;32m    <a href='file:///c%3A/Users/Bilal/AppData/Local/Programs/Python/Python39/lib/site-packages/joblib/parallel.py?line=930'>931</a>\u001b[0m     job \u001b[39m=\u001b[39m \u001b[39mself\u001b[39m\u001b[39m.\u001b[39m_jobs\u001b[39m.\u001b[39mpop(\u001b[39m0\u001b[39m)\n\u001b[0;32m    <a href='file:///c%3A/Users/Bilal/AppData/Local/Programs/Python/Python39/lib/site-packages/joblib/parallel.py?line=932'>933</a>\u001b[0m \u001b[39mtry\u001b[39;00m:\n",
      "\u001b[1;31mKeyboardInterrupt\u001b[0m: "
     ]
    },
    {
     "name": "stderr",
     "output_type": "stream",
     "text": [
      "exception calling callback for <Future at 0x1f1c7d0a190 state=finished returned list>\n",
      "Traceback (most recent call last):\n",
      "  File \"c:\\Users\\Bilal\\AppData\\Local\\Programs\\Python\\Python39\\lib\\site-packages\\joblib\\externals\\loky\\_base.py\", line 625, in _invoke_callbacks\n",
      "    callback(self)\n",
      "  File \"c:\\Users\\Bilal\\AppData\\Local\\Programs\\Python\\Python39\\lib\\site-packages\\joblib\\parallel.py\", line 359, in __call__\n",
      "    self.parallel.dispatch_next()\n",
      "  File \"c:\\Users\\Bilal\\AppData\\Local\\Programs\\Python\\Python39\\lib\\site-packages\\joblib\\parallel.py\", line 794, in dispatch_next\n",
      "    if not self.dispatch_one_batch(self._original_iterator):\n",
      "  File \"c:\\Users\\Bilal\\AppData\\Local\\Programs\\Python\\Python39\\lib\\site-packages\\joblib\\parallel.py\", line 861, in dispatch_one_batch\n",
      "    self._dispatch(tasks)\n",
      "  File \"c:\\Users\\Bilal\\AppData\\Local\\Programs\\Python\\Python39\\lib\\site-packages\\joblib\\parallel.py\", line 779, in _dispatch\n",
      "    job = self._backend.apply_async(batch, callback=cb)\n",
      "  File \"c:\\Users\\Bilal\\AppData\\Local\\Programs\\Python\\Python39\\lib\\site-packages\\joblib\\_parallel_backends.py\", line 531, in apply_async\n",
      "    future = self._workers.submit(SafeFunction(func))\n",
      "AttributeError: 'NoneType' object has no attribute 'submit'\n",
      "exception calling callback for <Future at 0x1f1c7d0a310 state=finished returned list>\n",
      "Traceback (most recent call last):\n",
      "  File \"c:\\Users\\Bilal\\AppData\\Local\\Programs\\Python\\Python39\\lib\\site-packages\\joblib\\externals\\loky\\_base.py\", line 625, in _invoke_callbacks\n",
      "    callback(self)\n",
      "  File \"c:\\Users\\Bilal\\AppData\\Local\\Programs\\Python\\Python39\\lib\\site-packages\\joblib\\parallel.py\", line 359, in __call__\n",
      "    self.parallel.dispatch_next()\n",
      "  File \"c:\\Users\\Bilal\\AppData\\Local\\Programs\\Python\\Python39\\lib\\site-packages\\joblib\\parallel.py\", line 794, in dispatch_next\n",
      "    if not self.dispatch_one_batch(self._original_iterator):\n",
      "  File \"c:\\Users\\Bilal\\AppData\\Local\\Programs\\Python\\Python39\\lib\\site-packages\\joblib\\parallel.py\", line 861, in dispatch_one_batch\n",
      "    self._dispatch(tasks)\n",
      "  File \"c:\\Users\\Bilal\\AppData\\Local\\Programs\\Python\\Python39\\lib\\site-packages\\joblib\\parallel.py\", line 779, in _dispatch\n",
      "    job = self._backend.apply_async(batch, callback=cb)\n",
      "  File \"c:\\Users\\Bilal\\AppData\\Local\\Programs\\Python\\Python39\\lib\\site-packages\\joblib\\_parallel_backends.py\", line 531, in apply_async\n",
      "    future = self._workers.submit(SafeFunction(func))\n",
      "AttributeError: 'NoneType' object has no attribute 'submit'\n",
      "exception calling callback for <Future at 0x1f1c7d0a610 state=finished returned list>\n",
      "Traceback (most recent call last):\n",
      "  File \"c:\\Users\\Bilal\\AppData\\Local\\Programs\\Python\\Python39\\lib\\site-packages\\joblib\\externals\\loky\\_base.py\", line 625, in _invoke_callbacks\n",
      "    callback(self)\n",
      "  File \"c:\\Users\\Bilal\\AppData\\Local\\Programs\\Python\\Python39\\lib\\site-packages\\joblib\\parallel.py\", line 359, in __call__\n",
      "    self.parallel.dispatch_next()\n",
      "  File \"c:\\Users\\Bilal\\AppData\\Local\\Programs\\Python\\Python39\\lib\\site-packages\\joblib\\parallel.py\", line 794, in dispatch_next\n",
      "    if not self.dispatch_one_batch(self._original_iterator):\n",
      "  File \"c:\\Users\\Bilal\\AppData\\Local\\Programs\\Python\\Python39\\lib\\site-packages\\joblib\\parallel.py\", line 861, in dispatch_one_batch\n",
      "    self._dispatch(tasks)\n",
      "  File \"c:\\Users\\Bilal\\AppData\\Local\\Programs\\Python\\Python39\\lib\\site-packages\\joblib\\parallel.py\", line 779, in _dispatch\n",
      "    job = self._backend.apply_async(batch, callback=cb)\n",
      "  File \"c:\\Users\\Bilal\\AppData\\Local\\Programs\\Python\\Python39\\lib\\site-packages\\joblib\\_parallel_backends.py\", line 531, in apply_async\n",
      "    future = self._workers.submit(SafeFunction(func))\n",
      "AttributeError: 'NoneType' object has no attribute 'submit'\n",
      "exception calling callback for <Future at 0x1f1c7ca2100 state=finished returned list>\n",
      "Traceback (most recent call last):\n",
      "  File \"c:\\Users\\Bilal\\AppData\\Local\\Programs\\Python\\Python39\\lib\\site-packages\\joblib\\externals\\loky\\_base.py\", line 625, in _invoke_callbacks\n",
      "    callback(self)\n",
      "  File \"c:\\Users\\Bilal\\AppData\\Local\\Programs\\Python\\Python39\\lib\\site-packages\\joblib\\parallel.py\", line 359, in __call__\n",
      "    self.parallel.dispatch_next()\n",
      "  File \"c:\\Users\\Bilal\\AppData\\Local\\Programs\\Python\\Python39\\lib\\site-packages\\joblib\\parallel.py\", line 794, in dispatch_next\n",
      "    if not self.dispatch_one_batch(self._original_iterator):\n",
      "  File \"c:\\Users\\Bilal\\AppData\\Local\\Programs\\Python\\Python39\\lib\\site-packages\\joblib\\parallel.py\", line 861, in dispatch_one_batch\n",
      "    self._dispatch(tasks)\n",
      "  File \"c:\\Users\\Bilal\\AppData\\Local\\Programs\\Python\\Python39\\lib\\site-packages\\joblib\\parallel.py\", line 779, in _dispatch\n",
      "    job = self._backend.apply_async(batch, callback=cb)\n",
      "  File \"c:\\Users\\Bilal\\AppData\\Local\\Programs\\Python\\Python39\\lib\\site-packages\\joblib\\_parallel_backends.py\", line 531, in apply_async\n",
      "    future = self._workers.submit(SafeFunction(func))\n",
      "AttributeError: 'NoneType' object has no attribute 'submit'\n",
      "exception calling callback for <Future at 0x1f1c7d0aca0 state=finished returned list>\n",
      "Traceback (most recent call last):\n",
      "  File \"c:\\Users\\Bilal\\AppData\\Local\\Programs\\Python\\Python39\\lib\\site-packages\\joblib\\externals\\loky\\_base.py\", line 625, in _invoke_callbacks\n",
      "    callback(self)\n",
      "  File \"c:\\Users\\Bilal\\AppData\\Local\\Programs\\Python\\Python39\\lib\\site-packages\\joblib\\parallel.py\", line 359, in __call__\n",
      "    self.parallel.dispatch_next()\n",
      "  File \"c:\\Users\\Bilal\\AppData\\Local\\Programs\\Python\\Python39\\lib\\site-packages\\joblib\\parallel.py\", line 794, in dispatch_next\n",
      "    if not self.dispatch_one_batch(self._original_iterator):\n",
      "  File \"c:\\Users\\Bilal\\AppData\\Local\\Programs\\Python\\Python39\\lib\\site-packages\\joblib\\parallel.py\", line 861, in dispatch_one_batch\n",
      "    self._dispatch(tasks)\n",
      "  File \"c:\\Users\\Bilal\\AppData\\Local\\Programs\\Python\\Python39\\lib\\site-packages\\joblib\\parallel.py\", line 779, in _dispatch\n",
      "    job = self._backend.apply_async(batch, callback=cb)\n",
      "  File \"c:\\Users\\Bilal\\AppData\\Local\\Programs\\Python\\Python39\\lib\\site-packages\\joblib\\_parallel_backends.py\", line 531, in apply_async\n",
      "    future = self._workers.submit(SafeFunction(func))\n",
      "AttributeError: 'NoneType' object has no attribute 'submit'\n",
      "exception calling callback for <Future at 0x1f1c7d0a760 state=finished returned list>\n",
      "Traceback (most recent call last):\n",
      "  File \"c:\\Users\\Bilal\\AppData\\Local\\Programs\\Python\\Python39\\lib\\site-packages\\joblib\\externals\\loky\\_base.py\", line 625, in _invoke_callbacks\n",
      "    callback(self)\n",
      "  File \"c:\\Users\\Bilal\\AppData\\Local\\Programs\\Python\\Python39\\lib\\site-packages\\joblib\\parallel.py\", line 359, in __call__\n",
      "    self.parallel.dispatch_next()\n",
      "  File \"c:\\Users\\Bilal\\AppData\\Local\\Programs\\Python\\Python39\\lib\\site-packages\\joblib\\parallel.py\", line 794, in dispatch_next\n",
      "    if not self.dispatch_one_batch(self._original_iterator):\n",
      "  File \"c:\\Users\\Bilal\\AppData\\Local\\Programs\\Python\\Python39\\lib\\site-packages\\joblib\\parallel.py\", line 861, in dispatch_one_batch\n",
      "    self._dispatch(tasks)\n",
      "  File \"c:\\Users\\Bilal\\AppData\\Local\\Programs\\Python\\Python39\\lib\\site-packages\\joblib\\parallel.py\", line 779, in _dispatch\n",
      "    job = self._backend.apply_async(batch, callback=cb)\n",
      "  File \"c:\\Users\\Bilal\\AppData\\Local\\Programs\\Python\\Python39\\lib\\site-packages\\joblib\\_parallel_backends.py\", line 531, in apply_async\n",
      "    future = self._workers.submit(SafeFunction(func))\n",
      "AttributeError: 'NoneType' object has no attribute 'submit'\n",
      "exception calling callback for <Future at 0x1f1c7d2e0d0 state=finished raised PicklingError>\n",
      "Traceback (most recent call last):\n",
      "  File \"c:\\Users\\Bilal\\AppData\\Local\\Programs\\Python\\Python39\\lib\\site-packages\\joblib\\externals\\loky\\backend\\queues.py\", line 153, in _feed\n",
      "    obj_ = dumps(obj, reducers=reducers)\n",
      "  File \"c:\\Users\\Bilal\\AppData\\Local\\Programs\\Python\\Python39\\lib\\site-packages\\joblib\\externals\\loky\\backend\\reduction.py\", line 271, in dumps\n",
      "    dump(obj, buf, reducers=reducers, protocol=protocol)\n",
      "  File \"c:\\Users\\Bilal\\AppData\\Local\\Programs\\Python\\Python39\\lib\\site-packages\\joblib\\externals\\loky\\backend\\reduction.py\", line 264, in dump\n",
      "    _LokyPickler(file, reducers=reducers, protocol=protocol).dump(obj)\n",
      "  File \"c:\\Users\\Bilal\\AppData\\Local\\Programs\\Python\\Python39\\lib\\site-packages\\joblib\\externals\\cloudpickle\\cloudpickle_fast.py\", line 602, in dump\n",
      "    return Pickler.dump(self, obj)\n",
      "  File \"c:\\Users\\Bilal\\AppData\\Local\\Programs\\Python\\Python39\\lib\\site-packages\\joblib\\parallel.py\", line 267, in __reduce__\n",
      "    self._reducer_callback()\n",
      "  File \"c:\\Users\\Bilal\\AppData\\Local\\Programs\\Python\\Python39\\lib\\site-packages\\joblib\\parallel.py\", line 988, in _batched_calls_reducer_callback\n",
      "    self._backend._workers._temp_folder_manager.set_current_context(  # noqa\n",
      "AttributeError: 'NoneType' object has no attribute '_temp_folder_manager'\n",
      "\n",
      "During handling of the above exception, another exception occurred:\n",
      "\n",
      "Traceback (most recent call last):\n",
      "  File \"c:\\Users\\Bilal\\AppData\\Local\\Programs\\Python\\Python39\\lib\\site-packages\\joblib\\externals\\loky\\_base.py\", line 625, in _invoke_callbacks\n",
      "    callback(self)\n",
      "  File \"c:\\Users\\Bilal\\AppData\\Local\\Programs\\Python\\Python39\\lib\\site-packages\\joblib\\parallel.py\", line 359, in __call__\n",
      "    self.parallel.dispatch_next()\n",
      "  File \"c:\\Users\\Bilal\\AppData\\Local\\Programs\\Python\\Python39\\lib\\site-packages\\joblib\\parallel.py\", line 794, in dispatch_next\n",
      "    if not self.dispatch_one_batch(self._original_iterator):\n",
      "  File \"c:\\Users\\Bilal\\AppData\\Local\\Programs\\Python\\Python39\\lib\\site-packages\\joblib\\parallel.py\", line 861, in dispatch_one_batch\n",
      "    self._dispatch(tasks)\n",
      "  File \"c:\\Users\\Bilal\\AppData\\Local\\Programs\\Python\\Python39\\lib\\site-packages\\joblib\\parallel.py\", line 779, in _dispatch\n",
      "    job = self._backend.apply_async(batch, callback=cb)\n",
      "  File \"c:\\Users\\Bilal\\AppData\\Local\\Programs\\Python\\Python39\\lib\\site-packages\\joblib\\_parallel_backends.py\", line 531, in apply_async\n",
      "    future = self._workers.submit(SafeFunction(func))\n",
      "AttributeError: 'NoneType' object has no attribute 'submit'\n",
      "exception calling callback for <Future at 0x1f1c7d0a910 state=finished returned list>\n",
      "Traceback (most recent call last):\n",
      "  File \"c:\\Users\\Bilal\\AppData\\Local\\Programs\\Python\\Python39\\lib\\site-packages\\joblib\\externals\\loky\\_base.py\", line 625, in _invoke_callbacks\n",
      "    callback(self)\n",
      "  File \"c:\\Users\\Bilal\\AppData\\Local\\Programs\\Python\\Python39\\lib\\site-packages\\joblib\\parallel.py\", line 359, in __call__\n",
      "    self.parallel.dispatch_next()\n",
      "  File \"c:\\Users\\Bilal\\AppData\\Local\\Programs\\Python\\Python39\\lib\\site-packages\\joblib\\parallel.py\", line 794, in dispatch_next\n",
      "    if not self.dispatch_one_batch(self._original_iterator):\n",
      "  File \"c:\\Users\\Bilal\\AppData\\Local\\Programs\\Python\\Python39\\lib\\site-packages\\joblib\\parallel.py\", line 861, in dispatch_one_batch\n",
      "    self._dispatch(tasks)\n",
      "  File \"c:\\Users\\Bilal\\AppData\\Local\\Programs\\Python\\Python39\\lib\\site-packages\\joblib\\parallel.py\", line 779, in _dispatch\n",
      "    job = self._backend.apply_async(batch, callback=cb)\n",
      "  File \"c:\\Users\\Bilal\\AppData\\Local\\Programs\\Python\\Python39\\lib\\site-packages\\joblib\\_parallel_backends.py\", line 531, in apply_async\n",
      "    future = self._workers.submit(SafeFunction(func))\n",
      "AttributeError: 'NoneType' object has no attribute 'submit'\n",
      "exception calling callback for <Future at 0x1f1c7d27130 state=finished raised PicklingError>\n",
      "Traceback (most recent call last):\n",
      "  File \"c:\\Users\\Bilal\\AppData\\Local\\Programs\\Python\\Python39\\lib\\site-packages\\joblib\\externals\\loky\\backend\\queues.py\", line 153, in _feed\n",
      "    obj_ = dumps(obj, reducers=reducers)\n",
      "  File \"c:\\Users\\Bilal\\AppData\\Local\\Programs\\Python\\Python39\\lib\\site-packages\\joblib\\externals\\loky\\backend\\reduction.py\", line 271, in dumps\n",
      "    dump(obj, buf, reducers=reducers, protocol=protocol)\n",
      "  File \"c:\\Users\\Bilal\\AppData\\Local\\Programs\\Python\\Python39\\lib\\site-packages\\joblib\\externals\\loky\\backend\\reduction.py\", line 264, in dump\n",
      "    _LokyPickler(file, reducers=reducers, protocol=protocol).dump(obj)\n",
      "  File \"c:\\Users\\Bilal\\AppData\\Local\\Programs\\Python\\Python39\\lib\\site-packages\\joblib\\externals\\cloudpickle\\cloudpickle_fast.py\", line 602, in dump\n",
      "    return Pickler.dump(self, obj)\n",
      "  File \"c:\\Users\\Bilal\\AppData\\Local\\Programs\\Python\\Python39\\lib\\site-packages\\joblib\\parallel.py\", line 267, in __reduce__\n",
      "    self._reducer_callback()\n",
      "  File \"c:\\Users\\Bilal\\AppData\\Local\\Programs\\Python\\Python39\\lib\\site-packages\\joblib\\parallel.py\", line 988, in _batched_calls_reducer_callback\n",
      "    self._backend._workers._temp_folder_manager.set_current_context(  # noqa\n",
      "AttributeError: 'NoneType' object has no attribute '_temp_folder_manager'\n",
      "\n",
      "During handling of the above exception, another exception occurred:\n",
      "\n",
      "Traceback (most recent call last):\n",
      "  File \"c:\\Users\\Bilal\\AppData\\Local\\Programs\\Python\\Python39\\lib\\site-packages\\joblib\\externals\\loky\\_base.py\", line 625, in _invoke_callbacks\n",
      "    callback(self)\n",
      "  File \"c:\\Users\\Bilal\\AppData\\Local\\Programs\\Python\\Python39\\lib\\site-packages\\joblib\\parallel.py\", line 359, in __call__\n",
      "    self.parallel.dispatch_next()\n",
      "  File \"c:\\Users\\Bilal\\AppData\\Local\\Programs\\Python\\Python39\\lib\\site-packages\\joblib\\parallel.py\", line 794, in dispatch_next\n",
      "    if not self.dispatch_one_batch(self._original_iterator):\n",
      "  File \"c:\\Users\\Bilal\\AppData\\Local\\Programs\\Python\\Python39\\lib\\site-packages\\joblib\\parallel.py\", line 861, in dispatch_one_batch\n",
      "    self._dispatch(tasks)\n",
      "  File \"c:\\Users\\Bilal\\AppData\\Local\\Programs\\Python\\Python39\\lib\\site-packages\\joblib\\parallel.py\", line 779, in _dispatch\n",
      "    job = self._backend.apply_async(batch, callback=cb)\n",
      "  File \"c:\\Users\\Bilal\\AppData\\Local\\Programs\\Python\\Python39\\lib\\site-packages\\joblib\\_parallel_backends.py\", line 531, in apply_async\n",
      "    future = self._workers.submit(SafeFunction(func))\n",
      "AttributeError: 'NoneType' object has no attribute 'submit'\n",
      "exception calling callback for <Future at 0x1f1c7ce99a0 state=finished returned list>\n",
      "Traceback (most recent call last):\n",
      "  File \"c:\\Users\\Bilal\\AppData\\Local\\Programs\\Python\\Python39\\lib\\site-packages\\joblib\\externals\\loky\\_base.py\", line 625, in _invoke_callbacks\n",
      "    callback(self)\n",
      "  File \"c:\\Users\\Bilal\\AppData\\Local\\Programs\\Python\\Python39\\lib\\site-packages\\joblib\\parallel.py\", line 359, in __call__\n",
      "    self.parallel.dispatch_next()\n",
      "  File \"c:\\Users\\Bilal\\AppData\\Local\\Programs\\Python\\Python39\\lib\\site-packages\\joblib\\parallel.py\", line 794, in dispatch_next\n",
      "    if not self.dispatch_one_batch(self._original_iterator):\n",
      "  File \"c:\\Users\\Bilal\\AppData\\Local\\Programs\\Python\\Python39\\lib\\site-packages\\joblib\\parallel.py\", line 861, in dispatch_one_batch\n",
      "    self._dispatch(tasks)\n",
      "  File \"c:\\Users\\Bilal\\AppData\\Local\\Programs\\Python\\Python39\\lib\\site-packages\\joblib\\parallel.py\", line 779, in _dispatch\n",
      "    job = self._backend.apply_async(batch, callback=cb)\n",
      "  File \"c:\\Users\\Bilal\\AppData\\Local\\Programs\\Python\\Python39\\lib\\site-packages\\joblib\\_parallel_backends.py\", line 531, in apply_async\n",
      "    future = self._workers.submit(SafeFunction(func))\n",
      "AttributeError: 'NoneType' object has no attribute 'submit'\n",
      "exception calling callback for <Future at 0x1f1c7d27250 state=finished raised PicklingError>\n",
      "Traceback (most recent call last):\n",
      "  File \"c:\\Users\\Bilal\\AppData\\Local\\Programs\\Python\\Python39\\lib\\site-packages\\joblib\\externals\\loky\\backend\\queues.py\", line 153, in _feed\n",
      "    obj_ = dumps(obj, reducers=reducers)\n",
      "  File \"c:\\Users\\Bilal\\AppData\\Local\\Programs\\Python\\Python39\\lib\\site-packages\\joblib\\externals\\loky\\backend\\reduction.py\", line 271, in dumps\n",
      "    dump(obj, buf, reducers=reducers, protocol=protocol)\n",
      "  File \"c:\\Users\\Bilal\\AppData\\Local\\Programs\\Python\\Python39\\lib\\site-packages\\joblib\\externals\\loky\\backend\\reduction.py\", line 264, in dump\n",
      "    _LokyPickler(file, reducers=reducers, protocol=protocol).dump(obj)\n",
      "  File \"c:\\Users\\Bilal\\AppData\\Local\\Programs\\Python\\Python39\\lib\\site-packages\\joblib\\externals\\cloudpickle\\cloudpickle_fast.py\", line 602, in dump\n",
      "    return Pickler.dump(self, obj)\n",
      "  File \"c:\\Users\\Bilal\\AppData\\Local\\Programs\\Python\\Python39\\lib\\site-packages\\joblib\\parallel.py\", line 267, in __reduce__\n",
      "    self._reducer_callback()\n",
      "  File \"c:\\Users\\Bilal\\AppData\\Local\\Programs\\Python\\Python39\\lib\\site-packages\\joblib\\parallel.py\", line 988, in _batched_calls_reducer_callback\n",
      "    self._backend._workers._temp_folder_manager.set_current_context(  # noqa\n",
      "AttributeError: 'NoneType' object has no attribute '_temp_folder_manager'\n",
      "\n",
      "During handling of the above exception, another exception occurred:\n",
      "\n",
      "Traceback (most recent call last):\n",
      "  File \"c:\\Users\\Bilal\\AppData\\Local\\Programs\\Python\\Python39\\lib\\site-packages\\joblib\\externals\\loky\\_base.py\", line 625, in _invoke_callbacks\n",
      "    callback(self)\n",
      "  File \"c:\\Users\\Bilal\\AppData\\Local\\Programs\\Python\\Python39\\lib\\site-packages\\joblib\\parallel.py\", line 359, in __call__\n",
      "    self.parallel.dispatch_next()\n",
      "  File \"c:\\Users\\Bilal\\AppData\\Local\\Programs\\Python\\Python39\\lib\\site-packages\\joblib\\parallel.py\", line 794, in dispatch_next\n",
      "    if not self.dispatch_one_batch(self._original_iterator):\n",
      "  File \"c:\\Users\\Bilal\\AppData\\Local\\Programs\\Python\\Python39\\lib\\site-packages\\joblib\\parallel.py\", line 861, in dispatch_one_batch\n",
      "    self._dispatch(tasks)\n",
      "  File \"c:\\Users\\Bilal\\AppData\\Local\\Programs\\Python\\Python39\\lib\\site-packages\\joblib\\parallel.py\", line 779, in _dispatch\n",
      "    job = self._backend.apply_async(batch, callback=cb)\n",
      "  File \"c:\\Users\\Bilal\\AppData\\Local\\Programs\\Python\\Python39\\lib\\site-packages\\joblib\\_parallel_backends.py\", line 531, in apply_async\n",
      "    future = self._workers.submit(SafeFunction(func))\n",
      "AttributeError: 'NoneType' object has no attribute 'submit'\n",
      "exception calling callback for <Future at 0x1f1c7cf9310 state=finished returned list>\n",
      "Traceback (most recent call last):\n",
      "  File \"c:\\Users\\Bilal\\AppData\\Local\\Programs\\Python\\Python39\\lib\\site-packages\\joblib\\externals\\loky\\_base.py\", line 625, in _invoke_callbacks\n",
      "    callback(self)\n",
      "  File \"c:\\Users\\Bilal\\AppData\\Local\\Programs\\Python\\Python39\\lib\\site-packages\\joblib\\parallel.py\", line 359, in __call__\n",
      "    self.parallel.dispatch_next()\n",
      "  File \"c:\\Users\\Bilal\\AppData\\Local\\Programs\\Python\\Python39\\lib\\site-packages\\joblib\\parallel.py\", line 794, in dispatch_next\n",
      "    if not self.dispatch_one_batch(self._original_iterator):\n",
      "  File \"c:\\Users\\Bilal\\AppData\\Local\\Programs\\Python\\Python39\\lib\\site-packages\\joblib\\parallel.py\", line 861, in dispatch_one_batch\n",
      "    self._dispatch(tasks)\n",
      "  File \"c:\\Users\\Bilal\\AppData\\Local\\Programs\\Python\\Python39\\lib\\site-packages\\joblib\\parallel.py\", line 779, in _dispatch\n",
      "    job = self._backend.apply_async(batch, callback=cb)\n",
      "  File \"c:\\Users\\Bilal\\AppData\\Local\\Programs\\Python\\Python39\\lib\\site-packages\\joblib\\_parallel_backends.py\", line 531, in apply_async\n",
      "    future = self._workers.submit(SafeFunction(func))\n",
      "AttributeError: 'NoneType' object has no attribute 'submit'\n",
      "exception calling callback for <Future at 0x1f1c7d27070 state=finished raised PicklingError>\n",
      "Traceback (most recent call last):\n",
      "  File \"c:\\Users\\Bilal\\AppData\\Local\\Programs\\Python\\Python39\\lib\\site-packages\\joblib\\externals\\loky\\backend\\queues.py\", line 153, in _feed\n",
      "    obj_ = dumps(obj, reducers=reducers)\n",
      "  File \"c:\\Users\\Bilal\\AppData\\Local\\Programs\\Python\\Python39\\lib\\site-packages\\joblib\\externals\\loky\\backend\\reduction.py\", line 271, in dumps\n",
      "    dump(obj, buf, reducers=reducers, protocol=protocol)\n",
      "  File \"c:\\Users\\Bilal\\AppData\\Local\\Programs\\Python\\Python39\\lib\\site-packages\\joblib\\externals\\loky\\backend\\reduction.py\", line 264, in dump\n",
      "    _LokyPickler(file, reducers=reducers, protocol=protocol).dump(obj)\n",
      "  File \"c:\\Users\\Bilal\\AppData\\Local\\Programs\\Python\\Python39\\lib\\site-packages\\joblib\\externals\\cloudpickle\\cloudpickle_fast.py\", line 602, in dump\n",
      "    return Pickler.dump(self, obj)\n",
      "  File \"c:\\Users\\Bilal\\AppData\\Local\\Programs\\Python\\Python39\\lib\\site-packages\\joblib\\parallel.py\", line 267, in __reduce__\n",
      "    self._reducer_callback()\n",
      "  File \"c:\\Users\\Bilal\\AppData\\Local\\Programs\\Python\\Python39\\lib\\site-packages\\joblib\\parallel.py\", line 988, in _batched_calls_reducer_callback\n",
      "    self._backend._workers._temp_folder_manager.set_current_context(  # noqa\n",
      "AttributeError: 'NoneType' object has no attribute '_temp_folder_manager'\n",
      "\n",
      "During handling of the above exception, another exception occurred:\n",
      "\n",
      "Traceback (most recent call last):\n",
      "  File \"c:\\Users\\Bilal\\AppData\\Local\\Programs\\Python\\Python39\\lib\\site-packages\\joblib\\externals\\loky\\_base.py\", line 625, in _invoke_callbacks\n",
      "    callback(self)\n",
      "  File \"c:\\Users\\Bilal\\AppData\\Local\\Programs\\Python\\Python39\\lib\\site-packages\\joblib\\parallel.py\", line 359, in __call__\n",
      "    self.parallel.dispatch_next()\n",
      "  File \"c:\\Users\\Bilal\\AppData\\Local\\Programs\\Python\\Python39\\lib\\site-packages\\joblib\\parallel.py\", line 794, in dispatch_next\n",
      "    if not self.dispatch_one_batch(self._original_iterator):\n",
      "  File \"c:\\Users\\Bilal\\AppData\\Local\\Programs\\Python\\Python39\\lib\\site-packages\\joblib\\parallel.py\", line 861, in dispatch_one_batch\n",
      "    self._dispatch(tasks)\n",
      "  File \"c:\\Users\\Bilal\\AppData\\Local\\Programs\\Python\\Python39\\lib\\site-packages\\joblib\\parallel.py\", line 779, in _dispatch\n",
      "    job = self._backend.apply_async(batch, callback=cb)\n",
      "  File \"c:\\Users\\Bilal\\AppData\\Local\\Programs\\Python\\Python39\\lib\\site-packages\\joblib\\_parallel_backends.py\", line 531, in apply_async\n",
      "    future = self._workers.submit(SafeFunction(func))\n",
      "AttributeError: 'NoneType' object has no attribute 'submit'\n",
      "exception calling callback for <Future at 0x1f1c7d279d0 state=finished raised PicklingError>\n",
      "Traceback (most recent call last):\n",
      "  File \"c:\\Users\\Bilal\\AppData\\Local\\Programs\\Python\\Python39\\lib\\site-packages\\joblib\\externals\\loky\\backend\\queues.py\", line 153, in _feed\n",
      "    obj_ = dumps(obj, reducers=reducers)\n",
      "  File \"c:\\Users\\Bilal\\AppData\\Local\\Programs\\Python\\Python39\\lib\\site-packages\\joblib\\externals\\loky\\backend\\reduction.py\", line 271, in dumps\n",
      "    dump(obj, buf, reducers=reducers, protocol=protocol)\n",
      "  File \"c:\\Users\\Bilal\\AppData\\Local\\Programs\\Python\\Python39\\lib\\site-packages\\joblib\\externals\\loky\\backend\\reduction.py\", line 264, in dump\n",
      "    _LokyPickler(file, reducers=reducers, protocol=protocol).dump(obj)\n",
      "  File \"c:\\Users\\Bilal\\AppData\\Local\\Programs\\Python\\Python39\\lib\\site-packages\\joblib\\externals\\cloudpickle\\cloudpickle_fast.py\", line 602, in dump\n",
      "    return Pickler.dump(self, obj)\n",
      "  File \"c:\\Users\\Bilal\\AppData\\Local\\Programs\\Python\\Python39\\lib\\site-packages\\joblib\\parallel.py\", line 267, in __reduce__\n",
      "    self._reducer_callback()\n",
      "  File \"c:\\Users\\Bilal\\AppData\\Local\\Programs\\Python\\Python39\\lib\\site-packages\\joblib\\parallel.py\", line 988, in _batched_calls_reducer_callback\n",
      "    self._backend._workers._temp_folder_manager.set_current_context(  # noqa\n",
      "AttributeError: 'NoneType' object has no attribute '_temp_folder_manager'\n",
      "\n",
      "During handling of the above exception, another exception occurred:\n",
      "\n",
      "Traceback (most recent call last):\n",
      "  File \"c:\\Users\\Bilal\\AppData\\Local\\Programs\\Python\\Python39\\lib\\site-packages\\joblib\\externals\\loky\\_base.py\", line 625, in _invoke_callbacks\n",
      "    callback(self)\n",
      "  File \"c:\\Users\\Bilal\\AppData\\Local\\Programs\\Python\\Python39\\lib\\site-packages\\joblib\\parallel.py\", line 359, in __call__\n",
      "    self.parallel.dispatch_next()\n",
      "  File \"c:\\Users\\Bilal\\AppData\\Local\\Programs\\Python\\Python39\\lib\\site-packages\\joblib\\parallel.py\", line 794, in dispatch_next\n",
      "    if not self.dispatch_one_batch(self._original_iterator):\n",
      "  File \"c:\\Users\\Bilal\\AppData\\Local\\Programs\\Python\\Python39\\lib\\site-packages\\joblib\\parallel.py\", line 861, in dispatch_one_batch\n",
      "    self._dispatch(tasks)\n",
      "  File \"c:\\Users\\Bilal\\AppData\\Local\\Programs\\Python\\Python39\\lib\\site-packages\\joblib\\parallel.py\", line 779, in _dispatch\n",
      "    job = self._backend.apply_async(batch, callback=cb)\n",
      "  File \"c:\\Users\\Bilal\\AppData\\Local\\Programs\\Python\\Python39\\lib\\site-packages\\joblib\\_parallel_backends.py\", line 531, in apply_async\n",
      "    future = self._workers.submit(SafeFunction(func))\n",
      "AttributeError: 'NoneType' object has no attribute 'submit'\n",
      "exception calling callback for <Future at 0x1f1c7ca8370 state=finished raised PicklingError>\n",
      "Traceback (most recent call last):\n",
      "  File \"c:\\Users\\Bilal\\AppData\\Local\\Programs\\Python\\Python39\\lib\\site-packages\\joblib\\externals\\loky\\backend\\queues.py\", line 153, in _feed\n",
      "    obj_ = dumps(obj, reducers=reducers)\n",
      "  File \"c:\\Users\\Bilal\\AppData\\Local\\Programs\\Python\\Python39\\lib\\site-packages\\joblib\\externals\\loky\\backend\\reduction.py\", line 271, in dumps\n",
      "    dump(obj, buf, reducers=reducers, protocol=protocol)\n",
      "  File \"c:\\Users\\Bilal\\AppData\\Local\\Programs\\Python\\Python39\\lib\\site-packages\\joblib\\externals\\loky\\backend\\reduction.py\", line 264, in dump\n",
      "    _LokyPickler(file, reducers=reducers, protocol=protocol).dump(obj)\n",
      "  File \"c:\\Users\\Bilal\\AppData\\Local\\Programs\\Python\\Python39\\lib\\site-packages\\joblib\\externals\\cloudpickle\\cloudpickle_fast.py\", line 602, in dump\n",
      "    return Pickler.dump(self, obj)\n",
      "  File \"c:\\Users\\Bilal\\AppData\\Local\\Programs\\Python\\Python39\\lib\\site-packages\\joblib\\parallel.py\", line 267, in __reduce__\n",
      "    self._reducer_callback()\n",
      "  File \"c:\\Users\\Bilal\\AppData\\Local\\Programs\\Python\\Python39\\lib\\site-packages\\joblib\\parallel.py\", line 988, in _batched_calls_reducer_callback\n",
      "    self._backend._workers._temp_folder_manager.set_current_context(  # noqa\n",
      "AttributeError: 'NoneType' object has no attribute '_temp_folder_manager'\n",
      "\n",
      "During handling of the above exception, another exception occurred:\n",
      "\n",
      "Traceback (most recent call last):\n",
      "  File \"c:\\Users\\Bilal\\AppData\\Local\\Programs\\Python\\Python39\\lib\\site-packages\\joblib\\externals\\loky\\_base.py\", line 625, in _invoke_callbacks\n",
      "    callback(self)\n",
      "  File \"c:\\Users\\Bilal\\AppData\\Local\\Programs\\Python\\Python39\\lib\\site-packages\\joblib\\parallel.py\", line 359, in __call__\n",
      "    self.parallel.dispatch_next()\n",
      "  File \"c:\\Users\\Bilal\\AppData\\Local\\Programs\\Python\\Python39\\lib\\site-packages\\joblib\\parallel.py\", line 794, in dispatch_next\n",
      "    if not self.dispatch_one_batch(self._original_iterator):\n",
      "  File \"c:\\Users\\Bilal\\AppData\\Local\\Programs\\Python\\Python39\\lib\\site-packages\\joblib\\parallel.py\", line 861, in dispatch_one_batch\n",
      "    self._dispatch(tasks)\n",
      "  File \"c:\\Users\\Bilal\\AppData\\Local\\Programs\\Python\\Python39\\lib\\site-packages\\joblib\\parallel.py\", line 779, in _dispatch\n",
      "    job = self._backend.apply_async(batch, callback=cb)\n",
      "  File \"c:\\Users\\Bilal\\AppData\\Local\\Programs\\Python\\Python39\\lib\\site-packages\\joblib\\_parallel_backends.py\", line 531, in apply_async\n",
      "    future = self._workers.submit(SafeFunction(func))\n",
      "AttributeError: 'NoneType' object has no attribute 'submit'\n",
      "exception calling callback for <Future at 0x1f1c7cf90a0 state=finished returned list>\n",
      "Traceback (most recent call last):\n",
      "  File \"c:\\Users\\Bilal\\AppData\\Local\\Programs\\Python\\Python39\\lib\\site-packages\\joblib\\externals\\loky\\_base.py\", line 625, in _invoke_callbacks\n",
      "    callback(self)\n",
      "  File \"c:\\Users\\Bilal\\AppData\\Local\\Programs\\Python\\Python39\\lib\\site-packages\\joblib\\parallel.py\", line 359, in __call__\n",
      "    self.parallel.dispatch_next()\n",
      "  File \"c:\\Users\\Bilal\\AppData\\Local\\Programs\\Python\\Python39\\lib\\site-packages\\joblib\\parallel.py\", line 794, in dispatch_next\n",
      "    if not self.dispatch_one_batch(self._original_iterator):\n",
      "  File \"c:\\Users\\Bilal\\AppData\\Local\\Programs\\Python\\Python39\\lib\\site-packages\\joblib\\parallel.py\", line 861, in dispatch_one_batch\n",
      "    self._dispatch(tasks)\n",
      "  File \"c:\\Users\\Bilal\\AppData\\Local\\Programs\\Python\\Python39\\lib\\site-packages\\joblib\\parallel.py\", line 779, in _dispatch\n",
      "    job = self._backend.apply_async(batch, callback=cb)\n",
      "  File \"c:\\Users\\Bilal\\AppData\\Local\\Programs\\Python\\Python39\\lib\\site-packages\\joblib\\_parallel_backends.py\", line 531, in apply_async\n",
      "    future = self._workers.submit(SafeFunction(func))\n",
      "AttributeError: 'NoneType' object has no attribute 'submit'\n"
     ]
    }
   ],
   "source": [
    "cart = tree.DecisionTreeClassifier()\n",
    "cart_cv = GridSearchCV(cart, cart_grid, cv = 10, n_jobs = -1, verbose = 2)\n",
    "cart_cv_model = cart_cv.fit(X_train, y_train)"
   ]
  },
  {
   "cell_type": "code",
   "execution_count": null,
   "metadata": {},
   "outputs": [
    {
     "name": "stdout",
     "output_type": "stream",
     "text": [
      "En iyi parametreler: {'max_depth': 5, 'min_samples_split': 19}\n"
     ]
    }
   ],
   "source": [
    "print(\"En iyi parametreler: \" + str(cart_cv_model.best_params_))"
   ]
  },
  {
   "cell_type": "code",
   "execution_count": null,
   "metadata": {},
   "outputs": [],
   "source": [
    "#final"
   ]
  },
  {
   "cell_type": "code",
   "execution_count": 119,
   "metadata": {},
   "outputs": [],
   "source": [
    "cart = tree.DecisionTreeClassifier(max_depth = 5, min_samples_split = 19)\n",
    "cart_tuned = cart.fit(X_train, y_train)"
   ]
  },
  {
   "cell_type": "code",
   "execution_count": 120,
   "metadata": {},
   "outputs": [
    {
     "data": {
      "text/plain": [
       "0.7532467532467533"
      ]
     },
     "execution_count": 120,
     "metadata": {},
     "output_type": "execute_result"
    }
   ],
   "source": [
    "y_pred = cart_tuned.predict(X_test)\n",
    "accuracy_score(y_test, y_pred)"
   ]
  },
  {
   "cell_type": "markdown",
   "metadata": {},
   "source": [
    "# Random Forests"
   ]
  },
  {
   "cell_type": "code",
   "execution_count": 121,
   "metadata": {},
   "outputs": [],
   "source": [
    "diabetes = pd.read_csv(\"diabetes.csv\")\n",
    "df = diabetes.copy()\n",
    "df = df.dropna()\n",
    "y = df[\"Outcome\"]\n",
    "X = df.drop(['Outcome'], axis=1)\n",
    "#X = df[\"Pregnancies\"]\n",
    "X = pd.DataFrame(X)\n",
    "X_train, X_test, y_train, y_test = train_test_split(X, y, \n",
    "                                                    test_size=0.30, \n",
    "                                                    random_state=42)"
   ]
  },
  {
   "cell_type": "code",
   "execution_count": 122,
   "metadata": {},
   "outputs": [],
   "source": [
    "from sklearn.ensemble import RandomForestClassifier"
   ]
  },
  {
   "cell_type": "code",
   "execution_count": 123,
   "metadata": {},
   "outputs": [],
   "source": [
    "rf_model = RandomForestClassifier().fit(X_train, y_train)"
   ]
  },
  {
   "cell_type": "code",
   "execution_count": 124,
   "metadata": {},
   "outputs": [
    {
     "data": {
      "text/plain": [
       "RandomForestClassifier()"
      ]
     },
     "execution_count": 124,
     "metadata": {},
     "output_type": "execute_result"
    }
   ],
   "source": [
    "rf_model"
   ]
  },
  {
   "cell_type": "code",
   "execution_count": 125,
   "metadata": {},
   "outputs": [
    {
     "data": {
      "text/plain": [
       "0.7402597402597403"
      ]
     },
     "execution_count": 125,
     "metadata": {},
     "output_type": "execute_result"
    }
   ],
   "source": [
    "y_pred = rf_model.predict(X_test)\n",
    "accuracy_score(y_test, y_pred)"
   ]
  },
  {
   "cell_type": "markdown",
   "metadata": {},
   "source": [
    "## Model Tuning"
   ]
  },
  {
   "cell_type": "code",
   "execution_count": null,
   "metadata": {},
   "outputs": [
    {
     "data": {
      "text/plain": [
       "RandomForestClassifier()"
      ]
     },
     "execution_count": 7,
     "metadata": {},
     "output_type": "execute_result"
    }
   ],
   "source": [
    "rf_model"
   ]
  },
  {
   "cell_type": "code",
   "execution_count": null,
   "metadata": {},
   "outputs": [
    {
     "name": "stdout",
     "output_type": "stream",
     "text": [
      "\u001b[1;31mType:\u001b[0m        RandomForestClassifier\n",
      "\u001b[1;31mString form:\u001b[0m RandomForestClassifier()\n",
      "\u001b[1;31mLength:\u001b[0m      100\n",
      "\u001b[1;31mFile:\u001b[0m        c:\\users\\bilal\\appdata\\local\\programs\\python\\python39\\lib\\site-packages\\sklearn\\ensemble\\_forest.py\n",
      "\u001b[1;31mDocstring:\u001b[0m  \n",
      "A random forest classifier.\n",
      "\n",
      "A random forest is a meta estimator that fits a number of decision tree\n",
      "classifiers on various sub-samples of the dataset and uses averaging to\n",
      "improve the predictive accuracy and control over-fitting.\n",
      "The sub-sample size is controlled with the `max_samples` parameter if\n",
      "`bootstrap=True` (default), otherwise the whole dataset is used to build\n",
      "each tree.\n",
      "\n",
      "Read more in the :ref:`User Guide <forest>`.\n",
      "\n",
      "Parameters\n",
      "----------\n",
      "n_estimators : int, default=100\n",
      "    The number of trees in the forest.\n",
      "\n",
      "    .. versionchanged:: 0.22\n",
      "       The default value of ``n_estimators`` changed from 10 to 100\n",
      "       in 0.22.\n",
      "\n",
      "criterion : {\"gini\", \"entropy\"}, default=\"gini\"\n",
      "    The function to measure the quality of a split. Supported criteria are\n",
      "    \"gini\" for the Gini impurity and \"entropy\" for the information gain.\n",
      "    Note: this parameter is tree-specific.\n",
      "\n",
      "max_depth : int, default=None\n",
      "    The maximum depth of the tree. If None, then nodes are expanded until\n",
      "    all leaves are pure or until all leaves contain less than\n",
      "    min_samples_split samples.\n",
      "\n",
      "min_samples_split : int or float, default=2\n",
      "    The minimum number of samples required to split an internal node:\n",
      "\n",
      "    - If int, then consider `min_samples_split` as the minimum number.\n",
      "    - If float, then `min_samples_split` is a fraction and\n",
      "      `ceil(min_samples_split * n_samples)` are the minimum\n",
      "      number of samples for each split.\n",
      "\n",
      "    .. versionchanged:: 0.18\n",
      "       Added float values for fractions.\n",
      "\n",
      "min_samples_leaf : int or float, default=1\n",
      "    The minimum number of samples required to be at a leaf node.\n",
      "    A split point at any depth will only be considered if it leaves at\n",
      "    least ``min_samples_leaf`` training samples in each of the left and\n",
      "    right branches.  This may have the effect of smoothing the model,\n",
      "    especially in regression.\n",
      "\n",
      "    - If int, then consider `min_samples_leaf` as the minimum number.\n",
      "    - If float, then `min_samples_leaf` is a fraction and\n",
      "      `ceil(min_samples_leaf * n_samples)` are the minimum\n",
      "      number of samples for each node.\n",
      "\n",
      "    .. versionchanged:: 0.18\n",
      "       Added float values for fractions.\n",
      "\n",
      "min_weight_fraction_leaf : float, default=0.0\n",
      "    The minimum weighted fraction of the sum total of weights (of all\n",
      "    the input samples) required to be at a leaf node. Samples have\n",
      "    equal weight when sample_weight is not provided.\n",
      "\n",
      "max_features : {\"auto\", \"sqrt\", \"log2\"}, int or float, default=\"auto\"\n",
      "    The number of features to consider when looking for the best split:\n",
      "\n",
      "    - If int, then consider `max_features` features at each split.\n",
      "    - If float, then `max_features` is a fraction and\n",
      "      `round(max_features * n_features)` features are considered at each\n",
      "      split.\n",
      "    - If \"auto\", then `max_features=sqrt(n_features)`.\n",
      "    - If \"sqrt\", then `max_features=sqrt(n_features)` (same as \"auto\").\n",
      "    - If \"log2\", then `max_features=log2(n_features)`.\n",
      "    - If None, then `max_features=n_features`.\n",
      "\n",
      "    Note: the search for a split does not stop until at least one\n",
      "    valid partition of the node samples is found, even if it requires to\n",
      "    effectively inspect more than ``max_features`` features.\n",
      "\n",
      "max_leaf_nodes : int, default=None\n",
      "    Grow trees with ``max_leaf_nodes`` in best-first fashion.\n",
      "    Best nodes are defined as relative reduction in impurity.\n",
      "    If None then unlimited number of leaf nodes.\n",
      "\n",
      "min_impurity_decrease : float, default=0.0\n",
      "    A node will be split if this split induces a decrease of the impurity\n",
      "    greater than or equal to this value.\n",
      "\n",
      "    The weighted impurity decrease equation is the following::\n",
      "\n",
      "        N_t / N * (impurity - N_t_R / N_t * right_impurity\n",
      "                            - N_t_L / N_t * left_impurity)\n",
      "\n",
      "    where ``N`` is the total number of samples, ``N_t`` is the number of\n",
      "    samples at the current node, ``N_t_L`` is the number of samples in the\n",
      "    left child, and ``N_t_R`` is the number of samples in the right child.\n",
      "\n",
      "    ``N``, ``N_t``, ``N_t_R`` and ``N_t_L`` all refer to the weighted sum,\n",
      "    if ``sample_weight`` is passed.\n",
      "\n",
      "    .. versionadded:: 0.19\n",
      "\n",
      "bootstrap : bool, default=True\n",
      "    Whether bootstrap samples are used when building trees. If False, the\n",
      "    whole dataset is used to build each tree.\n",
      "\n",
      "oob_score : bool, default=False\n",
      "    Whether to use out-of-bag samples to estimate the generalization score.\n",
      "    Only available if bootstrap=True.\n",
      "\n",
      "n_jobs : int, default=None\n",
      "    The number of jobs to run in parallel. :meth:`fit`, :meth:`predict`,\n",
      "    :meth:`decision_path` and :meth:`apply` are all parallelized over the\n",
      "    trees. ``None`` means 1 unless in a :obj:`joblib.parallel_backend`\n",
      "    context. ``-1`` means using all processors. See :term:`Glossary\n",
      "    <n_jobs>` for more details.\n",
      "\n",
      "random_state : int, RandomState instance or None, default=None\n",
      "    Controls both the randomness of the bootstrapping of the samples used\n",
      "    when building trees (if ``bootstrap=True``) and the sampling of the\n",
      "    features to consider when looking for the best split at each node\n",
      "    (if ``max_features < n_features``).\n",
      "    See :term:`Glossary <random_state>` for details.\n",
      "\n",
      "verbose : int, default=0\n",
      "    Controls the verbosity when fitting and predicting.\n",
      "\n",
      "warm_start : bool, default=False\n",
      "    When set to ``True``, reuse the solution of the previous call to fit\n",
      "    and add more estimators to the ensemble, otherwise, just fit a whole\n",
      "    new forest. See :term:`the Glossary <warm_start>`.\n",
      "\n",
      "class_weight : {\"balanced\", \"balanced_subsample\"}, dict or list of dicts,             default=None\n",
      "    Weights associated with classes in the form ``{class_label: weight}``.\n",
      "    If not given, all classes are supposed to have weight one. For\n",
      "    multi-output problems, a list of dicts can be provided in the same\n",
      "    order as the columns of y.\n",
      "\n",
      "    Note that for multioutput (including multilabel) weights should be\n",
      "    defined for each class of every column in its own dict. For example,\n",
      "    for four-class multilabel classification weights should be\n",
      "    [{0: 1, 1: 1}, {0: 1, 1: 5}, {0: 1, 1: 1}, {0: 1, 1: 1}] instead of\n",
      "    [{1:1}, {2:5}, {3:1}, {4:1}].\n",
      "\n",
      "    The \"balanced\" mode uses the values of y to automatically adjust\n",
      "    weights inversely proportional to class frequencies in the input data\n",
      "    as ``n_samples / (n_classes * np.bincount(y))``\n",
      "\n",
      "    The \"balanced_subsample\" mode is the same as \"balanced\" except that\n",
      "    weights are computed based on the bootstrap sample for every tree\n",
      "    grown.\n",
      "\n",
      "    For multi-output, the weights of each column of y will be multiplied.\n",
      "\n",
      "    Note that these weights will be multiplied with sample_weight (passed\n",
      "    through the fit method) if sample_weight is specified.\n",
      "\n",
      "ccp_alpha : non-negative float, default=0.0\n",
      "    Complexity parameter used for Minimal Cost-Complexity Pruning. The\n",
      "    subtree with the largest cost complexity that is smaller than\n",
      "    ``ccp_alpha`` will be chosen. By default, no pruning is performed. See\n",
      "    :ref:`minimal_cost_complexity_pruning` for details.\n",
      "\n",
      "    .. versionadded:: 0.22\n",
      "\n",
      "max_samples : int or float, default=None\n",
      "    If bootstrap is True, the number of samples to draw from X\n",
      "    to train each base estimator.\n",
      "\n",
      "    - If None (default), then draw `X.shape[0]` samples.\n",
      "    - If int, then draw `max_samples` samples.\n",
      "    - If float, then draw `max_samples * X.shape[0]` samples. Thus,\n",
      "      `max_samples` should be in the interval `(0.0, 1.0]`.\n",
      "\n",
      "    .. versionadded:: 0.22\n",
      "\n",
      "Attributes\n",
      "----------\n",
      "base_estimator_ : DecisionTreeClassifier\n",
      "    The child estimator template used to create the collection of fitted\n",
      "    sub-estimators.\n",
      "\n",
      "estimators_ : list of DecisionTreeClassifier\n",
      "    The collection of fitted sub-estimators.\n",
      "\n",
      "classes_ : ndarray of shape (n_classes,) or a list of such arrays\n",
      "    The classes labels (single output problem), or a list of arrays of\n",
      "    class labels (multi-output problem).\n",
      "\n",
      "n_classes_ : int or list\n",
      "    The number of classes (single output problem), or a list containing the\n",
      "    number of classes for each output (multi-output problem).\n",
      "\n",
      "n_features_ : int\n",
      "    The number of features when ``fit`` is performed.\n",
      "\n",
      "    .. deprecated:: 1.0\n",
      "        Attribute `n_features_` was deprecated in version 1.0 and will be\n",
      "        removed in 1.2. Use `n_features_in_` instead.\n",
      "\n",
      "n_features_in_ : int\n",
      "    Number of features seen during :term:`fit`.\n",
      "\n",
      "    .. versionadded:: 0.24\n",
      "\n",
      "feature_names_in_ : ndarray of shape (`n_features_in_`,)\n",
      "    Names of features seen during :term:`fit`. Defined only when `X`\n",
      "    has feature names that are all strings.\n",
      "\n",
      "    .. versionadded:: 1.0\n",
      "\n",
      "n_outputs_ : int\n",
      "    The number of outputs when ``fit`` is performed.\n",
      "\n",
      "feature_importances_ : ndarray of shape (n_features,)\n",
      "    The impurity-based feature importances.\n",
      "    The higher, the more important the feature.\n",
      "    The importance of a feature is computed as the (normalized)\n",
      "    total reduction of the criterion brought by that feature.  It is also\n",
      "    known as the Gini importance.\n",
      "\n",
      "    Warning: impurity-based feature importances can be misleading for\n",
      "    high cardinality features (many unique values). See\n",
      "    :func:`sklearn.inspection.permutation_importance` as an alternative.\n",
      "\n",
      "oob_score_ : float\n",
      "    Score of the training dataset obtained using an out-of-bag estimate.\n",
      "    This attribute exists only when ``oob_score`` is True.\n",
      "\n",
      "oob_decision_function_ : ndarray of shape (n_samples, n_classes) or             (n_samples, n_classes, n_outputs)\n",
      "    Decision function computed with out-of-bag estimate on the training\n",
      "    set. If n_estimators is small it might be possible that a data point\n",
      "    was never left out during the bootstrap. In this case,\n",
      "    `oob_decision_function_` might contain NaN. This attribute exists\n",
      "    only when ``oob_score`` is True.\n",
      "\n",
      "See Also\n",
      "--------\n",
      "sklearn.tree.DecisionTreeClassifier : A decision tree classifier.\n",
      "sklearn.ensemble.ExtraTreesClassifier : Ensemble of extremely randomized\n",
      "    tree classifiers.\n",
      "\n",
      "Notes\n",
      "-----\n",
      "The default values for the parameters controlling the size of the trees\n",
      "(e.g. ``max_depth``, ``min_samples_leaf``, etc.) lead to fully grown and\n",
      "unpruned trees which can potentially be very large on some data sets. To\n",
      "reduce memory consumption, the complexity and size of the trees should be\n",
      "controlled by setting those parameter values.\n",
      "\n",
      "The features are always randomly permuted at each split. Therefore,\n",
      "the best found split may vary, even with the same training data,\n",
      "``max_features=n_features`` and ``bootstrap=False``, if the improvement\n",
      "of the criterion is identical for several splits enumerated during the\n",
      "search of the best split. To obtain a deterministic behaviour during\n",
      "fitting, ``random_state`` has to be fixed.\n",
      "\n",
      "References\n",
      "----------\n",
      ".. [1] L. Breiman, \"Random Forests\", Machine Learning, 45(1), 5-32, 2001.\n",
      "\n",
      "Examples\n",
      "--------\n",
      ">>> from sklearn.ensemble import RandomForestClassifier\n",
      ">>> from sklearn.datasets import make_classification\n",
      ">>> X, y = make_classification(n_samples=1000, n_features=4,\n",
      "...                            n_informative=2, n_redundant=0,\n",
      "...                            random_state=0, shuffle=False)\n",
      ">>> clf = RandomForestClassifier(max_depth=2, random_state=0)\n",
      ">>> clf.fit(X, y)\n",
      "RandomForestClassifier(...)\n",
      ">>> print(clf.predict([[0, 0, 0, 0]]))\n",
      "[1]\n"
     ]
    }
   ],
   "source": [
    "?rf_model"
   ]
  },
  {
   "cell_type": "code",
   "execution_count": null,
   "metadata": {},
   "outputs": [],
   "source": [
    "rf_params = {\"max_depth\": [2,5,8,10],\n",
    "            \"max_features\": [2,5,8],\n",
    "            \"n_estimators\": [10,500,1000],\n",
    "            \"min_samples_split\": [2,5,10]}"
   ]
  },
  {
   "cell_type": "code",
   "execution_count": null,
   "metadata": {},
   "outputs": [],
   "source": [
    "rf_model = RandomForestClassifier()\n",
    "\n",
    "rf_cv_model = GridSearchCV(rf_model, \n",
    "                           rf_params, \n",
    "                           cv = 10, \n",
    "                           n_jobs = -1, \n",
    "                           verbose = 2) "
   ]
  },
  {
   "cell_type": "code",
   "execution_count": null,
   "metadata": {},
   "outputs": [
    {
     "name": "stdout",
     "output_type": "stream",
     "text": [
      "Fitting 10 folds for each of 108 candidates, totalling 1080 fits\n"
     ]
    },
    {
     "data": {
      "text/plain": [
       "GridSearchCV(cv=10, estimator=RandomForestClassifier(), n_jobs=-1,\n",
       "             param_grid={'max_depth': [2, 5, 8, 10], 'max_features': [2, 5, 8],\n",
       "                         'min_samples_split': [2, 5, 10],\n",
       "                         'n_estimators': [10, 500, 1000]},\n",
       "             verbose=2)"
      ]
     },
     "execution_count": 11,
     "metadata": {},
     "output_type": "execute_result"
    }
   ],
   "source": [
    "rf_cv_model.fit(X_train, y_train)"
   ]
  },
  {
   "cell_type": "code",
   "execution_count": null,
   "metadata": {},
   "outputs": [
    {
     "name": "stdout",
     "output_type": "stream",
     "text": [
      "En iyi parametreler: {'max_depth': 8, 'max_features': 8, 'min_samples_split': 2, 'n_estimators': 1000}\n"
     ]
    }
   ],
   "source": [
    "print(\"En iyi parametreler: \" + str(rf_cv_model.best_params_))"
   ]
  },
  {
   "cell_type": "code",
   "execution_count": null,
   "metadata": {},
   "outputs": [],
   "source": [
    "#final"
   ]
  },
  {
   "cell_type": "code",
   "execution_count": 126,
   "metadata": {},
   "outputs": [
    {
     "data": {
      "text/plain": [
       "RandomForestClassifier(max_depth=8, max_features=8, n_estimators=1000)"
      ]
     },
     "execution_count": 126,
     "metadata": {},
     "output_type": "execute_result"
    }
   ],
   "source": [
    "rf_tuned = RandomForestClassifier(max_depth = 8, \n",
    "                                  max_features = 8, \n",
    "                                  min_samples_split = 2,\n",
    "                                  n_estimators = 1000)\n",
    "\n",
    "rf_tuned.fit(X_train, y_train)"
   ]
  },
  {
   "cell_type": "code",
   "execution_count": 127,
   "metadata": {},
   "outputs": [
    {
     "data": {
      "text/plain": [
       "0.7532467532467533"
      ]
     },
     "execution_count": 127,
     "metadata": {},
     "output_type": "execute_result"
    }
   ],
   "source": [
    "y_pred = rf_tuned.predict(X_test)\n",
    "accuracy_score(y_test, y_pred)"
   ]
  },
  {
   "cell_type": "code",
   "execution_count": 128,
   "metadata": {},
   "outputs": [],
   "source": [
    "Importance = pd.DataFrame({\"Importance\": rf_tuned.feature_importances_*100},\n",
    "                         index = X_train.columns)"
   ]
  },
  {
   "cell_type": "code",
   "execution_count": 129,
   "metadata": {},
   "outputs": [
    {
     "data": {
      "text/plain": [
       "Text(0.5, 0, 'Değişken Önem Düzeyleri')"
      ]
     },
     "execution_count": 129,
     "metadata": {},
     "output_type": "execute_result"
    },
    {
     "data": {
      "image/png": "[encoded data removed]",
      "text/plain": [
       "<Figure size 432x288 with 1 Axes>"
      ]
     },
     "metadata": {
      "needs_background": "light"
     },
     "output_type": "display_data"
    }
   ],
   "source": [
    "Importance.sort_values(by = \"Importance\", \n",
    "                       axis = 0, \n",
    "                       ascending = True).plot(kind =\"barh\", color = \"r\")\n",
    "\n",
    "plt.xlabel(\"Değişken Önem Düzeyleri\")"
   ]
  },
  {
   "cell_type": "markdown",
   "metadata": {},
   "source": [
    "# Gradient Boosting Machines"
   ]
  },
  {
   "cell_type": "code",
   "execution_count": 130,
   "metadata": {},
   "outputs": [],
   "source": [
    "diabetes = pd.read_csv(\"diabetes.csv\")\n",
    "df = diabetes.copy()\n",
    "df = df.dropna()\n",
    "y = df[\"Outcome\"]\n",
    "X = df.drop(['Outcome'], axis=1)\n",
    "#X = df[\"Pregnancies\"]\n",
    "X = pd.DataFrame(X)\n",
    "X_train, X_test, y_train, y_test = train_test_split(X, y, \n",
    "                                                    test_size=0.30, \n",
    "                                                    random_state=42)"
   ]
  },
  {
   "cell_type": "code",
   "execution_count": 131,
   "metadata": {},
   "outputs": [],
   "source": [
    "from sklearn.ensemble import GradientBoostingClassifier"
   ]
  },
  {
   "cell_type": "code",
   "execution_count": 132,
   "metadata": {},
   "outputs": [],
   "source": [
    "gbm_model = GradientBoostingClassifier().fit(X_train, y_train)"
   ]
  },
  {
   "cell_type": "code",
   "execution_count": 133,
   "metadata": {},
   "outputs": [
    {
     "data": {
      "text/plain": [
       "0.7445887445887446"
      ]
     },
     "execution_count": 133,
     "metadata": {},
     "output_type": "execute_result"
    }
   ],
   "source": [
    "y_pred = gbm_model.predict(X_test)\n",
    "accuracy_score(y_test, y_pred)"
   ]
  },
  {
   "cell_type": "markdown",
   "metadata": {},
   "source": [
    "## Model Tuning"
   ]
  },
  {
   "cell_type": "code",
   "execution_count": 134,
   "metadata": {},
   "outputs": [
    {
     "data": {
      "text/plain": [
       "GradientBoostingClassifier()"
      ]
     },
     "execution_count": 134,
     "metadata": {},
     "output_type": "execute_result"
    }
   ],
   "source": [
    "gbm_model"
   ]
  },
  {
   "cell_type": "code",
   "execution_count": null,
   "metadata": {},
   "outputs": [
    {
     "name": "stdout",
     "output_type": "stream",
     "text": [
      "\u001b[1;31mType:\u001b[0m        GradientBoostingClassifier\n",
      "\u001b[1;31mString form:\u001b[0m GradientBoostingClassifier()\n",
      "\u001b[1;31mLength:\u001b[0m      100\n",
      "\u001b[1;31mFile:\u001b[0m        c:\\users\\bilal\\appdata\\local\\programs\\python\\python39\\lib\\site-packages\\sklearn\\ensemble\\_gb.py\n",
      "\u001b[1;31mDocstring:\u001b[0m  \n",
      "Gradient Boosting for classification.\n",
      "\n",
      "GB builds an additive model in a\n",
      "forward stage-wise fashion; it allows for the optimization of\n",
      "arbitrary differentiable loss functions. In each stage ``n_classes_``\n",
      "regression trees are fit on the negative gradient of the\n",
      "binomial or multinomial deviance loss function. Binary classification\n",
      "is a special case where only a single regression tree is induced.\n",
      "\n",
      "Read more in the :ref:`User Guide <gradient_boosting>`.\n",
      "\n",
      "Parameters\n",
      "----------\n",
      "loss : {'deviance', 'exponential'}, default='deviance'\n",
      "    The loss function to be optimized. 'deviance' refers to\n",
      "    deviance (= logistic regression) for classification\n",
      "    with probabilistic outputs. For loss 'exponential' gradient\n",
      "    boosting recovers the AdaBoost algorithm.\n",
      "\n",
      "learning_rate : float, default=0.1\n",
      "    Learning rate shrinks the contribution of each tree by `learning_rate`.\n",
      "    There is a trade-off between learning_rate and n_estimators.\n",
      "\n",
      "n_estimators : int, default=100\n",
      "    The number of boosting stages to perform. Gradient boosting\n",
      "    is fairly robust to over-fitting so a large number usually\n",
      "    results in better performance.\n",
      "\n",
      "subsample : float, default=1.0\n",
      "    The fraction of samples to be used for fitting the individual base\n",
      "    learners. If smaller than 1.0 this results in Stochastic Gradient\n",
      "    Boosting. `subsample` interacts with the parameter `n_estimators`.\n",
      "    Choosing `subsample < 1.0` leads to a reduction of variance\n",
      "    and an increase in bias.\n",
      "\n",
      "criterion : {'friedman_mse', 'squared_error', 'mse', 'mae'},             default='friedman_mse'\n",
      "    The function to measure the quality of a split. Supported criteria\n",
      "    are 'friedman_mse' for the mean squared error with improvement\n",
      "    score by Friedman, 'squared_error' for mean squared error, and 'mae'\n",
      "    for the mean absolute error. The default value of 'friedman_mse' is\n",
      "    generally the best as it can provide a better approximation in some\n",
      "    cases.\n",
      "\n",
      "    .. versionadded:: 0.18\n",
      "\n",
      "    .. deprecated:: 0.24\n",
      "        `criterion='mae'` is deprecated and will be removed in version\n",
      "        1.1 (renaming of 0.26). Use `criterion='friedman_mse'` or\n",
      "        `'squared_error'` instead, as trees should use a squared error\n",
      "        criterion in Gradient Boosting.\n",
      "\n",
      "    .. deprecated:: 1.0\n",
      "        Criterion 'mse' was deprecated in v1.0 and will be removed in\n",
      "        version 1.2. Use `criterion='squared_error'` which is equivalent.\n",
      "\n",
      "min_samples_split : int or float, default=2\n",
      "    The minimum number of samples required to split an internal node:\n",
      "\n",
      "    - If int, then consider `min_samples_split` as the minimum number.\n",
      "    - If float, then `min_samples_split` is a fraction and\n",
      "      `ceil(min_samples_split * n_samples)` are the minimum\n",
      "      number of samples for each split.\n",
      "\n",
      "    .. versionchanged:: 0.18\n",
      "       Added float values for fractions.\n",
      "\n",
      "min_samples_leaf : int or float, default=1\n",
      "    The minimum number of samples required to be at a leaf node.\n",
      "    A split point at any depth will only be considered if it leaves at\n",
      "    least ``min_samples_leaf`` training samples in each of the left and\n",
      "    right branches.  This may have the effect of smoothing the model,\n",
      "    especially in regression.\n",
      "\n",
      "    - If int, then consider `min_samples_leaf` as the minimum number.\n",
      "    - If float, then `min_samples_leaf` is a fraction and\n",
      "      `ceil(min_samples_leaf * n_samples)` are the minimum\n",
      "      number of samples for each node.\n",
      "\n",
      "    .. versionchanged:: 0.18\n",
      "       Added float values for fractions.\n",
      "\n",
      "min_weight_fraction_leaf : float, default=0.0\n",
      "    The minimum weighted fraction of the sum total of weights (of all\n",
      "    the input samples) required to be at a leaf node. Samples have\n",
      "    equal weight when sample_weight is not provided.\n",
      "\n",
      "max_depth : int, default=3\n",
      "    The maximum depth of the individual regression estimators. The maximum\n",
      "    depth limits the number of nodes in the tree. Tune this parameter\n",
      "    for best performance; the best value depends on the interaction\n",
      "    of the input variables.\n",
      "\n",
      "min_impurity_decrease : float, default=0.0\n",
      "    A node will be split if this split induces a decrease of the impurity\n",
      "    greater than or equal to this value.\n",
      "\n",
      "    The weighted impurity decrease equation is the following::\n",
      "\n",
      "        N_t / N * (impurity - N_t_R / N_t * right_impurity\n",
      "                            - N_t_L / N_t * left_impurity)\n",
      "\n",
      "    where ``N`` is the total number of samples, ``N_t`` is the number of\n",
      "    samples at the current node, ``N_t_L`` is the number of samples in the\n",
      "    left child, and ``N_t_R`` is the number of samples in the right child.\n",
      "\n",
      "    ``N``, ``N_t``, ``N_t_R`` and ``N_t_L`` all refer to the weighted sum,\n",
      "    if ``sample_weight`` is passed.\n",
      "\n",
      "    .. versionadded:: 0.19\n",
      "\n",
      "init : estimator or 'zero', default=None\n",
      "    An estimator object that is used to compute the initial predictions.\n",
      "    ``init`` has to provide :meth:`fit` and :meth:`predict_proba`. If\n",
      "    'zero', the initial raw predictions are set to zero. By default, a\n",
      "    ``DummyEstimator`` predicting the classes priors is used.\n",
      "\n",
      "random_state : int, RandomState instance or None, default=None\n",
      "    Controls the random seed given to each Tree estimator at each\n",
      "    boosting iteration.\n",
      "    In addition, it controls the random permutation of the features at\n",
      "    each split (see Notes for more details).\n",
      "    It also controls the random splitting of the training data to obtain a\n",
      "    validation set if `n_iter_no_change` is not None.\n",
      "    Pass an int for reproducible output across multiple function calls.\n",
      "    See :term:`Glossary <random_state>`.\n",
      "\n",
      "max_features : {'auto', 'sqrt', 'log2'}, int or float, default=None\n",
      "    The number of features to consider when looking for the best split:\n",
      "\n",
      "    - If int, then consider `max_features` features at each split.\n",
      "    - If float, then `max_features` is a fraction and\n",
      "      `int(max_features * n_features)` features are considered at each\n",
      "      split.\n",
      "    - If 'auto', then `max_features=sqrt(n_features)`.\n",
      "    - If 'sqrt', then `max_features=sqrt(n_features)`.\n",
      "    - If 'log2', then `max_features=log2(n_features)`.\n",
      "    - If None, then `max_features=n_features`.\n",
      "\n",
      "    Choosing `max_features < n_features` leads to a reduction of variance\n",
      "    and an increase in bias.\n",
      "\n",
      "    Note: the search for a split does not stop until at least one\n",
      "    valid partition of the node samples is found, even if it requires to\n",
      "    effectively inspect more than ``max_features`` features.\n",
      "\n",
      "verbose : int, default=0\n",
      "    Enable verbose output. If 1 then it prints progress and performance\n",
      "    once in a while (the more trees the lower the frequency). If greater\n",
      "    than 1 then it prints progress and performance for every tree.\n",
      "\n",
      "max_leaf_nodes : int, default=None\n",
      "    Grow trees with ``max_leaf_nodes`` in best-first fashion.\n",
      "    Best nodes are defined as relative reduction in impurity.\n",
      "    If None then unlimited number of leaf nodes.\n",
      "\n",
      "warm_start : bool, default=False\n",
      "    When set to ``True``, reuse the solution of the previous call to fit\n",
      "    and add more estimators to the ensemble, otherwise, just erase the\n",
      "    previous solution. See :term:`the Glossary <warm_start>`.\n",
      "\n",
      "validation_fraction : float, default=0.1\n",
      "    The proportion of training data to set aside as validation set for\n",
      "    early stopping. Must be between 0 and 1.\n",
      "    Only used if ``n_iter_no_change`` is set to an integer.\n",
      "\n",
      "    .. versionadded:: 0.20\n",
      "\n",
      "n_iter_no_change : int, default=None\n",
      "    ``n_iter_no_change`` is used to decide if early stopping will be used\n",
      "    to terminate training when validation score is not improving. By\n",
      "    default it is set to None to disable early stopping. If set to a\n",
      "    number, it will set aside ``validation_fraction`` size of the training\n",
      "    data as validation and terminate training when validation score is not\n",
      "    improving in all of the previous ``n_iter_no_change`` numbers of\n",
      "    iterations. The split is stratified.\n",
      "\n",
      "    .. versionadded:: 0.20\n",
      "\n",
      "tol : float, default=1e-4\n",
      "    Tolerance for the early stopping. When the loss is not improving\n",
      "    by at least tol for ``n_iter_no_change`` iterations (if set to a\n",
      "    number), the training stops.\n",
      "\n",
      "    .. versionadded:: 0.20\n",
      "\n",
      "ccp_alpha : non-negative float, default=0.0\n",
      "    Complexity parameter used for Minimal Cost-Complexity Pruning. The\n",
      "    subtree with the largest cost complexity that is smaller than\n",
      "    ``ccp_alpha`` will be chosen. By default, no pruning is performed. See\n",
      "    :ref:`minimal_cost_complexity_pruning` for details.\n",
      "\n",
      "    .. versionadded:: 0.22\n",
      "\n",
      "Attributes\n",
      "----------\n",
      "n_estimators_ : int\n",
      "    The number of estimators as selected by early stopping (if\n",
      "    ``n_iter_no_change`` is specified). Otherwise it is set to\n",
      "    ``n_estimators``.\n",
      "\n",
      "    .. versionadded:: 0.20\n",
      "\n",
      "feature_importances_ : ndarray of shape (n_features,)\n",
      "    The impurity-based feature importances.\n",
      "    The higher, the more important the feature.\n",
      "    The importance of a feature is computed as the (normalized)\n",
      "    total reduction of the criterion brought by that feature.  It is also\n",
      "    known as the Gini importance.\n",
      "\n",
      "    Warning: impurity-based feature importances can be misleading for\n",
      "    high cardinality features (many unique values). See\n",
      "    :func:`sklearn.inspection.permutation_importance` as an alternative.\n",
      "\n",
      "oob_improvement_ : ndarray of shape (n_estimators,)\n",
      "    The improvement in loss (= deviance) on the out-of-bag samples\n",
      "    relative to the previous iteration.\n",
      "    ``oob_improvement_[0]`` is the improvement in\n",
      "    loss of the first stage over the ``init`` estimator.\n",
      "    Only available if ``subsample < 1.0``\n",
      "\n",
      "train_score_ : ndarray of shape (n_estimators,)\n",
      "    The i-th score ``train_score_[i]`` is the deviance (= loss) of the\n",
      "    model at iteration ``i`` on the in-bag sample.\n",
      "    If ``subsample == 1`` this is the deviance on the training data.\n",
      "\n",
      "loss_ : LossFunction\n",
      "    The concrete ``LossFunction`` object.\n",
      "\n",
      "init_ : estimator\n",
      "    The estimator that provides the initial predictions.\n",
      "    Set via the ``init`` argument or ``loss.init_estimator``.\n",
      "\n",
      "estimators_ : ndarray of DecisionTreeRegressor of             shape (n_estimators, ``loss_.K``)\n",
      "    The collection of fitted sub-estimators. ``loss_.K`` is 1 for binary\n",
      "    classification, otherwise n_classes.\n",
      "\n",
      "classes_ : ndarray of shape (n_classes,)\n",
      "    The classes labels.\n",
      "\n",
      "n_features_ : int\n",
      "    The number of data features.\n",
      "\n",
      "    .. deprecated:: 1.0\n",
      "        Attribute `n_features_` was deprecated in version 1.0 and will be\n",
      "        removed in 1.2. Use `n_features_in_` instead.\n",
      "\n",
      "n_features_in_ : int\n",
      "    Number of features seen during :term:`fit`.\n",
      "\n",
      "    .. versionadded:: 0.24\n",
      "\n",
      "feature_names_in_ : ndarray of shape (`n_features_in_`,)\n",
      "    Names of features seen during :term:`fit`. Defined only when `X`\n",
      "    has feature names that are all strings.\n",
      "\n",
      "    .. versionadded:: 1.0\n",
      "\n",
      "n_classes_ : int\n",
      "    The number of classes.\n",
      "\n",
      "max_features_ : int\n",
      "    The inferred value of max_features.\n",
      "\n",
      "See Also\n",
      "--------\n",
      "HistGradientBoostingClassifier : Histogram-based Gradient Boosting\n",
      "    Classification Tree.\n",
      "sklearn.tree.DecisionTreeClassifier : A decision tree classifier.\n",
      "RandomForestClassifier : A meta-estimator that fits a number of decision\n",
      "    tree classifiers on various sub-samples of the dataset and uses\n",
      "    averaging to improve the predictive accuracy and control over-fitting.\n",
      "AdaBoostClassifier : A meta-estimator that begins by fitting a classifier\n",
      "    on the original dataset and then fits additional copies of the\n",
      "    classifier on the same dataset where the weights of incorrectly\n",
      "    classified instances are adjusted such that subsequent classifiers\n",
      "    focus more on difficult cases.\n",
      "\n",
      "Notes\n",
      "-----\n",
      "The features are always randomly permuted at each split. Therefore,\n",
      "the best found split may vary, even with the same training data and\n",
      "``max_features=n_features``, if the improvement of the criterion is\n",
      "identical for several splits enumerated during the search of the best\n",
      "split. To obtain a deterministic behaviour during fitting,\n",
      "``random_state`` has to be fixed.\n",
      "\n",
      "References\n",
      "----------\n",
      "J. Friedman, Greedy Function Approximation: A Gradient Boosting\n",
      "Machine, The Annals of Statistics, Vol. 29, No. 5, 2001.\n",
      "\n",
      "J. Friedman, Stochastic Gradient Boosting, 1999\n",
      "\n",
      "T. Hastie, R. Tibshirani and J. Friedman.\n",
      "Elements of Statistical Learning Ed. 2, Springer, 2009.\n",
      "\n",
      "Examples\n",
      "--------\n",
      "The following example shows how to fit a gradient boosting classifier with\n",
      "100 decision stumps as weak learners.\n",
      "\n",
      ">>> from sklearn.datasets import make_hastie_10_2\n",
      ">>> from sklearn.ensemble import GradientBoostingClassifier\n",
      "\n",
      ">>> X, y = make_hastie_10_2(random_state=0)\n",
      ">>> X_train, X_test = X[:2000], X[2000:]\n",
      ">>> y_train, y_test = y[:2000], y[2000:]\n",
      "\n",
      ">>> clf = GradientBoostingClassifier(n_estimators=100, learning_rate=1.0,\n",
      "...     max_depth=1, random_state=0).fit(X_train, y_train)\n",
      ">>> clf.score(X_test, y_test)\n",
      "0.913...\n"
     ]
    }
   ],
   "source": [
    "?gbm_model"
   ]
  },
  {
   "cell_type": "code",
   "execution_count": null,
   "metadata": {},
   "outputs": [],
   "source": [
    "gbm_params = {\"learning_rate\" : [0.001, 0.01, 0.1, 0.05],\n",
    "             \"n_estimators\": [100,500,100],\n",
    "             \"max_depth\": [3,5,10],\n",
    "             \"min_samples_split\": [2,5,10]}"
   ]
  },
  {
   "cell_type": "code",
   "execution_count": null,
   "metadata": {},
   "outputs": [],
   "source": [
    "gbm = GradientBoostingClassifier()\n",
    "\n",
    "gbm_cv = GridSearchCV(gbm, gbm_params, cv = 10, n_jobs = -1, verbose = 2)"
   ]
  },
  {
   "cell_type": "code",
   "execution_count": null,
   "metadata": {},
   "outputs": [
    {
     "name": "stdout",
     "output_type": "stream",
     "text": [
      "Fitting 10 folds for each of 108 candidates, totalling 1080 fits\n"
     ]
    },
    {
     "data": {
      "text/plain": [
       "GridSearchCV(cv=10, estimator=GradientBoostingClassifier(), n_jobs=-1,\n",
       "             param_grid={'learning_rate': [0.001, 0.01, 0.1, 0.05],\n",
       "                         'max_depth': [3, 5, 10],\n",
       "                         'min_samples_split': [2, 5, 10],\n",
       "                         'n_estimators': [100, 500, 100]},\n",
       "             verbose=2)"
      ]
     },
     "execution_count": 11,
     "metadata": {},
     "output_type": "execute_result"
    }
   ],
   "source": [
    "gbm_cv.fit(X_train, y_train)"
   ]
  },
  {
   "cell_type": "code",
   "execution_count": null,
   "metadata": {},
   "outputs": [
    {
     "name": "stdout",
     "output_type": "stream",
     "text": [
      "En iyi parametreler: {'learning_rate': 0.1, 'max_depth': 3, 'min_samples_split': 5, 'n_estimators': 100}\n"
     ]
    }
   ],
   "source": [
    "print(\"En iyi parametreler: \" + str(gbm_cv.best_params_))"
   ]
  },
  {
   "cell_type": "code",
   "execution_count": 135,
   "metadata": {},
   "outputs": [],
   "source": [
    "gbm = GradientBoostingClassifier(learning_rate = 0.01, \n",
    "                                 max_depth = 3,\n",
    "                                min_samples_split = 5,\n",
    "                                n_estimators = 500)"
   ]
  },
  {
   "cell_type": "code",
   "execution_count": 136,
   "metadata": {},
   "outputs": [],
   "source": [
    "gbm_tuned =  gbm.fit(X_train,y_train)"
   ]
  },
  {
   "cell_type": "code",
   "execution_count": 137,
   "metadata": {},
   "outputs": [
    {
     "data": {
      "text/plain": [
       "0.7489177489177489"
      ]
     },
     "execution_count": 137,
     "metadata": {},
     "output_type": "execute_result"
    }
   ],
   "source": [
    "y_pred = gbm_tuned.predict(X_test)\n",
    "accuracy_score(y_test, y_pred)"
   ]
  },
  {
   "cell_type": "markdown",
   "metadata": {},
   "source": [
    "# XGBoost"
   ]
  },
  {
   "cell_type": "code",
   "execution_count": 138,
   "metadata": {},
   "outputs": [],
   "source": [
    "diabetes = pd.read_csv(\"diabetes.csv\")\n",
    "df = diabetes.copy()\n",
    "df = df.dropna()\n",
    "y = df[\"Outcome\"]\n",
    "X = df.drop(['Outcome'], axis=1)\n",
    "#X = df[\"Pregnancies\"]\n",
    "X = pd.DataFrame(X)\n",
    "X_train, X_test, y_train, y_test = train_test_split(X, y, \n",
    "                                                    test_size=0.30, \n",
    "                                                    random_state=42)"
   ]
  },
  {
   "cell_type": "code",
   "execution_count": 139,
   "metadata": {},
   "outputs": [],
   "source": [
    "from xgboost import XGBClassifier"
   ]
  },
  {
   "cell_type": "code",
   "execution_count": 140,
   "metadata": {},
   "outputs": [],
   "source": [
    "xgb_model = XGBClassifier().fit(X_train, y_train)"
   ]
  },
  {
   "cell_type": "code",
   "execution_count": 141,
   "metadata": {},
   "outputs": [
    {
     "data": {
      "text/plain": [
       "XGBClassifier(base_score=0.5, booster='gbtree', callbacks=None,\n",
       "              colsample_bylevel=1, colsample_bynode=1, colsample_bytree=1,\n",
       "              early_stopping_rounds=None, enable_categorical=False,\n",
       "              eval_metric=None, gamma=0, gpu_id=-1, grow_policy='depthwise',\n",
       "              importance_type=None, interaction_constraints='',\n",
       "              learning_rate=0.300000012, max_bin=256, max_cat_to_onehot=4,\n",
       "              max_delta_step=0, max_depth=6, max_leaves=0, min_child_weight=1,\n",
       "              missing=nan, monotone_constraints='()', n_estimators=100,\n",
       "              n_jobs=0, num_parallel_tree=1, predictor='auto', random_state=0,\n",
       "              reg_alpha=0, reg_lambda=1, ...)"
      ]
     },
     "execution_count": 141,
     "metadata": {},
     "output_type": "execute_result"
    }
   ],
   "source": [
    "xgb_model"
   ]
  },
  {
   "cell_type": "code",
   "execution_count": 142,
   "metadata": {},
   "outputs": [
    {
     "data": {
      "text/plain": [
       "0.7359307359307359"
      ]
     },
     "execution_count": 142,
     "metadata": {},
     "output_type": "execute_result"
    }
   ],
   "source": [
    "y_pred = xgb_model.predict(X_test)\n",
    "accuracy_score(y_test, y_pred)"
   ]
  },
  {
   "cell_type": "markdown",
   "metadata": {},
   "source": [
    "## Model Tuning"
   ]
  },
  {
   "cell_type": "code",
   "execution_count": null,
   "metadata": {},
   "outputs": [
    {
     "data": {
      "text/plain": [
       "XGBClassifier(base_score=0.5, booster='gbtree', callbacks=None,\n",
       "              colsample_bylevel=1, colsample_bynode=1, colsample_bytree=1,\n",
       "              early_stopping_rounds=None, enable_categorical=False,\n",
       "              eval_metric=None, gamma=0, gpu_id=-1, grow_policy='depthwise',\n",
       "              importance_type=None, interaction_constraints='',\n",
       "              learning_rate=0.300000012, max_bin=256, max_cat_to_onehot=4,\n",
       "              max_delta_step=0, max_depth=6, max_leaves=0, min_child_weight=1,\n",
       "              missing=nan, monotone_constraints='()', n_estimators=100,\n",
       "              n_jobs=0, num_parallel_tree=1, predictor='auto', random_state=0,\n",
       "              reg_alpha=0, reg_lambda=1, ...)"
      ]
     },
     "execution_count": 7,
     "metadata": {},
     "output_type": "execute_result"
    }
   ],
   "source": [
    "xgb_model"
   ]
  },
  {
   "cell_type": "code",
   "execution_count": null,
   "metadata": {},
   "outputs": [],
   "source": [
    "?xgb_model"
   ]
  },
  {
   "cell_type": "code",
   "execution_count": null,
   "metadata": {},
   "outputs": [],
   "source": [
    "xgb_params = {\n",
    "        'n_estimators': [100, 500, 1000, 2000],\n",
    "        'subsample': [0.6, 0.8, 1.0],\n",
    "        'max_depth': [3, 4, 5,6],\n",
    "        'learning_rate': [0.1,0.01,0.02,0.05],\n",
    "        \"min_samples_split\": [2,5,10]}"
   ]
  },
  {
   "cell_type": "code",
   "execution_count": null,
   "metadata": {},
   "outputs": [],
   "source": [
    "xgb = XGBClassifier()\n",
    "\n",
    "xgb_cv_model = GridSearchCV(xgb, xgb_params, cv = 10, n_jobs = -1, verbose = 2)"
   ]
  },
  {
   "cell_type": "code",
   "execution_count": null,
   "metadata": {},
   "outputs": [
    {
     "name": "stdout",
     "output_type": "stream",
     "text": [
      "Fitting 10 folds for each of 576 candidates, totalling 5760 fits\n",
      "[22:29:41] WARNING: C:/Users/Administrator/workspace/xgboost-win64_release_1.6.0/src/learner.cc:627: \n",
      "Parameters: { \"min_samples_split\" } might not be used.\n",
      "\n",
      "  This could be a false alarm, with some parameters getting used by language bindings but\n",
      "  then being mistakenly passed down to XGBoost core, or some parameter actually being used\n",
      "  but getting flagged wrongly here. Please open an issue if you find any such cases.\n",
      "\n",
      "\n"
     ]
    },
    {
     "data": {
      "text/plain": [
       "GridSearchCV(cv=10,\n",
       "             estimator=XGBClassifier(base_score=None, booster=None,\n",
       "                                     callbacks=None, colsample_bylevel=None,\n",
       "                                     colsample_bynode=None,\n",
       "                                     colsample_bytree=None,\n",
       "                                     early_stopping_rounds=None,\n",
       "                                     enable_categorical=False, eval_metric=None,\n",
       "                                     gamma=None, gpu_id=None, grow_policy=None,\n",
       "                                     importance_type=None,\n",
       "                                     interaction_constraints=None,\n",
       "                                     learning_rate=None, max_bin=None,\n",
       "                                     max_c...\n",
       "                                     max_leaves=None, min_child_weight=None,\n",
       "                                     missing=nan, monotone_constraints=None,\n",
       "                                     n_estimators=100, n_jobs=None,\n",
       "                                     num_parallel_tree=None, predictor=None,\n",
       "                                     random_state=None, reg_alpha=None,\n",
       "                                     reg_lambda=None, ...),\n",
       "             n_jobs=-1,\n",
       "             param_grid={'learning_rate': [0.1, 0.01, 0.02, 0.05],\n",
       "                         'max_depth': [3, 4, 5, 6],\n",
       "                         'min_samples_split': [2, 5, 10],\n",
       "                         'n_estimators': [100, 500, 1000, 2000],\n",
       "                         'subsample': [0.6, 0.8, 1.0]},\n",
       "             verbose=2)"
      ]
     },
     "execution_count": 10,
     "metadata": {},
     "output_type": "execute_result"
    }
   ],
   "source": [
    "xgb_cv_model.fit(X_train, y_train)"
   ]
  },
  {
   "cell_type": "code",
   "execution_count": 144,
   "metadata": {},
   "outputs": [],
   "source": [
    "xgb = XGBClassifier(learning_rate = 0.02, \n",
    "                    max_depth = 3,\n",
    "                    min_samples_split = 2,\n",
    "                    n_estimators = 100,\n",
    "                    subsample = 0.6)"
   ]
  },
  {
   "cell_type": "code",
   "execution_count": 145,
   "metadata": {},
   "outputs": [
    {
     "name": "stdout",
     "output_type": "stream",
     "text": [
      "[02:41:04] WARNING: C:/Users/Administrator/workspace/xgboost-win64_release_1.6.0/src/learner.cc:627: \n",
      "Parameters: { \"min_samples_split\" } might not be used.\n",
      "\n",
      "  This could be a false alarm, with some parameters getting used by language bindings but\n",
      "  then being mistakenly passed down to XGBoost core, or some parameter actually being used\n",
      "  but getting flagged wrongly here. Please open an issue if you find any such cases.\n",
      "\n",
      "\n"
     ]
    }
   ],
   "source": [
    "xgb_tuned =  xgb.fit(X_train,y_train)"
   ]
  },
  {
   "cell_type": "code",
   "execution_count": 146,
   "metadata": {},
   "outputs": [
    {
     "data": {
      "text/plain": [
       "0.7575757575757576"
      ]
     },
     "execution_count": 146,
     "metadata": {},
     "output_type": "execute_result"
    }
   ],
   "source": [
    "y_pred = xgb_tuned.predict(X_test)\n",
    "accuracy_score(y_test, y_pred)"
   ]
  },
  {
   "cell_type": "markdown",
   "metadata": {},
   "source": [
    "# LightGBM"
   ]
  },
  {
   "cell_type": "code",
   "execution_count": 147,
   "metadata": {},
   "outputs": [],
   "source": [
    "diabetes = pd.read_csv(\"diabetes.csv\")\n",
    "df = diabetes.copy()\n",
    "df = df.dropna()\n",
    "y = df[\"Outcome\"]\n",
    "X = df.drop(['Outcome'], axis=1)\n",
    "#X = df[\"Pregnancies\"]\n",
    "X = pd.DataFrame(X)\n",
    "X_train, X_test, y_train, y_test = train_test_split(X, y, \n",
    "                                                    test_size=0.30, \n",
    "                                                    random_state=42)"
   ]
  },
  {
   "cell_type": "code",
   "execution_count": 148,
   "metadata": {},
   "outputs": [],
   "source": [
    "from lightgbm import LGBMClassifier"
   ]
  },
  {
   "cell_type": "code",
   "execution_count": 149,
   "metadata": {},
   "outputs": [],
   "source": [
    "lgbm_model = LGBMClassifier().fit(X_train, y_train)"
   ]
  },
  {
   "cell_type": "code",
   "execution_count": 150,
   "metadata": {},
   "outputs": [
    {
     "data": {
      "text/plain": [
       "0.7229437229437229"
      ]
     },
     "execution_count": 150,
     "metadata": {},
     "output_type": "execute_result"
    }
   ],
   "source": [
    "y_pred = lgbm_model.predict(X_test)\n",
    "accuracy_score(y_test, y_pred)"
   ]
  },
  {
   "cell_type": "code",
   "execution_count": null,
   "metadata": {},
   "outputs": [],
   "source": [
    "## Model Tuning"
   ]
  },
  {
   "cell_type": "code",
   "execution_count": null,
   "metadata": {},
   "outputs": [
    {
     "data": {
      "text/plain": [
       "LGBMClassifier()"
      ]
     },
     "execution_count": 6,
     "metadata": {},
     "output_type": "execute_result"
    }
   ],
   "source": [
    "lgbm_model"
   ]
  },
  {
   "cell_type": "code",
   "execution_count": null,
   "metadata": {},
   "outputs": [
    {
     "name": "stdout",
     "output_type": "stream",
     "text": [
      "\u001b[1;31mType:\u001b[0m           LGBMClassifier\n",
      "\u001b[1;31mString form:\u001b[0m    LGBMClassifier()\n",
      "\u001b[1;31mFile:\u001b[0m           c:\\users\\bilal\\appdata\\local\\programs\\python\\python39\\lib\\site-packages\\lightgbm\\sklearn.py\n",
      "\u001b[1;31mDocstring:\u001b[0m      LightGBM classifier.\n",
      "\u001b[1;31mInit docstring:\u001b[0m\n",
      "Construct a gradient boosting model.\n",
      "\n",
      "Parameters\n",
      "----------\n",
      "boosting_type : str, optional (default='gbdt')\n",
      "    'gbdt', traditional Gradient Boosting Decision Tree.\n",
      "    'dart', Dropouts meet Multiple Additive Regression Trees.\n",
      "    'goss', Gradient-based One-Side Sampling.\n",
      "    'rf', Random Forest.\n",
      "num_leaves : int, optional (default=31)\n",
      "    Maximum tree leaves for base learners.\n",
      "max_depth : int, optional (default=-1)\n",
      "    Maximum tree depth for base learners, <=0 means no limit.\n",
      "learning_rate : float, optional (default=0.1)\n",
      "    Boosting learning rate.\n",
      "    You can use ``callbacks`` parameter of ``fit`` method to shrink/adapt learning rate\n",
      "    in training using ``reset_parameter`` callback.\n",
      "    Note, that this will ignore the ``learning_rate`` argument in training.\n",
      "n_estimators : int, optional (default=100)\n",
      "    Number of boosted trees to fit.\n",
      "subsample_for_bin : int, optional (default=200000)\n",
      "    Number of samples for constructing bins.\n",
      "objective : str, callable or None, optional (default=None)\n",
      "    Specify the learning task and the corresponding learning objective or\n",
      "    a custom objective function to be used (see note below).\n",
      "    Default: 'regression' for LGBMRegressor, 'binary' or 'multiclass' for LGBMClassifier, 'lambdarank' for LGBMRanker.\n",
      "class_weight : dict, 'balanced' or None, optional (default=None)\n",
      "    Weights associated with classes in the form ``{class_label: weight}``.\n",
      "    Use this parameter only for multi-class classification task;\n",
      "    for binary classification task you may use ``is_unbalance`` or ``scale_pos_weight`` parameters.\n",
      "    Note, that the usage of all these parameters will result in poor estimates of the individual class probabilities.\n",
      "    You may want to consider performing probability calibration\n",
      "    (https://scikit-learn.org/stable/modules/calibration.html) of your model.\n",
      "    The 'balanced' mode uses the values of y to automatically adjust weights\n",
      "    inversely proportional to class frequencies in the input data as ``n_samples / (n_classes * np.bincount(y))``.\n",
      "    If None, all classes are supposed to have weight one.\n",
      "    Note, that these weights will be multiplied with ``sample_weight`` (passed through the ``fit`` method)\n",
      "    if ``sample_weight`` is specified.\n",
      "min_split_gain : float, optional (default=0.)\n",
      "    Minimum loss reduction required to make a further partition on a leaf node of the tree.\n",
      "min_child_weight : float, optional (default=1e-3)\n",
      "    Minimum sum of instance weight (hessian) needed in a child (leaf).\n",
      "min_child_samples : int, optional (default=20)\n",
      "    Minimum number of data needed in a child (leaf).\n",
      "subsample : float, optional (default=1.)\n",
      "    Subsample ratio of the training instance.\n",
      "subsample_freq : int, optional (default=0)\n",
      "    Frequency of subsample, <=0 means no enable.\n",
      "colsample_bytree : float, optional (default=1.)\n",
      "    Subsample ratio of columns when constructing each tree.\n",
      "reg_alpha : float, optional (default=0.)\n",
      "    L1 regularization term on weights.\n",
      "reg_lambda : float, optional (default=0.)\n",
      "    L2 regularization term on weights.\n",
      "random_state : int, RandomState object or None, optional (default=None)\n",
      "    Random number seed.\n",
      "    If int, this number is used to seed the C++ code.\n",
      "    If RandomState object (numpy), a random integer is picked based on its state to seed the C++ code.\n",
      "    If None, default seeds in C++ code are used.\n",
      "n_jobs : int, optional (default=-1)\n",
      "    Number of parallel threads.\n",
      "silent : bool, optional (default=True)\n",
      "    Whether to print messages while running boosting.\n",
      "importance_type : str, optional (default='split')\n",
      "    The type of feature importance to be filled into ``feature_importances_``.\n",
      "    If 'split', result contains numbers of times the feature is used in a model.\n",
      "    If 'gain', result contains total gains of splits which use the feature.\n",
      "**kwargs\n",
      "    Other parameters for the model.\n",
      "    Check http://lightgbm.readthedocs.io/en/latest/Parameters.html for more parameters.\n",
      "\n",
      "    .. warning::\n",
      "\n",
      "        \\*\\*kwargs is not supported in sklearn, it may cause unexpected issues.\n",
      "\n",
      "Note\n",
      "----\n",
      "A custom objective function can be provided for the ``objective`` parameter.\n",
      "In this case, it should have the signature\n",
      "``objective(y_true, y_pred) -> grad, hess`` or\n",
      "``objective(y_true, y_pred, group) -> grad, hess``:\n",
      "\n",
      "    y_true : array-like of shape = [n_samples]\n",
      "        The target values.\n",
      "    y_pred : array-like of shape = [n_samples] or shape = [n_samples * n_classes] (for multi-class task)\n",
      "        The predicted values.\n",
      "        Predicted values are returned before any transformation,\n",
      "        e.g. they are raw margin instead of probability of positive class for binary task.\n",
      "    group : array-like\n",
      "        Group/query data.\n",
      "        Only used in the learning-to-rank task.\n",
      "        sum(group) = n_samples.\n",
      "        For example, if you have a 100-document dataset with ``group = [10, 20, 40, 10, 10, 10]``, that means that you have 6 groups,\n",
      "        where the first 10 records are in the first group, records 11-30 are in the second group, records 31-70 are in the third group, etc.\n",
      "    grad : array-like of shape = [n_samples] or shape = [n_samples * n_classes] (for multi-class task)\n",
      "        The value of the first order derivative (gradient) of the loss\n",
      "        with respect to the elements of y_pred for each sample point.\n",
      "    hess : array-like of shape = [n_samples] or shape = [n_samples * n_classes] (for multi-class task)\n",
      "        The value of the second order derivative (Hessian) of the loss\n",
      "        with respect to the elements of y_pred for each sample point.\n",
      "\n",
      "For multi-class task, the y_pred is group by class_id first, then group by row_id.\n",
      "If you want to get i-th row y_pred in j-th class, the access way is y_pred[j * num_data + i]\n",
      "and you should group grad and hess in this way as well.\n"
     ]
    }
   ],
   "source": [
    "?lgbm_model"
   ]
  },
  {
   "cell_type": "code",
   "execution_count": null,
   "metadata": {},
   "outputs": [],
   "source": [
    "lgbm_params = {\n",
    "        'n_estimators': [100, 500, 1000, 2000],\n",
    "        'subsample': [0.6, 0.8, 1.0],\n",
    "        'max_depth': [3, 4, 5,6],\n",
    "        'learning_rate': [0.1,0.01,0.02,0.05],\n",
    "        \"min_child_samples\": [5,10,20]}"
   ]
  },
  {
   "cell_type": "code",
   "execution_count": null,
   "metadata": {},
   "outputs": [],
   "source": [
    "lgbm = LGBMClassifier()\n",
    "\n",
    "lgbm_cv_model = GridSearchCV(lgbm, lgbm_params, \n",
    "                             cv = 10, \n",
    "                             n_jobs = -1, \n",
    "                             verbose = 2)\n",
    "\n"
   ]
  },
  {
   "cell_type": "code",
   "execution_count": null,
   "metadata": {},
   "outputs": [
    {
     "name": "stdout",
     "output_type": "stream",
     "text": [
      "Fitting 10 folds for each of 576 candidates, totalling 5760 fits\n"
     ]
    },
    {
     "data": {
      "text/plain": [
       "GridSearchCV(cv=10, estimator=LGBMClassifier(), n_jobs=-1,\n",
       "             param_grid={'learning_rate': [0.1, 0.01, 0.02, 0.05],\n",
       "                         'max_depth': [3, 4, 5, 6],\n",
       "                         'min_child_samples': [5, 10, 20],\n",
       "                         'n_estimators': [100, 500, 1000, 2000],\n",
       "                         'subsample': [0.6, 0.8, 1.0]},\n",
       "             verbose=2)"
      ]
     },
     "execution_count": 10,
     "metadata": {},
     "output_type": "execute_result"
    }
   ],
   "source": [
    "lgbm_cv_model.fit(X_train, y_train)"
   ]
  },
  {
   "cell_type": "code",
   "execution_count": null,
   "metadata": {},
   "outputs": [
    {
     "data": {
      "text/plain": [
       "{'learning_rate': 0.05,\n",
       " 'max_depth': 3,\n",
       " 'min_child_samples': 20,\n",
       " 'n_estimators': 100,\n",
       " 'subsample': 0.6}"
      ]
     },
     "execution_count": 11,
     "metadata": {},
     "output_type": "execute_result"
    }
   ],
   "source": [
    "lgbm_cv_model.best_params_"
   ]
  },
  {
   "cell_type": "code",
   "execution_count": 151,
   "metadata": {},
   "outputs": [],
   "source": [
    "lgbm = LGBMClassifier(learning_rate = 0.05, \n",
    "                       max_depth = 3,\n",
    "                       subsample = 0.6,\n",
    "                       n_estimators = 100,\n",
    "                       min_child_samples = 20)"
   ]
  },
  {
   "cell_type": "code",
   "execution_count": 152,
   "metadata": {},
   "outputs": [],
   "source": [
    "lgbm_tuned = lgbm.fit(X_train,y_train)"
   ]
  },
  {
   "cell_type": "code",
   "execution_count": 153,
   "metadata": {},
   "outputs": [
    {
     "data": {
      "text/plain": [
       "0.7489177489177489"
      ]
     },
     "execution_count": 153,
     "metadata": {},
     "output_type": "execute_result"
    }
   ],
   "source": [
    "y_pred = lgbm_tuned.predict(X_test)\n",
    "accuracy_score(y_test, y_pred)"
   ]
  },
  {
   "cell_type": "markdown",
   "metadata": {},
   "source": [
    "# CatBoost"
   ]
  },
  {
   "cell_type": "markdown",
   "metadata": {},
   "source": [
    "## Model & Tahmin"
   ]
  },
  {
   "cell_type": "code",
   "execution_count": 154,
   "metadata": {},
   "outputs": [],
   "source": [
    "diabetes = pd.read_csv(\"diabetes.csv\")\n",
    "df = diabetes.copy()\n",
    "df = df.dropna()\n",
    "y = df[\"Outcome\"]\n",
    "X = df.drop(['Outcome'], axis=1)\n",
    "#X = df[\"Pregnancies\"]\n",
    "X = pd.DataFrame(X)\n",
    "X_train, X_test, y_train, y_test = train_test_split(X, y, \n",
    "                                                    test_size=0.30, \n",
    "                                                    random_state=42)"
   ]
  },
  {
   "cell_type": "code",
   "execution_count": 155,
   "metadata": {},
   "outputs": [],
   "source": [
    "#!pip install catboost\n",
    "from catboost import CatBoostClassifier"
   ]
  },
  {
   "cell_type": "code",
   "execution_count": 156,
   "metadata": {},
   "outputs": [
    {
     "name": "stdout",
     "output_type": "stream",
     "text": [
      "Learning rate set to 0.0079\n",
      "0:\tlearn: 0.6879744\ttotal: 1.39ms\tremaining: 1.39s\n",
      "1:\tlearn: 0.6843414\ttotal: 4.05ms\tremaining: 2.02s\n",
      "2:\tlearn: 0.6805760\ttotal: 5.87ms\tremaining: 1.95s\n",
      "3:\tlearn: 0.6765782\ttotal: 7.32ms\tremaining: 1.82s\n",
      "4:\tlearn: 0.6720829\ttotal: 8.66ms\tremaining: 1.72s\n",
      "5:\tlearn: 0.6681617\ttotal: 10.8ms\tremaining: 1.79s\n",
      "6:\tlearn: 0.6641912\ttotal: 12.4ms\tremaining: 1.75s\n",
      "7:\tlearn: 0.6602881\ttotal: 13.5ms\tremaining: 1.68s\n",
      "8:\tlearn: 0.6562626\ttotal: 14.7ms\tremaining: 1.62s\n",
      "9:\tlearn: 0.6528483\ttotal: 15.9ms\tremaining: 1.57s\n",
      "10:\tlearn: 0.6487823\ttotal: 17.1ms\tremaining: 1.53s\n",
      "11:\tlearn: 0.6454980\ttotal: 18.3ms\tremaining: 1.5s\n",
      "12:\tlearn: 0.6418953\ttotal: 19.5ms\tremaining: 1.48s\n",
      "13:\tlearn: 0.6374431\ttotal: 20.8ms\tremaining: 1.46s\n",
      "14:\tlearn: 0.6339676\ttotal: 22.2ms\tremaining: 1.46s\n",
      "15:\tlearn: 0.6304252\ttotal: 23.5ms\tremaining: 1.44s\n",
      "16:\tlearn: 0.6266998\ttotal: 24.9ms\tremaining: 1.44s\n",
      "17:\tlearn: 0.6237660\ttotal: 26.6ms\tremaining: 1.45s\n",
      "18:\tlearn: 0.6204394\ttotal: 27.9ms\tremaining: 1.44s\n",
      "19:\tlearn: 0.6170129\ttotal: 29.1ms\tremaining: 1.43s\n",
      "20:\tlearn: 0.6133404\ttotal: 30.3ms\tremaining: 1.41s\n",
      "21:\tlearn: 0.6104932\ttotal: 31.6ms\tremaining: 1.4s\n",
      "22:\tlearn: 0.6069523\ttotal: 32.7ms\tremaining: 1.39s\n",
      "23:\tlearn: 0.6036467\ttotal: 33.8ms\tremaining: 1.37s\n",
      "24:\tlearn: 0.6005392\ttotal: 34.9ms\tremaining: 1.36s\n",
      "25:\tlearn: 0.5977520\ttotal: 35.9ms\tremaining: 1.34s\n",
      "26:\tlearn: 0.5948189\ttotal: 36.9ms\tremaining: 1.33s\n",
      "27:\tlearn: 0.5919831\ttotal: 38ms\tremaining: 1.32s\n",
      "28:\tlearn: 0.5885065\ttotal: 39.1ms\tremaining: 1.31s\n",
      "29:\tlearn: 0.5848273\ttotal: 40.8ms\tremaining: 1.32s\n",
      "30:\tlearn: 0.5822076\ttotal: 41.9ms\tremaining: 1.31s\n",
      "31:\tlearn: 0.5790604\ttotal: 43ms\tremaining: 1.3s\n",
      "32:\tlearn: 0.5762252\ttotal: 44.1ms\tremaining: 1.29s\n",
      "33:\tlearn: 0.5745338\ttotal: 45.2ms\tremaining: 1.28s\n",
      "34:\tlearn: 0.5719085\ttotal: 46.3ms\tremaining: 1.27s\n",
      "35:\tlearn: 0.5693365\ttotal: 47.3ms\tremaining: 1.27s\n",
      "36:\tlearn: 0.5665486\ttotal: 48.6ms\tremaining: 1.26s\n",
      "37:\tlearn: 0.5647413\ttotal: 49.6ms\tremaining: 1.26s\n",
      "38:\tlearn: 0.5622430\ttotal: 50.7ms\tremaining: 1.25s\n",
      "39:\tlearn: 0.5600038\ttotal: 51.9ms\tremaining: 1.25s\n",
      "40:\tlearn: 0.5579786\ttotal: 53.1ms\tremaining: 1.24s\n",
      "41:\tlearn: 0.5555817\ttotal: 55ms\tremaining: 1.25s\n",
      "42:\tlearn: 0.5533884\ttotal: 57.5ms\tremaining: 1.28s\n",
      "43:\tlearn: 0.5503718\ttotal: 58.7ms\tremaining: 1.28s\n",
      "44:\tlearn: 0.5482587\ttotal: 59.8ms\tremaining: 1.27s\n",
      "45:\tlearn: 0.5458783\ttotal: 60.9ms\tremaining: 1.26s\n",
      "46:\tlearn: 0.5441370\ttotal: 61.9ms\tremaining: 1.25s\n",
      "47:\tlearn: 0.5422492\ttotal: 63ms\tremaining: 1.25s\n",
      "48:\tlearn: 0.5397111\ttotal: 64.1ms\tremaining: 1.24s\n",
      "49:\tlearn: 0.5378482\ttotal: 65.1ms\tremaining: 1.24s\n",
      "50:\tlearn: 0.5355250\ttotal: 66.2ms\tremaining: 1.23s\n",
      "51:\tlearn: 0.5334717\ttotal: 67.3ms\tremaining: 1.23s\n",
      "52:\tlearn: 0.5308796\ttotal: 68.5ms\tremaining: 1.22s\n",
      "53:\tlearn: 0.5291891\ttotal: 71.2ms\tremaining: 1.25s\n",
      "54:\tlearn: 0.5273404\ttotal: 73ms\tremaining: 1.25s\n",
      "55:\tlearn: 0.5252025\ttotal: 74.1ms\tremaining: 1.25s\n",
      "56:\tlearn: 0.5232146\ttotal: 75.3ms\tremaining: 1.24s\n",
      "57:\tlearn: 0.5212394\ttotal: 76.4ms\tremaining: 1.24s\n",
      "58:\tlearn: 0.5188927\ttotal: 77.5ms\tremaining: 1.24s\n",
      "59:\tlearn: 0.5166496\ttotal: 78.6ms\tremaining: 1.23s\n",
      "60:\tlearn: 0.5151264\ttotal: 79.6ms\tremaining: 1.23s\n",
      "61:\tlearn: 0.5128109\ttotal: 80.6ms\tremaining: 1.22s\n",
      "62:\tlearn: 0.5114747\ttotal: 81.7ms\tremaining: 1.21s\n",
      "63:\tlearn: 0.5096208\ttotal: 82.7ms\tremaining: 1.21s\n",
      "64:\tlearn: 0.5072601\ttotal: 84.2ms\tremaining: 1.21s\n",
      "65:\tlearn: 0.5052770\ttotal: 85.7ms\tremaining: 1.21s\n",
      "66:\tlearn: 0.5036623\ttotal: 86.8ms\tremaining: 1.21s\n",
      "67:\tlearn: 0.5017328\ttotal: 87.9ms\tremaining: 1.2s\n",
      "68:\tlearn: 0.5005425\ttotal: 88.8ms\tremaining: 1.2s\n",
      "69:\tlearn: 0.4991695\ttotal: 90ms\tremaining: 1.2s\n",
      "70:\tlearn: 0.4976900\ttotal: 91.2ms\tremaining: 1.19s\n",
      "71:\tlearn: 0.4958907\ttotal: 92.3ms\tremaining: 1.19s\n",
      "72:\tlearn: 0.4944550\ttotal: 93.4ms\tremaining: 1.19s\n",
      "73:\tlearn: 0.4929501\ttotal: 94.6ms\tremaining: 1.18s\n",
      "74:\tlearn: 0.4913299\ttotal: 95.6ms\tremaining: 1.18s\n",
      "75:\tlearn: 0.4898798\ttotal: 96.9ms\tremaining: 1.18s\n",
      "76:\tlearn: 0.4882946\ttotal: 98.4ms\tremaining: 1.18s\n",
      "77:\tlearn: 0.4866733\ttotal: 100ms\tremaining: 1.19s\n",
      "78:\tlearn: 0.4849083\ttotal: 102ms\tremaining: 1.18s\n",
      "79:\tlearn: 0.4832344\ttotal: 103ms\tremaining: 1.18s\n",
      "80:\tlearn: 0.4822155\ttotal: 104ms\tremaining: 1.18s\n",
      "81:\tlearn: 0.4805651\ttotal: 105ms\tremaining: 1.18s\n",
      "82:\tlearn: 0.4789437\ttotal: 106ms\tremaining: 1.17s\n",
      "83:\tlearn: 0.4773680\ttotal: 107ms\tremaining: 1.17s\n",
      "84:\tlearn: 0.4759592\ttotal: 108ms\tremaining: 1.17s\n",
      "85:\tlearn: 0.4743296\ttotal: 109ms\tremaining: 1.16s\n",
      "86:\tlearn: 0.4733053\ttotal: 110ms\tremaining: 1.16s\n",
      "87:\tlearn: 0.4719029\ttotal: 111ms\tremaining: 1.16s\n",
      "88:\tlearn: 0.4704197\ttotal: 113ms\tremaining: 1.15s\n",
      "89:\tlearn: 0.4692434\ttotal: 114ms\tremaining: 1.16s\n",
      "90:\tlearn: 0.4676877\ttotal: 116ms\tremaining: 1.16s\n",
      "91:\tlearn: 0.4663135\ttotal: 117ms\tremaining: 1.15s\n",
      "92:\tlearn: 0.4648501\ttotal: 118ms\tremaining: 1.15s\n",
      "93:\tlearn: 0.4634104\ttotal: 120ms\tremaining: 1.16s\n",
      "94:\tlearn: 0.4622453\ttotal: 121ms\tremaining: 1.15s\n",
      "95:\tlearn: 0.4610022\ttotal: 122ms\tremaining: 1.15s\n",
      "96:\tlearn: 0.4596122\ttotal: 123ms\tremaining: 1.15s\n",
      "97:\tlearn: 0.4586478\ttotal: 124ms\tremaining: 1.15s\n",
      "98:\tlearn: 0.4574414\ttotal: 125ms\tremaining: 1.14s\n",
      "99:\tlearn: 0.4564241\ttotal: 126ms\tremaining: 1.14s\n",
      "100:\tlearn: 0.4550640\ttotal: 128ms\tremaining: 1.14s\n",
      "101:\tlearn: 0.4542409\ttotal: 130ms\tremaining: 1.14s\n",
      "102:\tlearn: 0.4532567\ttotal: 132ms\tremaining: 1.15s\n",
      "103:\tlearn: 0.4520656\ttotal: 133ms\tremaining: 1.15s\n",
      "104:\tlearn: 0.4507238\ttotal: 134ms\tremaining: 1.14s\n",
      "105:\tlearn: 0.4498366\ttotal: 135ms\tremaining: 1.14s\n",
      "106:\tlearn: 0.4487896\ttotal: 136ms\tremaining: 1.14s\n",
      "107:\tlearn: 0.4479770\ttotal: 137ms\tremaining: 1.13s\n",
      "108:\tlearn: 0.4470681\ttotal: 138ms\tremaining: 1.13s\n",
      "109:\tlearn: 0.4461679\ttotal: 139ms\tremaining: 1.13s\n",
      "110:\tlearn: 0.4449306\ttotal: 140ms\tremaining: 1.12s\n",
      "111:\tlearn: 0.4442033\ttotal: 141ms\tremaining: 1.12s\n",
      "112:\tlearn: 0.4431958\ttotal: 143ms\tremaining: 1.12s\n",
      "113:\tlearn: 0.4420872\ttotal: 145ms\tremaining: 1.13s\n",
      "114:\tlearn: 0.4411093\ttotal: 147ms\tremaining: 1.13s\n",
      "115:\tlearn: 0.4404177\ttotal: 148ms\tremaining: 1.13s\n",
      "116:\tlearn: 0.4393393\ttotal: 149ms\tremaining: 1.12s\n",
      "117:\tlearn: 0.4385459\ttotal: 150ms\tremaining: 1.12s\n",
      "118:\tlearn: 0.4376311\ttotal: 151ms\tremaining: 1.12s\n",
      "119:\tlearn: 0.4365919\ttotal: 152ms\tremaining: 1.11s\n",
      "120:\tlearn: 0.4356995\ttotal: 153ms\tremaining: 1.11s\n",
      "121:\tlearn: 0.4348411\ttotal: 154ms\tremaining: 1.11s\n",
      "122:\tlearn: 0.4339453\ttotal: 155ms\tremaining: 1.11s\n",
      "123:\tlearn: 0.4328034\ttotal: 156ms\tremaining: 1.1s\n",
      "124:\tlearn: 0.4319283\ttotal: 157ms\tremaining: 1.1s\n",
      "125:\tlearn: 0.4312557\ttotal: 159ms\tremaining: 1.1s\n",
      "126:\tlearn: 0.4304026\ttotal: 161ms\tremaining: 1.11s\n",
      "127:\tlearn: 0.4298280\ttotal: 163ms\tremaining: 1.11s\n",
      "128:\tlearn: 0.4289908\ttotal: 164ms\tremaining: 1.11s\n",
      "129:\tlearn: 0.4281060\ttotal: 165ms\tremaining: 1.1s\n",
      "130:\tlearn: 0.4274906\ttotal: 166ms\tremaining: 1.1s\n",
      "131:\tlearn: 0.4263412\ttotal: 167ms\tremaining: 1.1s\n",
      "132:\tlearn: 0.4253331\ttotal: 168ms\tremaining: 1.09s\n",
      "133:\tlearn: 0.4243619\ttotal: 169ms\tremaining: 1.09s\n",
      "134:\tlearn: 0.4236335\ttotal: 170ms\tremaining: 1.09s\n",
      "135:\tlearn: 0.4228861\ttotal: 171ms\tremaining: 1.09s\n",
      "136:\tlearn: 0.4221383\ttotal: 172ms\tremaining: 1.08s\n",
      "137:\tlearn: 0.4212787\ttotal: 174ms\tremaining: 1.09s\n",
      "138:\tlearn: 0.4205727\ttotal: 175ms\tremaining: 1.09s\n",
      "139:\tlearn: 0.4198398\ttotal: 177ms\tremaining: 1.08s\n",
      "140:\tlearn: 0.4190528\ttotal: 178ms\tremaining: 1.08s\n",
      "141:\tlearn: 0.4181762\ttotal: 179ms\tremaining: 1.08s\n",
      "142:\tlearn: 0.4177653\ttotal: 180ms\tremaining: 1.08s\n",
      "143:\tlearn: 0.4171131\ttotal: 181ms\tremaining: 1.07s\n",
      "144:\tlearn: 0.4165639\ttotal: 182ms\tremaining: 1.07s\n",
      "145:\tlearn: 0.4156471\ttotal: 183ms\tremaining: 1.07s\n",
      "146:\tlearn: 0.4153234\ttotal: 184ms\tremaining: 1.07s\n",
      "147:\tlearn: 0.4145420\ttotal: 186ms\tremaining: 1.07s\n",
      "148:\tlearn: 0.4139180\ttotal: 187ms\tremaining: 1.07s\n",
      "149:\tlearn: 0.4128167\ttotal: 188ms\tremaining: 1.07s\n",
      "150:\tlearn: 0.4120071\ttotal: 190ms\tremaining: 1.07s\n",
      "151:\tlearn: 0.4115050\ttotal: 191ms\tremaining: 1.07s\n",
      "152:\tlearn: 0.4103879\ttotal: 193ms\tremaining: 1.07s\n",
      "153:\tlearn: 0.4096975\ttotal: 194ms\tremaining: 1.06s\n",
      "154:\tlearn: 0.4090180\ttotal: 195ms\tremaining: 1.06s\n",
      "155:\tlearn: 0.4084361\ttotal: 196ms\tremaining: 1.06s\n",
      "156:\tlearn: 0.4075079\ttotal: 197ms\tremaining: 1.06s\n",
      "157:\tlearn: 0.4070229\ttotal: 198ms\tremaining: 1.06s\n",
      "158:\tlearn: 0.4060864\ttotal: 199ms\tremaining: 1.05s\n",
      "159:\tlearn: 0.4055216\ttotal: 200ms\tremaining: 1.05s\n",
      "160:\tlearn: 0.4049737\ttotal: 201ms\tremaining: 1.05s\n",
      "161:\tlearn: 0.4043031\ttotal: 205ms\tremaining: 1.06s\n",
      "162:\tlearn: 0.4037889\ttotal: 206ms\tremaining: 1.06s\n",
      "163:\tlearn: 0.4029969\ttotal: 208ms\tremaining: 1.06s\n",
      "164:\tlearn: 0.4019218\ttotal: 209ms\tremaining: 1.06s\n",
      "165:\tlearn: 0.4013294\ttotal: 210ms\tremaining: 1.06s\n",
      "166:\tlearn: 0.4007642\ttotal: 212ms\tremaining: 1.06s\n",
      "167:\tlearn: 0.4000706\ttotal: 213ms\tremaining: 1.05s\n",
      "168:\tlearn: 0.3996680\ttotal: 214ms\tremaining: 1.05s\n",
      "169:\tlearn: 0.3989467\ttotal: 215ms\tremaining: 1.05s\n",
      "170:\tlearn: 0.3983710\ttotal: 216ms\tremaining: 1.05s\n",
      "171:\tlearn: 0.3975278\ttotal: 217ms\tremaining: 1.04s\n",
      "172:\tlearn: 0.3969084\ttotal: 220ms\tremaining: 1.05s\n",
      "173:\tlearn: 0.3965347\ttotal: 222ms\tremaining: 1.05s\n",
      "174:\tlearn: 0.3956732\ttotal: 223ms\tremaining: 1.05s\n",
      "175:\tlearn: 0.3952873\ttotal: 225ms\tremaining: 1.05s\n",
      "176:\tlearn: 0.3945194\ttotal: 226ms\tremaining: 1.05s\n",
      "177:\tlearn: 0.3937662\ttotal: 227ms\tremaining: 1.05s\n",
      "178:\tlearn: 0.3930186\ttotal: 228ms\tremaining: 1.05s\n",
      "179:\tlearn: 0.3923731\ttotal: 229ms\tremaining: 1.04s\n",
      "180:\tlearn: 0.3918567\ttotal: 230ms\tremaining: 1.04s\n",
      "181:\tlearn: 0.3910109\ttotal: 233ms\tremaining: 1.05s\n",
      "182:\tlearn: 0.3904347\ttotal: 235ms\tremaining: 1.05s\n",
      "183:\tlearn: 0.3898631\ttotal: 236ms\tremaining: 1.04s\n",
      "184:\tlearn: 0.3889877\ttotal: 237ms\tremaining: 1.04s\n",
      "185:\tlearn: 0.3883860\ttotal: 238ms\tremaining: 1.04s\n",
      "186:\tlearn: 0.3876585\ttotal: 239ms\tremaining: 1.04s\n",
      "187:\tlearn: 0.3871096\ttotal: 240ms\tremaining: 1.04s\n",
      "188:\tlearn: 0.3866930\ttotal: 241ms\tremaining: 1.03s\n",
      "189:\tlearn: 0.3860056\ttotal: 242ms\tremaining: 1.03s\n",
      "190:\tlearn: 0.3854310\ttotal: 243ms\tremaining: 1.03s\n",
      "191:\tlearn: 0.3848506\ttotal: 244ms\tremaining: 1.03s\n",
      "192:\tlearn: 0.3842016\ttotal: 245ms\tremaining: 1.02s\n",
      "193:\tlearn: 0.3836819\ttotal: 247ms\tremaining: 1.02s\n",
      "194:\tlearn: 0.3830974\ttotal: 248ms\tremaining: 1.02s\n",
      "195:\tlearn: 0.3827259\ttotal: 249ms\tremaining: 1.02s\n",
      "196:\tlearn: 0.3822292\ttotal: 250ms\tremaining: 1.02s\n",
      "197:\tlearn: 0.3818127\ttotal: 251ms\tremaining: 1.02s\n",
      "198:\tlearn: 0.3813381\ttotal: 253ms\tremaining: 1.02s\n",
      "199:\tlearn: 0.3808627\ttotal: 253ms\tremaining: 1.01s\n",
      "200:\tlearn: 0.3802744\ttotal: 255ms\tremaining: 1.01s\n",
      "201:\tlearn: 0.3797151\ttotal: 255ms\tremaining: 1.01s\n",
      "202:\tlearn: 0.3792543\ttotal: 256ms\tremaining: 1.01s\n",
      "203:\tlearn: 0.3787526\ttotal: 257ms\tremaining: 1s\n",
      "204:\tlearn: 0.3783154\ttotal: 258ms\tremaining: 1s\n",
      "205:\tlearn: 0.3778142\ttotal: 259ms\tremaining: 999ms\n",
      "206:\tlearn: 0.3770761\ttotal: 260ms\tremaining: 996ms\n",
      "207:\tlearn: 0.3766516\ttotal: 261ms\tremaining: 995ms\n",
      "208:\tlearn: 0.3760002\ttotal: 263ms\tremaining: 994ms\n",
      "209:\tlearn: 0.3753742\ttotal: 264ms\tremaining: 992ms\n",
      "210:\tlearn: 0.3748945\ttotal: 265ms\tremaining: 990ms\n",
      "211:\tlearn: 0.3741601\ttotal: 266ms\tremaining: 987ms\n",
      "212:\tlearn: 0.3737583\ttotal: 267ms\tremaining: 985ms\n",
      "213:\tlearn: 0.3731306\ttotal: 267ms\tremaining: 982ms\n",
      "214:\tlearn: 0.3725594\ttotal: 268ms\tremaining: 980ms\n",
      "215:\tlearn: 0.3717840\ttotal: 269ms\tremaining: 977ms\n",
      "216:\tlearn: 0.3712366\ttotal: 270ms\tremaining: 975ms\n",
      "217:\tlearn: 0.3706128\ttotal: 271ms\tremaining: 972ms\n",
      "218:\tlearn: 0.3701763\ttotal: 272ms\tremaining: 970ms\n",
      "219:\tlearn: 0.3696732\ttotal: 273ms\tremaining: 968ms\n",
      "220:\tlearn: 0.3694511\ttotal: 274ms\tremaining: 966ms\n",
      "221:\tlearn: 0.3691241\ttotal: 275ms\tremaining: 963ms\n",
      "222:\tlearn: 0.3685841\ttotal: 276ms\tremaining: 961ms\n",
      "223:\tlearn: 0.3680235\ttotal: 277ms\tremaining: 960ms\n",
      "224:\tlearn: 0.3674146\ttotal: 278ms\tremaining: 958ms\n",
      "225:\tlearn: 0.3669959\ttotal: 279ms\tremaining: 956ms\n",
      "226:\tlearn: 0.3664598\ttotal: 280ms\tremaining: 953ms\n",
      "227:\tlearn: 0.3660285\ttotal: 281ms\tremaining: 951ms\n",
      "228:\tlearn: 0.3656118\ttotal: 282ms\tremaining: 949ms\n",
      "229:\tlearn: 0.3653013\ttotal: 283ms\tremaining: 947ms\n",
      "230:\tlearn: 0.3648384\ttotal: 284ms\tremaining: 945ms\n",
      "231:\tlearn: 0.3645751\ttotal: 285ms\tremaining: 943ms\n",
      "232:\tlearn: 0.3642266\ttotal: 286ms\tremaining: 941ms\n",
      "233:\tlearn: 0.3638032\ttotal: 287ms\tremaining: 938ms\n",
      "234:\tlearn: 0.3634127\ttotal: 288ms\tremaining: 936ms\n",
      "235:\tlearn: 0.3628147\ttotal: 289ms\tremaining: 934ms\n",
      "236:\tlearn: 0.3624876\ttotal: 289ms\tremaining: 932ms\n",
      "237:\tlearn: 0.3621678\ttotal: 290ms\tremaining: 930ms\n",
      "238:\tlearn: 0.3617236\ttotal: 292ms\tremaining: 928ms\n",
      "239:\tlearn: 0.3613139\ttotal: 293ms\tremaining: 927ms\n",
      "240:\tlearn: 0.3608153\ttotal: 294ms\tremaining: 925ms\n",
      "241:\tlearn: 0.3605083\ttotal: 295ms\tremaining: 923ms\n",
      "242:\tlearn: 0.3600805\ttotal: 296ms\tremaining: 921ms\n",
      "243:\tlearn: 0.3598540\ttotal: 297ms\tremaining: 919ms\n",
      "244:\tlearn: 0.3594826\ttotal: 298ms\tremaining: 917ms\n",
      "245:\tlearn: 0.3589942\ttotal: 299ms\tremaining: 915ms\n",
      "246:\tlearn: 0.3580868\ttotal: 300ms\tremaining: 914ms\n",
      "247:\tlearn: 0.3577168\ttotal: 301ms\tremaining: 911ms\n",
      "248:\tlearn: 0.3572695\ttotal: 302ms\tremaining: 910ms\n",
      "249:\tlearn: 0.3569883\ttotal: 303ms\tremaining: 909ms\n",
      "250:\tlearn: 0.3564914\ttotal: 304ms\tremaining: 907ms\n",
      "251:\tlearn: 0.3563154\ttotal: 305ms\tremaining: 905ms\n",
      "252:\tlearn: 0.3559500\ttotal: 306ms\tremaining: 903ms\n",
      "253:\tlearn: 0.3556725\ttotal: 307ms\tremaining: 902ms\n",
      "254:\tlearn: 0.3554429\ttotal: 308ms\tremaining: 900ms\n",
      "255:\tlearn: 0.3550410\ttotal: 309ms\tremaining: 899ms\n",
      "256:\tlearn: 0.3544784\ttotal: 310ms\tremaining: 898ms\n",
      "257:\tlearn: 0.3541264\ttotal: 311ms\tremaining: 896ms\n",
      "258:\tlearn: 0.3534407\ttotal: 312ms\tremaining: 894ms\n",
      "259:\tlearn: 0.3531235\ttotal: 313ms\tremaining: 892ms\n",
      "260:\tlearn: 0.3527207\ttotal: 314ms\tremaining: 890ms\n",
      "261:\tlearn: 0.3523243\ttotal: 315ms\tremaining: 888ms\n",
      "262:\tlearn: 0.3520765\ttotal: 316ms\tremaining: 885ms\n",
      "263:\tlearn: 0.3515223\ttotal: 317ms\tremaining: 884ms\n",
      "264:\tlearn: 0.3511085\ttotal: 318ms\tremaining: 882ms\n",
      "265:\tlearn: 0.3507609\ttotal: 319ms\tremaining: 880ms\n",
      "266:\tlearn: 0.3505624\ttotal: 320ms\tremaining: 877ms\n",
      "267:\tlearn: 0.3502285\ttotal: 321ms\tremaining: 876ms\n",
      "268:\tlearn: 0.3497636\ttotal: 322ms\tremaining: 874ms\n",
      "269:\tlearn: 0.3493754\ttotal: 323ms\tremaining: 874ms\n",
      "270:\tlearn: 0.3490792\ttotal: 324ms\tremaining: 872ms\n",
      "271:\tlearn: 0.3487020\ttotal: 325ms\tremaining: 870ms\n",
      "272:\tlearn: 0.3483143\ttotal: 326ms\tremaining: 869ms\n",
      "273:\tlearn: 0.3478934\ttotal: 327ms\tremaining: 867ms\n",
      "274:\tlearn: 0.3475017\ttotal: 328ms\tremaining: 865ms\n",
      "275:\tlearn: 0.3471957\ttotal: 329ms\tremaining: 863ms\n",
      "276:\tlearn: 0.3468656\ttotal: 330ms\tremaining: 861ms\n",
      "277:\tlearn: 0.3464868\ttotal: 331ms\tremaining: 859ms\n",
      "278:\tlearn: 0.3462092\ttotal: 332ms\tremaining: 857ms\n",
      "279:\tlearn: 0.3460606\ttotal: 332ms\tremaining: 855ms\n",
      "280:\tlearn: 0.3455830\ttotal: 333ms\tremaining: 853ms\n",
      "281:\tlearn: 0.3453044\ttotal: 334ms\tremaining: 851ms\n",
      "282:\tlearn: 0.3444292\ttotal: 335ms\tremaining: 849ms\n",
      "283:\tlearn: 0.3440907\ttotal: 336ms\tremaining: 847ms\n",
      "284:\tlearn: 0.3435897\ttotal: 338ms\tremaining: 847ms\n",
      "285:\tlearn: 0.3432924\ttotal: 339ms\tremaining: 845ms\n",
      "286:\tlearn: 0.3429693\ttotal: 340ms\tremaining: 844ms\n",
      "287:\tlearn: 0.3423841\ttotal: 341ms\tremaining: 842ms\n",
      "288:\tlearn: 0.3419082\ttotal: 342ms\tremaining: 840ms\n",
      "289:\tlearn: 0.3417444\ttotal: 343ms\tremaining: 839ms\n",
      "290:\tlearn: 0.3413183\ttotal: 344ms\tremaining: 837ms\n",
      "291:\tlearn: 0.3410967\ttotal: 345ms\tremaining: 835ms\n",
      "292:\tlearn: 0.3405444\ttotal: 345ms\tremaining: 834ms\n",
      "293:\tlearn: 0.3400621\ttotal: 346ms\tremaining: 832ms\n",
      "294:\tlearn: 0.3397168\ttotal: 347ms\tremaining: 830ms\n",
      "295:\tlearn: 0.3393361\ttotal: 348ms\tremaining: 828ms\n",
      "296:\tlearn: 0.3390740\ttotal: 349ms\tremaining: 826ms\n",
      "297:\tlearn: 0.3385868\ttotal: 350ms\tremaining: 825ms\n",
      "298:\tlearn: 0.3383527\ttotal: 351ms\tremaining: 823ms\n",
      "299:\tlearn: 0.3381225\ttotal: 352ms\tremaining: 822ms\n",
      "300:\tlearn: 0.3377180\ttotal: 353ms\tremaining: 821ms\n",
      "301:\tlearn: 0.3373683\ttotal: 354ms\tremaining: 819ms\n",
      "302:\tlearn: 0.3369712\ttotal: 355ms\tremaining: 818ms\n",
      "303:\tlearn: 0.3365943\ttotal: 356ms\tremaining: 816ms\n",
      "304:\tlearn: 0.3361416\ttotal: 357ms\tremaining: 814ms\n",
      "305:\tlearn: 0.3357881\ttotal: 358ms\tremaining: 813ms\n",
      "306:\tlearn: 0.3355420\ttotal: 359ms\tremaining: 811ms\n",
      "307:\tlearn: 0.3353969\ttotal: 360ms\tremaining: 809ms\n",
      "308:\tlearn: 0.3350159\ttotal: 361ms\tremaining: 808ms\n",
      "309:\tlearn: 0.3347592\ttotal: 362ms\tremaining: 806ms\n",
      "310:\tlearn: 0.3344209\ttotal: 363ms\tremaining: 804ms\n",
      "311:\tlearn: 0.3340571\ttotal: 364ms\tremaining: 803ms\n",
      "312:\tlearn: 0.3337410\ttotal: 366ms\tremaining: 803ms\n",
      "313:\tlearn: 0.3335433\ttotal: 367ms\tremaining: 803ms\n",
      "314:\tlearn: 0.3331226\ttotal: 369ms\tremaining: 802ms\n",
      "315:\tlearn: 0.3326529\ttotal: 370ms\tremaining: 800ms\n",
      "316:\tlearn: 0.3324585\ttotal: 371ms\tremaining: 800ms\n",
      "317:\tlearn: 0.3319313\ttotal: 372ms\tremaining: 799ms\n",
      "318:\tlearn: 0.3317666\ttotal: 374ms\tremaining: 797ms\n",
      "319:\tlearn: 0.3316420\ttotal: 374ms\tremaining: 796ms\n",
      "320:\tlearn: 0.3313743\ttotal: 375ms\tremaining: 794ms\n",
      "321:\tlearn: 0.3311034\ttotal: 376ms\tremaining: 793ms\n",
      "322:\tlearn: 0.3308718\ttotal: 377ms\tremaining: 791ms\n",
      "323:\tlearn: 0.3305797\ttotal: 378ms\tremaining: 790ms\n",
      "324:\tlearn: 0.3303344\ttotal: 379ms\tremaining: 788ms\n",
      "325:\tlearn: 0.3299356\ttotal: 380ms\tremaining: 786ms\n",
      "326:\tlearn: 0.3297079\ttotal: 381ms\tremaining: 785ms\n",
      "327:\tlearn: 0.3293339\ttotal: 383ms\tremaining: 785ms\n",
      "328:\tlearn: 0.3289580\ttotal: 385ms\tremaining: 785ms\n",
      "329:\tlearn: 0.3285913\ttotal: 386ms\tremaining: 784ms\n",
      "330:\tlearn: 0.3282758\ttotal: 387ms\tremaining: 783ms\n",
      "331:\tlearn: 0.3279623\ttotal: 388ms\tremaining: 781ms\n",
      "332:\tlearn: 0.3274888\ttotal: 389ms\tremaining: 780ms\n",
      "333:\tlearn: 0.3271103\ttotal: 390ms\tremaining: 778ms\n",
      "334:\tlearn: 0.3266782\ttotal: 391ms\tremaining: 777ms\n",
      "335:\tlearn: 0.3263302\ttotal: 392ms\tremaining: 775ms\n",
      "336:\tlearn: 0.3260965\ttotal: 393ms\tremaining: 774ms\n",
      "337:\tlearn: 0.3259158\ttotal: 394ms\tremaining: 772ms\n",
      "338:\tlearn: 0.3258232\ttotal: 395ms\tremaining: 771ms\n",
      "339:\tlearn: 0.3256590\ttotal: 396ms\tremaining: 769ms\n",
      "340:\tlearn: 0.3251070\ttotal: 399ms\tremaining: 770ms\n",
      "341:\tlearn: 0.3248128\ttotal: 400ms\tremaining: 770ms\n",
      "342:\tlearn: 0.3245641\ttotal: 402ms\tremaining: 770ms\n",
      "343:\tlearn: 0.3244393\ttotal: 403ms\tremaining: 769ms\n",
      "344:\tlearn: 0.3239917\ttotal: 404ms\tremaining: 768ms\n",
      "345:\tlearn: 0.3236587\ttotal: 405ms\tremaining: 766ms\n",
      "346:\tlearn: 0.3232919\ttotal: 406ms\tremaining: 764ms\n",
      "347:\tlearn: 0.3229349\ttotal: 407ms\tremaining: 763ms\n",
      "348:\tlearn: 0.3227158\ttotal: 408ms\tremaining: 761ms\n",
      "349:\tlearn: 0.3222736\ttotal: 409ms\tremaining: 760ms\n",
      "350:\tlearn: 0.3219319\ttotal: 410ms\tremaining: 758ms\n",
      "351:\tlearn: 0.3216924\ttotal: 411ms\tremaining: 757ms\n",
      "352:\tlearn: 0.3214005\ttotal: 413ms\tremaining: 758ms\n",
      "353:\tlearn: 0.3212561\ttotal: 415ms\tremaining: 757ms\n",
      "354:\tlearn: 0.3210802\ttotal: 416ms\tremaining: 755ms\n",
      "355:\tlearn: 0.3208611\ttotal: 417ms\tremaining: 754ms\n",
      "356:\tlearn: 0.3207409\ttotal: 418ms\tremaining: 753ms\n",
      "357:\tlearn: 0.3204410\ttotal: 419ms\tremaining: 751ms\n",
      "358:\tlearn: 0.3201386\ttotal: 420ms\tremaining: 750ms\n",
      "359:\tlearn: 0.3199546\ttotal: 421ms\tremaining: 749ms\n",
      "360:\tlearn: 0.3196740\ttotal: 422ms\tremaining: 747ms\n",
      "361:\tlearn: 0.3193086\ttotal: 423ms\tremaining: 746ms\n",
      "362:\tlearn: 0.3190555\ttotal: 424ms\tremaining: 745ms\n",
      "363:\tlearn: 0.3186316\ttotal: 425ms\tremaining: 743ms\n",
      "364:\tlearn: 0.3182750\ttotal: 426ms\tremaining: 742ms\n",
      "365:\tlearn: 0.3179150\ttotal: 427ms\tremaining: 740ms\n",
      "366:\tlearn: 0.3176213\ttotal: 429ms\tremaining: 740ms\n",
      "367:\tlearn: 0.3174330\ttotal: 430ms\tremaining: 738ms\n",
      "368:\tlearn: 0.3170058\ttotal: 431ms\tremaining: 737ms\n",
      "369:\tlearn: 0.3167177\ttotal: 432ms\tremaining: 735ms\n",
      "370:\tlearn: 0.3165966\ttotal: 433ms\tremaining: 734ms\n",
      "371:\tlearn: 0.3163434\ttotal: 434ms\tremaining: 732ms\n",
      "372:\tlearn: 0.3158102\ttotal: 435ms\tremaining: 731ms\n",
      "373:\tlearn: 0.3156989\ttotal: 436ms\tremaining: 729ms\n",
      "374:\tlearn: 0.3153516\ttotal: 437ms\tremaining: 728ms\n",
      "375:\tlearn: 0.3151365\ttotal: 437ms\tremaining: 726ms\n",
      "376:\tlearn: 0.3148602\ttotal: 438ms\tremaining: 724ms\n",
      "377:\tlearn: 0.3146425\ttotal: 439ms\tremaining: 723ms\n",
      "378:\tlearn: 0.3140533\ttotal: 440ms\tremaining: 721ms\n",
      "379:\tlearn: 0.3138100\ttotal: 441ms\tremaining: 720ms\n",
      "380:\tlearn: 0.3134537\ttotal: 442ms\tremaining: 718ms\n",
      "381:\tlearn: 0.3131326\ttotal: 443ms\tremaining: 717ms\n",
      "382:\tlearn: 0.3127691\ttotal: 444ms\tremaining: 716ms\n",
      "383:\tlearn: 0.3123777\ttotal: 445ms\tremaining: 714ms\n",
      "384:\tlearn: 0.3120189\ttotal: 446ms\tremaining: 713ms\n",
      "385:\tlearn: 0.3117879\ttotal: 447ms\tremaining: 711ms\n",
      "386:\tlearn: 0.3117281\ttotal: 448ms\tremaining: 709ms\n",
      "387:\tlearn: 0.3114269\ttotal: 449ms\tremaining: 708ms\n",
      "388:\tlearn: 0.3111523\ttotal: 449ms\tremaining: 706ms\n",
      "389:\tlearn: 0.3107485\ttotal: 450ms\tremaining: 704ms\n",
      "390:\tlearn: 0.3104823\ttotal: 451ms\tremaining: 703ms\n",
      "391:\tlearn: 0.3102043\ttotal: 452ms\tremaining: 701ms\n",
      "392:\tlearn: 0.3100756\ttotal: 453ms\tremaining: 700ms\n",
      "393:\tlearn: 0.3096455\ttotal: 454ms\tremaining: 698ms\n",
      "394:\tlearn: 0.3094293\ttotal: 455ms\tremaining: 697ms\n",
      "395:\tlearn: 0.3091670\ttotal: 456ms\tremaining: 695ms\n",
      "396:\tlearn: 0.3089720\ttotal: 457ms\tremaining: 694ms\n",
      "397:\tlearn: 0.3087352\ttotal: 458ms\tremaining: 693ms\n",
      "398:\tlearn: 0.3083025\ttotal: 459ms\tremaining: 691ms\n",
      "399:\tlearn: 0.3080730\ttotal: 460ms\tremaining: 690ms\n",
      "400:\tlearn: 0.3075862\ttotal: 461ms\tremaining: 689ms\n",
      "401:\tlearn: 0.3072950\ttotal: 462ms\tremaining: 687ms\n",
      "402:\tlearn: 0.3069260\ttotal: 463ms\tremaining: 686ms\n",
      "403:\tlearn: 0.3066624\ttotal: 464ms\tremaining: 684ms\n",
      "404:\tlearn: 0.3064005\ttotal: 465ms\tremaining: 683ms\n",
      "405:\tlearn: 0.3062175\ttotal: 466ms\tremaining: 681ms\n",
      "406:\tlearn: 0.3059133\ttotal: 467ms\tremaining: 680ms\n",
      "407:\tlearn: 0.3056401\ttotal: 468ms\tremaining: 679ms\n",
      "408:\tlearn: 0.3053706\ttotal: 469ms\tremaining: 677ms\n",
      "409:\tlearn: 0.3051702\ttotal: 470ms\tremaining: 676ms\n",
      "410:\tlearn: 0.3047998\ttotal: 471ms\tremaining: 674ms\n",
      "411:\tlearn: 0.3044851\ttotal: 472ms\tremaining: 673ms\n",
      "412:\tlearn: 0.3041596\ttotal: 473ms\tremaining: 672ms\n",
      "413:\tlearn: 0.3039484\ttotal: 474ms\tremaining: 670ms\n",
      "414:\tlearn: 0.3035868\ttotal: 475ms\tremaining: 669ms\n",
      "415:\tlearn: 0.3034963\ttotal: 476ms\tremaining: 668ms\n",
      "416:\tlearn: 0.3032978\ttotal: 476ms\tremaining: 666ms\n",
      "417:\tlearn: 0.3029297\ttotal: 477ms\tremaining: 665ms\n",
      "418:\tlearn: 0.3026614\ttotal: 478ms\tremaining: 663ms\n",
      "419:\tlearn: 0.3025338\ttotal: 479ms\tremaining: 662ms\n",
      "420:\tlearn: 0.3023329\ttotal: 480ms\tremaining: 660ms\n",
      "421:\tlearn: 0.3020878\ttotal: 481ms\tremaining: 659ms\n",
      "422:\tlearn: 0.3018350\ttotal: 482ms\tremaining: 658ms\n",
      "423:\tlearn: 0.3016547\ttotal: 483ms\tremaining: 656ms\n",
      "424:\tlearn: 0.3013340\ttotal: 484ms\tremaining: 655ms\n",
      "425:\tlearn: 0.3012067\ttotal: 485ms\tremaining: 654ms\n",
      "426:\tlearn: 0.3010644\ttotal: 486ms\tremaining: 653ms\n",
      "427:\tlearn: 0.3008560\ttotal: 487ms\tremaining: 651ms\n",
      "428:\tlearn: 0.3007435\ttotal: 488ms\tremaining: 650ms\n",
      "429:\tlearn: 0.3005282\ttotal: 489ms\tremaining: 649ms\n",
      "430:\tlearn: 0.3002332\ttotal: 490ms\tremaining: 648ms\n",
      "431:\tlearn: 0.2999973\ttotal: 491ms\tremaining: 646ms\n",
      "432:\tlearn: 0.2998342\ttotal: 492ms\tremaining: 645ms\n",
      "433:\tlearn: 0.2995772\ttotal: 494ms\tremaining: 644ms\n",
      "434:\tlearn: 0.2994191\ttotal: 495ms\tremaining: 643ms\n",
      "435:\tlearn: 0.2992121\ttotal: 496ms\tremaining: 642ms\n",
      "436:\tlearn: 0.2990371\ttotal: 497ms\tremaining: 640ms\n",
      "437:\tlearn: 0.2988313\ttotal: 498ms\tremaining: 639ms\n",
      "438:\tlearn: 0.2986686\ttotal: 499ms\tremaining: 638ms\n",
      "439:\tlearn: 0.2985372\ttotal: 500ms\tremaining: 636ms\n",
      "440:\tlearn: 0.2982802\ttotal: 501ms\tremaining: 635ms\n",
      "441:\tlearn: 0.2978098\ttotal: 502ms\tremaining: 633ms\n",
      "442:\tlearn: 0.2975569\ttotal: 503ms\tremaining: 632ms\n",
      "443:\tlearn: 0.2974696\ttotal: 503ms\tremaining: 630ms\n",
      "444:\tlearn: 0.2971000\ttotal: 505ms\tremaining: 629ms\n",
      "445:\tlearn: 0.2968185\ttotal: 506ms\tremaining: 628ms\n",
      "446:\tlearn: 0.2965820\ttotal: 507ms\tremaining: 627ms\n",
      "447:\tlearn: 0.2963367\ttotal: 508ms\tremaining: 626ms\n",
      "448:\tlearn: 0.2962052\ttotal: 509ms\tremaining: 624ms\n",
      "449:\tlearn: 0.2958710\ttotal: 510ms\tremaining: 623ms\n",
      "450:\tlearn: 0.2957278\ttotal: 511ms\tremaining: 622ms\n",
      "451:\tlearn: 0.2954078\ttotal: 512ms\tremaining: 621ms\n",
      "452:\tlearn: 0.2950464\ttotal: 513ms\tremaining: 619ms\n",
      "453:\tlearn: 0.2943738\ttotal: 514ms\tremaining: 618ms\n",
      "454:\tlearn: 0.2940240\ttotal: 515ms\tremaining: 616ms\n",
      "455:\tlearn: 0.2937387\ttotal: 516ms\tremaining: 615ms\n",
      "456:\tlearn: 0.2932645\ttotal: 516ms\tremaining: 614ms\n",
      "457:\tlearn: 0.2930212\ttotal: 517ms\tremaining: 612ms\n",
      "458:\tlearn: 0.2927047\ttotal: 518ms\tremaining: 611ms\n",
      "459:\tlearn: 0.2925782\ttotal: 520ms\tremaining: 610ms\n",
      "460:\tlearn: 0.2923455\ttotal: 521ms\tremaining: 609ms\n",
      "461:\tlearn: 0.2921114\ttotal: 522ms\tremaining: 608ms\n",
      "462:\tlearn: 0.2918372\ttotal: 523ms\tremaining: 607ms\n",
      "463:\tlearn: 0.2916646\ttotal: 524ms\tremaining: 605ms\n",
      "464:\tlearn: 0.2914858\ttotal: 525ms\tremaining: 604ms\n",
      "465:\tlearn: 0.2913746\ttotal: 526ms\tremaining: 602ms\n",
      "466:\tlearn: 0.2911112\ttotal: 527ms\tremaining: 601ms\n",
      "467:\tlearn: 0.2909419\ttotal: 528ms\tremaining: 600ms\n",
      "468:\tlearn: 0.2907768\ttotal: 529ms\tremaining: 599ms\n",
      "469:\tlearn: 0.2905672\ttotal: 530ms\tremaining: 598ms\n",
      "470:\tlearn: 0.2902868\ttotal: 531ms\tremaining: 596ms\n",
      "471:\tlearn: 0.2901459\ttotal: 532ms\tremaining: 595ms\n",
      "472:\tlearn: 0.2895721\ttotal: 533ms\tremaining: 594ms\n",
      "473:\tlearn: 0.2893069\ttotal: 534ms\tremaining: 593ms\n",
      "474:\tlearn: 0.2892238\ttotal: 536ms\tremaining: 593ms\n",
      "475:\tlearn: 0.2890793\ttotal: 537ms\tremaining: 591ms\n",
      "476:\tlearn: 0.2888606\ttotal: 538ms\tremaining: 590ms\n",
      "477:\tlearn: 0.2885725\ttotal: 540ms\tremaining: 589ms\n",
      "478:\tlearn: 0.2884059\ttotal: 541ms\tremaining: 588ms\n",
      "479:\tlearn: 0.2881226\ttotal: 542ms\tremaining: 587ms\n",
      "480:\tlearn: 0.2878577\ttotal: 543ms\tremaining: 586ms\n",
      "481:\tlearn: 0.2876443\ttotal: 544ms\tremaining: 585ms\n",
      "482:\tlearn: 0.2872679\ttotal: 545ms\tremaining: 583ms\n",
      "483:\tlearn: 0.2869225\ttotal: 546ms\tremaining: 582ms\n",
      "484:\tlearn: 0.2867176\ttotal: 547ms\tremaining: 581ms\n",
      "485:\tlearn: 0.2863829\ttotal: 548ms\tremaining: 579ms\n",
      "486:\tlearn: 0.2862343\ttotal: 549ms\tremaining: 578ms\n",
      "487:\tlearn: 0.2860281\ttotal: 550ms\tremaining: 577ms\n",
      "488:\tlearn: 0.2858158\ttotal: 552ms\tremaining: 576ms\n",
      "489:\tlearn: 0.2857030\ttotal: 553ms\tremaining: 576ms\n",
      "490:\tlearn: 0.2853467\ttotal: 554ms\tremaining: 574ms\n",
      "491:\tlearn: 0.2852238\ttotal: 555ms\tremaining: 573ms\n",
      "492:\tlearn: 0.2848703\ttotal: 556ms\tremaining: 572ms\n",
      "493:\tlearn: 0.2847930\ttotal: 557ms\tremaining: 571ms\n",
      "494:\tlearn: 0.2844460\ttotal: 558ms\tremaining: 569ms\n",
      "495:\tlearn: 0.2842826\ttotal: 559ms\tremaining: 568ms\n",
      "496:\tlearn: 0.2840736\ttotal: 560ms\tremaining: 567ms\n",
      "497:\tlearn: 0.2838086\ttotal: 561ms\tremaining: 566ms\n",
      "498:\tlearn: 0.2836780\ttotal: 562ms\tremaining: 564ms\n",
      "499:\tlearn: 0.2835099\ttotal: 563ms\tremaining: 563ms\n",
      "500:\tlearn: 0.2833241\ttotal: 564ms\tremaining: 562ms\n",
      "501:\tlearn: 0.2831782\ttotal: 566ms\tremaining: 561ms\n",
      "502:\tlearn: 0.2829458\ttotal: 568ms\tremaining: 561ms\n",
      "503:\tlearn: 0.2824786\ttotal: 569ms\tremaining: 559ms\n",
      "504:\tlearn: 0.2823866\ttotal: 569ms\tremaining: 558ms\n",
      "505:\tlearn: 0.2821895\ttotal: 570ms\tremaining: 557ms\n",
      "506:\tlearn: 0.2817553\ttotal: 571ms\tremaining: 556ms\n",
      "507:\tlearn: 0.2815476\ttotal: 572ms\tremaining: 554ms\n",
      "508:\tlearn: 0.2813923\ttotal: 573ms\tremaining: 553ms\n",
      "509:\tlearn: 0.2812253\ttotal: 574ms\tremaining: 552ms\n",
      "510:\tlearn: 0.2811270\ttotal: 575ms\tremaining: 550ms\n",
      "511:\tlearn: 0.2809442\ttotal: 576ms\tremaining: 549ms\n",
      "512:\tlearn: 0.2806583\ttotal: 577ms\tremaining: 548ms\n",
      "513:\tlearn: 0.2804053\ttotal: 578ms\tremaining: 547ms\n",
      "514:\tlearn: 0.2802933\ttotal: 579ms\tremaining: 545ms\n",
      "515:\tlearn: 0.2802130\ttotal: 580ms\tremaining: 544ms\n",
      "516:\tlearn: 0.2800198\ttotal: 582ms\tremaining: 543ms\n",
      "517:\tlearn: 0.2797297\ttotal: 583ms\tremaining: 542ms\n",
      "518:\tlearn: 0.2792613\ttotal: 584ms\tremaining: 541ms\n",
      "519:\tlearn: 0.2791178\ttotal: 585ms\tremaining: 540ms\n",
      "520:\tlearn: 0.2787684\ttotal: 587ms\tremaining: 539ms\n",
      "521:\tlearn: 0.2785238\ttotal: 588ms\tremaining: 538ms\n",
      "522:\tlearn: 0.2784354\ttotal: 589ms\tremaining: 537ms\n",
      "523:\tlearn: 0.2782083\ttotal: 589ms\tremaining: 535ms\n",
      "524:\tlearn: 0.2779862\ttotal: 590ms\tremaining: 534ms\n",
      "525:\tlearn: 0.2778577\ttotal: 591ms\tremaining: 533ms\n",
      "526:\tlearn: 0.2776799\ttotal: 592ms\tremaining: 532ms\n",
      "527:\tlearn: 0.2774047\ttotal: 593ms\tremaining: 530ms\n",
      "528:\tlearn: 0.2770705\ttotal: 594ms\tremaining: 529ms\n",
      "529:\tlearn: 0.2767879\ttotal: 596ms\tremaining: 528ms\n",
      "530:\tlearn: 0.2765573\ttotal: 597ms\tremaining: 527ms\n",
      "531:\tlearn: 0.2762926\ttotal: 598ms\tremaining: 526ms\n",
      "532:\tlearn: 0.2760226\ttotal: 600ms\tremaining: 525ms\n",
      "533:\tlearn: 0.2759634\ttotal: 601ms\tremaining: 524ms\n",
      "534:\tlearn: 0.2755854\ttotal: 602ms\tremaining: 523ms\n",
      "535:\tlearn: 0.2753839\ttotal: 603ms\tremaining: 522ms\n",
      "536:\tlearn: 0.2748993\ttotal: 604ms\tremaining: 521ms\n",
      "537:\tlearn: 0.2747174\ttotal: 605ms\tremaining: 519ms\n",
      "538:\tlearn: 0.2745669\ttotal: 606ms\tremaining: 518ms\n",
      "539:\tlearn: 0.2742959\ttotal: 607ms\tremaining: 517ms\n",
      "540:\tlearn: 0.2740799\ttotal: 608ms\tremaining: 515ms\n",
      "541:\tlearn: 0.2739597\ttotal: 608ms\tremaining: 514ms\n",
      "542:\tlearn: 0.2737468\ttotal: 609ms\tremaining: 513ms\n",
      "543:\tlearn: 0.2736213\ttotal: 611ms\tremaining: 512ms\n",
      "544:\tlearn: 0.2734265\ttotal: 612ms\tremaining: 511ms\n",
      "545:\tlearn: 0.2731554\ttotal: 613ms\tremaining: 510ms\n",
      "546:\tlearn: 0.2730985\ttotal: 614ms\tremaining: 508ms\n",
      "547:\tlearn: 0.2727592\ttotal: 615ms\tremaining: 507ms\n",
      "548:\tlearn: 0.2725759\ttotal: 616ms\tremaining: 506ms\n",
      "549:\tlearn: 0.2723701\ttotal: 617ms\tremaining: 504ms\n",
      "550:\tlearn: 0.2720963\ttotal: 617ms\tremaining: 503ms\n",
      "551:\tlearn: 0.2717838\ttotal: 618ms\tremaining: 502ms\n",
      "552:\tlearn: 0.2716459\ttotal: 619ms\tremaining: 501ms\n",
      "553:\tlearn: 0.2714241\ttotal: 620ms\tremaining: 499ms\n",
      "554:\tlearn: 0.2710796\ttotal: 621ms\tremaining: 498ms\n",
      "555:\tlearn: 0.2708530\ttotal: 622ms\tremaining: 497ms\n",
      "556:\tlearn: 0.2707057\ttotal: 623ms\tremaining: 496ms\n",
      "557:\tlearn: 0.2702598\ttotal: 624ms\tremaining: 494ms\n",
      "558:\tlearn: 0.2701429\ttotal: 625ms\tremaining: 493ms\n",
      "559:\tlearn: 0.2699466\ttotal: 626ms\tremaining: 492ms\n",
      "560:\tlearn: 0.2697293\ttotal: 627ms\tremaining: 491ms\n",
      "561:\tlearn: 0.2694486\ttotal: 628ms\tremaining: 490ms\n",
      "562:\tlearn: 0.2690466\ttotal: 629ms\tremaining: 488ms\n",
      "563:\tlearn: 0.2689248\ttotal: 630ms\tremaining: 487ms\n",
      "564:\tlearn: 0.2686948\ttotal: 631ms\tremaining: 486ms\n",
      "565:\tlearn: 0.2685619\ttotal: 632ms\tremaining: 484ms\n",
      "566:\tlearn: 0.2683828\ttotal: 633ms\tremaining: 483ms\n",
      "567:\tlearn: 0.2679790\ttotal: 634ms\tremaining: 482ms\n",
      "568:\tlearn: 0.2678450\ttotal: 635ms\tremaining: 481ms\n",
      "569:\tlearn: 0.2676119\ttotal: 635ms\tremaining: 479ms\n",
      "570:\tlearn: 0.2673814\ttotal: 636ms\tremaining: 478ms\n",
      "571:\tlearn: 0.2672294\ttotal: 637ms\tremaining: 477ms\n",
      "572:\tlearn: 0.2669753\ttotal: 638ms\tremaining: 476ms\n",
      "573:\tlearn: 0.2668201\ttotal: 639ms\tremaining: 474ms\n",
      "574:\tlearn: 0.2663744\ttotal: 640ms\tremaining: 473ms\n",
      "575:\tlearn: 0.2663089\ttotal: 641ms\tremaining: 472ms\n",
      "576:\tlearn: 0.2661984\ttotal: 643ms\tremaining: 471ms\n",
      "577:\tlearn: 0.2657423\ttotal: 644ms\tremaining: 470ms\n",
      "578:\tlearn: 0.2655906\ttotal: 645ms\tremaining: 469ms\n",
      "579:\tlearn: 0.2652973\ttotal: 646ms\tremaining: 468ms\n",
      "580:\tlearn: 0.2651702\ttotal: 647ms\tremaining: 466ms\n",
      "581:\tlearn: 0.2649804\ttotal: 648ms\tremaining: 465ms\n",
      "582:\tlearn: 0.2648733\ttotal: 648ms\tremaining: 464ms\n",
      "583:\tlearn: 0.2645161\ttotal: 649ms\tremaining: 463ms\n",
      "584:\tlearn: 0.2643629\ttotal: 650ms\tremaining: 461ms\n",
      "585:\tlearn: 0.2640424\ttotal: 651ms\tremaining: 460ms\n",
      "586:\tlearn: 0.2639059\ttotal: 652ms\tremaining: 459ms\n",
      "587:\tlearn: 0.2635783\ttotal: 653ms\tremaining: 458ms\n",
      "588:\tlearn: 0.2633252\ttotal: 654ms\tremaining: 457ms\n",
      "589:\tlearn: 0.2631536\ttotal: 655ms\tremaining: 455ms\n",
      "590:\tlearn: 0.2629800\ttotal: 657ms\tremaining: 455ms\n",
      "591:\tlearn: 0.2626833\ttotal: 658ms\tremaining: 454ms\n",
      "592:\tlearn: 0.2624857\ttotal: 659ms\tremaining: 453ms\n",
      "593:\tlearn: 0.2622796\ttotal: 661ms\tremaining: 451ms\n",
      "594:\tlearn: 0.2619838\ttotal: 662ms\tremaining: 450ms\n",
      "595:\tlearn: 0.2618002\ttotal: 663ms\tremaining: 449ms\n",
      "596:\tlearn: 0.2615721\ttotal: 664ms\tremaining: 448ms\n",
      "597:\tlearn: 0.2615152\ttotal: 665ms\tremaining: 447ms\n",
      "598:\tlearn: 0.2613501\ttotal: 666ms\tremaining: 446ms\n",
      "599:\tlearn: 0.2611080\ttotal: 667ms\tremaining: 445ms\n",
      "600:\tlearn: 0.2609645\ttotal: 668ms\tremaining: 444ms\n",
      "601:\tlearn: 0.2606897\ttotal: 669ms\tremaining: 442ms\n",
      "602:\tlearn: 0.2602639\ttotal: 670ms\tremaining: 441ms\n",
      "603:\tlearn: 0.2599329\ttotal: 671ms\tremaining: 440ms\n",
      "604:\tlearn: 0.2597957\ttotal: 673ms\tremaining: 439ms\n",
      "605:\tlearn: 0.2595943\ttotal: 674ms\tremaining: 438ms\n",
      "606:\tlearn: 0.2593111\ttotal: 675ms\tremaining: 437ms\n",
      "607:\tlearn: 0.2591161\ttotal: 675ms\tremaining: 436ms\n",
      "608:\tlearn: 0.2588429\ttotal: 676ms\tremaining: 434ms\n",
      "609:\tlearn: 0.2586168\ttotal: 678ms\tremaining: 433ms\n",
      "610:\tlearn: 0.2583814\ttotal: 679ms\tremaining: 432ms\n",
      "611:\tlearn: 0.2582859\ttotal: 679ms\tremaining: 431ms\n",
      "612:\tlearn: 0.2581228\ttotal: 681ms\tremaining: 430ms\n",
      "613:\tlearn: 0.2576821\ttotal: 681ms\tremaining: 428ms\n",
      "614:\tlearn: 0.2573665\ttotal: 682ms\tremaining: 427ms\n",
      "615:\tlearn: 0.2571712\ttotal: 683ms\tremaining: 426ms\n",
      "616:\tlearn: 0.2569123\ttotal: 684ms\tremaining: 425ms\n",
      "617:\tlearn: 0.2567421\ttotal: 685ms\tremaining: 424ms\n",
      "618:\tlearn: 0.2565468\ttotal: 686ms\tremaining: 422ms\n",
      "619:\tlearn: 0.2560903\ttotal: 688ms\tremaining: 421ms\n",
      "620:\tlearn: 0.2558848\ttotal: 689ms\tremaining: 421ms\n",
      "621:\tlearn: 0.2557082\ttotal: 690ms\tremaining: 420ms\n",
      "622:\tlearn: 0.2555673\ttotal: 691ms\tremaining: 418ms\n",
      "623:\tlearn: 0.2553104\ttotal: 692ms\tremaining: 417ms\n",
      "624:\tlearn: 0.2551517\ttotal: 694ms\tremaining: 416ms\n",
      "625:\tlearn: 0.2548730\ttotal: 695ms\tremaining: 415ms\n",
      "626:\tlearn: 0.2547001\ttotal: 696ms\tremaining: 414ms\n",
      "627:\tlearn: 0.2545593\ttotal: 697ms\tremaining: 413ms\n",
      "628:\tlearn: 0.2543065\ttotal: 698ms\tremaining: 412ms\n",
      "629:\tlearn: 0.2541924\ttotal: 699ms\tremaining: 410ms\n",
      "630:\tlearn: 0.2540412\ttotal: 700ms\tremaining: 409ms\n",
      "631:\tlearn: 0.2540272\ttotal: 701ms\tremaining: 408ms\n",
      "632:\tlearn: 0.2538574\ttotal: 702ms\tremaining: 407ms\n",
      "633:\tlearn: 0.2535445\ttotal: 703ms\tremaining: 406ms\n",
      "634:\tlearn: 0.2533613\ttotal: 704ms\tremaining: 405ms\n",
      "635:\tlearn: 0.2532291\ttotal: 705ms\tremaining: 404ms\n",
      "636:\tlearn: 0.2529860\ttotal: 707ms\tremaining: 403ms\n",
      "637:\tlearn: 0.2529107\ttotal: 708ms\tremaining: 402ms\n",
      "638:\tlearn: 0.2528306\ttotal: 710ms\tremaining: 401ms\n",
      "639:\tlearn: 0.2527318\ttotal: 711ms\tremaining: 400ms\n",
      "640:\tlearn: 0.2526089\ttotal: 712ms\tremaining: 399ms\n",
      "641:\tlearn: 0.2523294\ttotal: 713ms\tremaining: 397ms\n",
      "642:\tlearn: 0.2521745\ttotal: 714ms\tremaining: 396ms\n",
      "643:\tlearn: 0.2520903\ttotal: 715ms\tremaining: 395ms\n",
      "644:\tlearn: 0.2518111\ttotal: 716ms\tremaining: 394ms\n",
      "645:\tlearn: 0.2517013\ttotal: 717ms\tremaining: 393ms\n",
      "646:\tlearn: 0.2513785\ttotal: 719ms\tremaining: 392ms\n",
      "647:\tlearn: 0.2510264\ttotal: 720ms\tremaining: 391ms\n",
      "648:\tlearn: 0.2509075\ttotal: 721ms\tremaining: 390ms\n",
      "649:\tlearn: 0.2507789\ttotal: 722ms\tremaining: 389ms\n",
      "650:\tlearn: 0.2505793\ttotal: 723ms\tremaining: 388ms\n",
      "651:\tlearn: 0.2504598\ttotal: 724ms\tremaining: 386ms\n",
      "652:\tlearn: 0.2502472\ttotal: 725ms\tremaining: 385ms\n",
      "653:\tlearn: 0.2501631\ttotal: 726ms\tremaining: 384ms\n",
      "654:\tlearn: 0.2500554\ttotal: 727ms\tremaining: 383ms\n",
      "655:\tlearn: 0.2499953\ttotal: 728ms\tremaining: 382ms\n",
      "656:\tlearn: 0.2497997\ttotal: 729ms\tremaining: 380ms\n",
      "657:\tlearn: 0.2496228\ttotal: 730ms\tremaining: 379ms\n",
      "658:\tlearn: 0.2493790\ttotal: 731ms\tremaining: 378ms\n",
      "659:\tlearn: 0.2490870\ttotal: 732ms\tremaining: 377ms\n",
      "660:\tlearn: 0.2489131\ttotal: 733ms\tremaining: 376ms\n",
      "661:\tlearn: 0.2487822\ttotal: 734ms\tremaining: 375ms\n",
      "662:\tlearn: 0.2486344\ttotal: 735ms\tremaining: 374ms\n",
      "663:\tlearn: 0.2485112\ttotal: 736ms\tremaining: 372ms\n",
      "664:\tlearn: 0.2483456\ttotal: 737ms\tremaining: 371ms\n",
      "665:\tlearn: 0.2478812\ttotal: 738ms\tremaining: 370ms\n",
      "666:\tlearn: 0.2477720\ttotal: 739ms\tremaining: 369ms\n",
      "667:\tlearn: 0.2476856\ttotal: 740ms\tremaining: 368ms\n",
      "668:\tlearn: 0.2473703\ttotal: 740ms\tremaining: 366ms\n",
      "669:\tlearn: 0.2469242\ttotal: 741ms\tremaining: 365ms\n",
      "670:\tlearn: 0.2468015\ttotal: 742ms\tremaining: 364ms\n",
      "671:\tlearn: 0.2464829\ttotal: 744ms\tremaining: 363ms\n",
      "672:\tlearn: 0.2462695\ttotal: 745ms\tremaining: 362ms\n",
      "673:\tlearn: 0.2460049\ttotal: 746ms\tremaining: 361ms\n",
      "674:\tlearn: 0.2459397\ttotal: 748ms\tremaining: 360ms\n",
      "675:\tlearn: 0.2457831\ttotal: 749ms\tremaining: 359ms\n",
      "676:\tlearn: 0.2456189\ttotal: 750ms\tremaining: 358ms\n",
      "677:\tlearn: 0.2453592\ttotal: 751ms\tremaining: 356ms\n",
      "678:\tlearn: 0.2450781\ttotal: 752ms\tremaining: 355ms\n",
      "679:\tlearn: 0.2449079\ttotal: 753ms\tremaining: 354ms\n",
      "680:\tlearn: 0.2447622\ttotal: 753ms\tremaining: 353ms\n",
      "681:\tlearn: 0.2446009\ttotal: 754ms\tremaining: 352ms\n",
      "682:\tlearn: 0.2444911\ttotal: 755ms\tremaining: 351ms\n",
      "683:\tlearn: 0.2442647\ttotal: 756ms\tremaining: 349ms\n",
      "684:\tlearn: 0.2439881\ttotal: 757ms\tremaining: 348ms\n",
      "685:\tlearn: 0.2438743\ttotal: 758ms\tremaining: 347ms\n",
      "686:\tlearn: 0.2436232\ttotal: 759ms\tremaining: 346ms\n",
      "687:\tlearn: 0.2432542\ttotal: 760ms\tremaining: 345ms\n",
      "688:\tlearn: 0.2430422\ttotal: 761ms\tremaining: 344ms\n",
      "689:\tlearn: 0.2427875\ttotal: 762ms\tremaining: 343ms\n",
      "690:\tlearn: 0.2426080\ttotal: 764ms\tremaining: 341ms\n",
      "691:\tlearn: 0.2423995\ttotal: 765ms\tremaining: 340ms\n",
      "692:\tlearn: 0.2422839\ttotal: 765ms\tremaining: 339ms\n",
      "693:\tlearn: 0.2419745\ttotal: 766ms\tremaining: 338ms\n",
      "694:\tlearn: 0.2419342\ttotal: 767ms\tremaining: 337ms\n",
      "695:\tlearn: 0.2417488\ttotal: 768ms\tremaining: 336ms\n",
      "696:\tlearn: 0.2416767\ttotal: 769ms\tremaining: 334ms\n",
      "697:\tlearn: 0.2415790\ttotal: 770ms\tremaining: 333ms\n",
      "698:\tlearn: 0.2412939\ttotal: 771ms\tremaining: 332ms\n",
      "699:\tlearn: 0.2411213\ttotal: 772ms\tremaining: 331ms\n",
      "700:\tlearn: 0.2408446\ttotal: 773ms\tremaining: 330ms\n",
      "701:\tlearn: 0.2405587\ttotal: 774ms\tremaining: 329ms\n",
      "702:\tlearn: 0.2403313\ttotal: 775ms\tremaining: 327ms\n",
      "703:\tlearn: 0.2401492\ttotal: 776ms\tremaining: 326ms\n",
      "704:\tlearn: 0.2398918\ttotal: 777ms\tremaining: 325ms\n",
      "705:\tlearn: 0.2396047\ttotal: 778ms\tremaining: 324ms\n",
      "706:\tlearn: 0.2395006\ttotal: 779ms\tremaining: 323ms\n",
      "707:\tlearn: 0.2394055\ttotal: 780ms\tremaining: 322ms\n",
      "708:\tlearn: 0.2392352\ttotal: 781ms\tremaining: 321ms\n",
      "709:\tlearn: 0.2390019\ttotal: 782ms\tremaining: 319ms\n",
      "710:\tlearn: 0.2388457\ttotal: 783ms\tremaining: 318ms\n",
      "711:\tlearn: 0.2386594\ttotal: 784ms\tremaining: 317ms\n",
      "712:\tlearn: 0.2385861\ttotal: 785ms\tremaining: 316ms\n",
      "713:\tlearn: 0.2383764\ttotal: 786ms\tremaining: 315ms\n",
      "714:\tlearn: 0.2382499\ttotal: 787ms\tremaining: 314ms\n",
      "715:\tlearn: 0.2380496\ttotal: 788ms\tremaining: 312ms\n",
      "716:\tlearn: 0.2377915\ttotal: 789ms\tremaining: 311ms\n",
      "717:\tlearn: 0.2376989\ttotal: 790ms\tremaining: 310ms\n",
      "718:\tlearn: 0.2375933\ttotal: 791ms\tremaining: 309ms\n",
      "719:\tlearn: 0.2374398\ttotal: 791ms\tremaining: 308ms\n",
      "720:\tlearn: 0.2372318\ttotal: 792ms\tremaining: 307ms\n",
      "721:\tlearn: 0.2370847\ttotal: 794ms\tremaining: 306ms\n",
      "722:\tlearn: 0.2367496\ttotal: 795ms\tremaining: 304ms\n",
      "723:\tlearn: 0.2363787\ttotal: 796ms\tremaining: 303ms\n",
      "724:\tlearn: 0.2362295\ttotal: 797ms\tremaining: 302ms\n",
      "725:\tlearn: 0.2361886\ttotal: 798ms\tremaining: 301ms\n",
      "726:\tlearn: 0.2360077\ttotal: 799ms\tremaining: 300ms\n",
      "727:\tlearn: 0.2358936\ttotal: 800ms\tremaining: 299ms\n",
      "728:\tlearn: 0.2357625\ttotal: 801ms\tremaining: 298ms\n",
      "729:\tlearn: 0.2356657\ttotal: 802ms\tremaining: 297ms\n",
      "730:\tlearn: 0.2355083\ttotal: 803ms\tremaining: 295ms\n",
      "731:\tlearn: 0.2354345\ttotal: 804ms\tremaining: 294ms\n",
      "732:\tlearn: 0.2353153\ttotal: 805ms\tremaining: 293ms\n",
      "733:\tlearn: 0.2352290\ttotal: 806ms\tremaining: 292ms\n",
      "734:\tlearn: 0.2351001\ttotal: 807ms\tremaining: 291ms\n",
      "735:\tlearn: 0.2349968\ttotal: 809ms\tremaining: 290ms\n",
      "736:\tlearn: 0.2349104\ttotal: 810ms\tremaining: 289ms\n",
      "737:\tlearn: 0.2348057\ttotal: 811ms\tremaining: 288ms\n",
      "738:\tlearn: 0.2346429\ttotal: 812ms\tremaining: 287ms\n",
      "739:\tlearn: 0.2344062\ttotal: 813ms\tremaining: 286ms\n",
      "740:\tlearn: 0.2343251\ttotal: 814ms\tremaining: 284ms\n",
      "741:\tlearn: 0.2339286\ttotal: 815ms\tremaining: 283ms\n",
      "742:\tlearn: 0.2337558\ttotal: 816ms\tremaining: 282ms\n",
      "743:\tlearn: 0.2336824\ttotal: 816ms\tremaining: 281ms\n",
      "744:\tlearn: 0.2336136\ttotal: 817ms\tremaining: 280ms\n",
      "745:\tlearn: 0.2334585\ttotal: 818ms\tremaining: 279ms\n",
      "746:\tlearn: 0.2330439\ttotal: 819ms\tremaining: 277ms\n",
      "747:\tlearn: 0.2327640\ttotal: 820ms\tremaining: 276ms\n",
      "748:\tlearn: 0.2325958\ttotal: 821ms\tremaining: 275ms\n",
      "749:\tlearn: 0.2323885\ttotal: 822ms\tremaining: 274ms\n",
      "750:\tlearn: 0.2321622\ttotal: 823ms\tremaining: 273ms\n",
      "751:\tlearn: 0.2320129\ttotal: 824ms\tremaining: 272ms\n",
      "752:\tlearn: 0.2319447\ttotal: 825ms\tremaining: 271ms\n",
      "753:\tlearn: 0.2318012\ttotal: 826ms\tremaining: 270ms\n",
      "754:\tlearn: 0.2316776\ttotal: 827ms\tremaining: 268ms\n",
      "755:\tlearn: 0.2315503\ttotal: 828ms\tremaining: 267ms\n",
      "756:\tlearn: 0.2313964\ttotal: 829ms\tremaining: 266ms\n",
      "757:\tlearn: 0.2313403\ttotal: 830ms\tremaining: 265ms\n",
      "758:\tlearn: 0.2311582\ttotal: 831ms\tremaining: 264ms\n",
      "759:\tlearn: 0.2309643\ttotal: 832ms\tremaining: 263ms\n",
      "760:\tlearn: 0.2308683\ttotal: 832ms\tremaining: 261ms\n",
      "761:\tlearn: 0.2306519\ttotal: 833ms\tremaining: 260ms\n",
      "762:\tlearn: 0.2304512\ttotal: 834ms\tremaining: 259ms\n",
      "763:\tlearn: 0.2303585\ttotal: 835ms\tremaining: 258ms\n",
      "764:\tlearn: 0.2301186\ttotal: 836ms\tremaining: 257ms\n",
      "765:\tlearn: 0.2299520\ttotal: 837ms\tremaining: 256ms\n",
      "766:\tlearn: 0.2298211\ttotal: 839ms\tremaining: 255ms\n",
      "767:\tlearn: 0.2296461\ttotal: 840ms\tremaining: 254ms\n",
      "768:\tlearn: 0.2294316\ttotal: 841ms\tremaining: 253ms\n",
      "769:\tlearn: 0.2292530\ttotal: 842ms\tremaining: 251ms\n",
      "770:\tlearn: 0.2290728\ttotal: 843ms\tremaining: 250ms\n",
      "771:\tlearn: 0.2288433\ttotal: 844ms\tremaining: 249ms\n",
      "772:\tlearn: 0.2287000\ttotal: 845ms\tremaining: 248ms\n",
      "773:\tlearn: 0.2284832\ttotal: 846ms\tremaining: 247ms\n",
      "774:\tlearn: 0.2283585\ttotal: 847ms\tremaining: 246ms\n",
      "775:\tlearn: 0.2282229\ttotal: 848ms\tremaining: 245ms\n",
      "776:\tlearn: 0.2281303\ttotal: 849ms\tremaining: 244ms\n",
      "777:\tlearn: 0.2279449\ttotal: 850ms\tremaining: 242ms\n",
      "778:\tlearn: 0.2277649\ttotal: 850ms\tremaining: 241ms\n",
      "779:\tlearn: 0.2276696\ttotal: 852ms\tremaining: 240ms\n",
      "780:\tlearn: 0.2274767\ttotal: 853ms\tremaining: 239ms\n",
      "781:\tlearn: 0.2272327\ttotal: 854ms\tremaining: 238ms\n",
      "782:\tlearn: 0.2270917\ttotal: 855ms\tremaining: 237ms\n",
      "783:\tlearn: 0.2269343\ttotal: 856ms\tremaining: 236ms\n",
      "784:\tlearn: 0.2266742\ttotal: 858ms\tremaining: 235ms\n",
      "785:\tlearn: 0.2264986\ttotal: 859ms\tremaining: 234ms\n",
      "786:\tlearn: 0.2263188\ttotal: 861ms\tremaining: 233ms\n",
      "787:\tlearn: 0.2261086\ttotal: 863ms\tremaining: 232ms\n",
      "788:\tlearn: 0.2258824\ttotal: 864ms\tremaining: 231ms\n",
      "789:\tlearn: 0.2256495\ttotal: 865ms\tremaining: 230ms\n",
      "790:\tlearn: 0.2253640\ttotal: 866ms\tremaining: 229ms\n",
      "791:\tlearn: 0.2253015\ttotal: 867ms\tremaining: 228ms\n",
      "792:\tlearn: 0.2251932\ttotal: 868ms\tremaining: 227ms\n",
      "793:\tlearn: 0.2250610\ttotal: 870ms\tremaining: 226ms\n",
      "794:\tlearn: 0.2249378\ttotal: 871ms\tremaining: 225ms\n",
      "795:\tlearn: 0.2247418\ttotal: 872ms\tremaining: 224ms\n",
      "796:\tlearn: 0.2243590\ttotal: 874ms\tremaining: 223ms\n",
      "797:\tlearn: 0.2241881\ttotal: 875ms\tremaining: 222ms\n",
      "798:\tlearn: 0.2239846\ttotal: 876ms\tremaining: 220ms\n",
      "799:\tlearn: 0.2238098\ttotal: 877ms\tremaining: 219ms\n",
      "800:\tlearn: 0.2237013\ttotal: 878ms\tremaining: 218ms\n",
      "801:\tlearn: 0.2235843\ttotal: 879ms\tremaining: 217ms\n",
      "802:\tlearn: 0.2234171\ttotal: 880ms\tremaining: 216ms\n",
      "803:\tlearn: 0.2232202\ttotal: 881ms\tremaining: 215ms\n",
      "804:\tlearn: 0.2230832\ttotal: 882ms\tremaining: 214ms\n",
      "805:\tlearn: 0.2229630\ttotal: 883ms\tremaining: 213ms\n",
      "806:\tlearn: 0.2227556\ttotal: 884ms\tremaining: 211ms\n",
      "807:\tlearn: 0.2225513\ttotal: 885ms\tremaining: 210ms\n",
      "808:\tlearn: 0.2224407\ttotal: 886ms\tremaining: 209ms\n",
      "809:\tlearn: 0.2223815\ttotal: 888ms\tremaining: 208ms\n",
      "810:\tlearn: 0.2221158\ttotal: 889ms\tremaining: 207ms\n",
      "811:\tlearn: 0.2218880\ttotal: 889ms\tremaining: 206ms\n",
      "812:\tlearn: 0.2217191\ttotal: 890ms\tremaining: 205ms\n",
      "813:\tlearn: 0.2216216\ttotal: 891ms\tremaining: 204ms\n",
      "814:\tlearn: 0.2214471\ttotal: 892ms\tremaining: 203ms\n",
      "815:\tlearn: 0.2212460\ttotal: 893ms\tremaining: 201ms\n",
      "816:\tlearn: 0.2210716\ttotal: 894ms\tremaining: 200ms\n",
      "817:\tlearn: 0.2207700\ttotal: 895ms\tremaining: 199ms\n",
      "818:\tlearn: 0.2206518\ttotal: 896ms\tremaining: 198ms\n",
      "819:\tlearn: 0.2205547\ttotal: 897ms\tremaining: 197ms\n",
      "820:\tlearn: 0.2202621\ttotal: 898ms\tremaining: 196ms\n",
      "821:\tlearn: 0.2200709\ttotal: 899ms\tremaining: 195ms\n",
      "822:\tlearn: 0.2199827\ttotal: 901ms\tremaining: 194ms\n",
      "823:\tlearn: 0.2198117\ttotal: 902ms\tremaining: 193ms\n",
      "824:\tlearn: 0.2196338\ttotal: 903ms\tremaining: 192ms\n",
      "825:\tlearn: 0.2193833\ttotal: 905ms\tremaining: 191ms\n",
      "826:\tlearn: 0.2191040\ttotal: 906ms\tremaining: 189ms\n",
      "827:\tlearn: 0.2188188\ttotal: 907ms\tremaining: 188ms\n",
      "828:\tlearn: 0.2186232\ttotal: 908ms\tremaining: 187ms\n",
      "829:\tlearn: 0.2184637\ttotal: 908ms\tremaining: 186ms\n",
      "830:\tlearn: 0.2183447\ttotal: 909ms\tremaining: 185ms\n",
      "831:\tlearn: 0.2181185\ttotal: 911ms\tremaining: 184ms\n",
      "832:\tlearn: 0.2179230\ttotal: 912ms\tremaining: 183ms\n",
      "833:\tlearn: 0.2177289\ttotal: 913ms\tremaining: 182ms\n",
      "834:\tlearn: 0.2174576\ttotal: 914ms\tremaining: 181ms\n",
      "835:\tlearn: 0.2173258\ttotal: 916ms\tremaining: 180ms\n",
      "836:\tlearn: 0.2171739\ttotal: 917ms\tremaining: 179ms\n",
      "837:\tlearn: 0.2169270\ttotal: 918ms\tremaining: 177ms\n",
      "838:\tlearn: 0.2166864\ttotal: 919ms\tremaining: 176ms\n",
      "839:\tlearn: 0.2164157\ttotal: 919ms\tremaining: 175ms\n",
      "840:\tlearn: 0.2163378\ttotal: 920ms\tremaining: 174ms\n",
      "841:\tlearn: 0.2162199\ttotal: 921ms\tremaining: 173ms\n",
      "842:\tlearn: 0.2158899\ttotal: 922ms\tremaining: 172ms\n",
      "843:\tlearn: 0.2158699\ttotal: 923ms\tremaining: 171ms\n",
      "844:\tlearn: 0.2157586\ttotal: 924ms\tremaining: 170ms\n",
      "845:\tlearn: 0.2155410\ttotal: 925ms\tremaining: 168ms\n",
      "846:\tlearn: 0.2153727\ttotal: 926ms\tremaining: 167ms\n",
      "847:\tlearn: 0.2151920\ttotal: 927ms\tremaining: 166ms\n",
      "848:\tlearn: 0.2148853\ttotal: 928ms\tremaining: 165ms\n",
      "849:\tlearn: 0.2148101\ttotal: 930ms\tremaining: 164ms\n",
      "850:\tlearn: 0.2146415\ttotal: 931ms\tremaining: 163ms\n",
      "851:\tlearn: 0.2144046\ttotal: 932ms\tremaining: 162ms\n",
      "852:\tlearn: 0.2143299\ttotal: 933ms\tremaining: 161ms\n",
      "853:\tlearn: 0.2141792\ttotal: 934ms\tremaining: 160ms\n",
      "854:\tlearn: 0.2141206\ttotal: 935ms\tremaining: 159ms\n",
      "855:\tlearn: 0.2139337\ttotal: 936ms\tremaining: 157ms\n",
      "856:\tlearn: 0.2136557\ttotal: 937ms\tremaining: 156ms\n",
      "857:\tlearn: 0.2134691\ttotal: 938ms\tremaining: 155ms\n",
      "858:\tlearn: 0.2132437\ttotal: 939ms\tremaining: 154ms\n",
      "859:\tlearn: 0.2130466\ttotal: 940ms\tremaining: 153ms\n",
      "860:\tlearn: 0.2129277\ttotal: 941ms\tremaining: 152ms\n",
      "861:\tlearn: 0.2125050\ttotal: 942ms\tremaining: 151ms\n",
      "862:\tlearn: 0.2122203\ttotal: 943ms\tremaining: 150ms\n",
      "863:\tlearn: 0.2121312\ttotal: 944ms\tremaining: 149ms\n",
      "864:\tlearn: 0.2120307\ttotal: 945ms\tremaining: 147ms\n",
      "865:\tlearn: 0.2118465\ttotal: 946ms\tremaining: 146ms\n",
      "866:\tlearn: 0.2117302\ttotal: 947ms\tremaining: 145ms\n",
      "867:\tlearn: 0.2114227\ttotal: 948ms\tremaining: 144ms\n",
      "868:\tlearn: 0.2113260\ttotal: 949ms\tremaining: 143ms\n",
      "869:\tlearn: 0.2111942\ttotal: 950ms\tremaining: 142ms\n",
      "870:\tlearn: 0.2110035\ttotal: 951ms\tremaining: 141ms\n",
      "871:\tlearn: 0.2107816\ttotal: 952ms\tremaining: 140ms\n",
      "872:\tlearn: 0.2104724\ttotal: 953ms\tremaining: 139ms\n",
      "873:\tlearn: 0.2102684\ttotal: 954ms\tremaining: 138ms\n",
      "874:\tlearn: 0.2101032\ttotal: 955ms\tremaining: 136ms\n",
      "875:\tlearn: 0.2099989\ttotal: 956ms\tremaining: 135ms\n",
      "876:\tlearn: 0.2099035\ttotal: 957ms\tremaining: 134ms\n",
      "877:\tlearn: 0.2097173\ttotal: 958ms\tremaining: 133ms\n",
      "878:\tlearn: 0.2095486\ttotal: 960ms\tremaining: 132ms\n",
      "879:\tlearn: 0.2093830\ttotal: 961ms\tremaining: 131ms\n",
      "880:\tlearn: 0.2092829\ttotal: 962ms\tremaining: 130ms\n",
      "881:\tlearn: 0.2089713\ttotal: 963ms\tremaining: 129ms\n",
      "882:\tlearn: 0.2087959\ttotal: 964ms\tremaining: 128ms\n",
      "883:\tlearn: 0.2087119\ttotal: 965ms\tremaining: 127ms\n",
      "884:\tlearn: 0.2086137\ttotal: 966ms\tremaining: 126ms\n",
      "885:\tlearn: 0.2084851\ttotal: 967ms\tremaining: 124ms\n",
      "886:\tlearn: 0.2082519\ttotal: 968ms\tremaining: 123ms\n",
      "887:\tlearn: 0.2082281\ttotal: 969ms\tremaining: 122ms\n",
      "888:\tlearn: 0.2080446\ttotal: 970ms\tremaining: 121ms\n",
      "889:\tlearn: 0.2079331\ttotal: 971ms\tremaining: 120ms\n",
      "890:\tlearn: 0.2076840\ttotal: 972ms\tremaining: 119ms\n",
      "891:\tlearn: 0.2074361\ttotal: 973ms\tremaining: 118ms\n",
      "892:\tlearn: 0.2072691\ttotal: 974ms\tremaining: 117ms\n",
      "893:\tlearn: 0.2071863\ttotal: 976ms\tremaining: 116ms\n",
      "894:\tlearn: 0.2070482\ttotal: 977ms\tremaining: 115ms\n",
      "895:\tlearn: 0.2068719\ttotal: 978ms\tremaining: 113ms\n",
      "896:\tlearn: 0.2068010\ttotal: 979ms\tremaining: 112ms\n",
      "897:\tlearn: 0.2066289\ttotal: 980ms\tremaining: 111ms\n",
      "898:\tlearn: 0.2065124\ttotal: 981ms\tremaining: 110ms\n",
      "899:\tlearn: 0.2063746\ttotal: 982ms\tremaining: 109ms\n",
      "900:\tlearn: 0.2060329\ttotal: 983ms\tremaining: 108ms\n",
      "901:\tlearn: 0.2059134\ttotal: 984ms\tremaining: 107ms\n",
      "902:\tlearn: 0.2056670\ttotal: 985ms\tremaining: 106ms\n",
      "903:\tlearn: 0.2055800\ttotal: 986ms\tremaining: 105ms\n",
      "904:\tlearn: 0.2054935\ttotal: 987ms\tremaining: 104ms\n",
      "905:\tlearn: 0.2054216\ttotal: 988ms\tremaining: 102ms\n",
      "906:\tlearn: 0.2053141\ttotal: 989ms\tremaining: 101ms\n",
      "907:\tlearn: 0.2051578\ttotal: 990ms\tremaining: 100ms\n",
      "908:\tlearn: 0.2051277\ttotal: 991ms\tremaining: 99.2ms\n",
      "909:\tlearn: 0.2049773\ttotal: 992ms\tremaining: 98.1ms\n",
      "910:\tlearn: 0.2049041\ttotal: 993ms\tremaining: 97ms\n",
      "911:\tlearn: 0.2048033\ttotal: 994ms\tremaining: 95.9ms\n",
      "912:\tlearn: 0.2046646\ttotal: 995ms\tremaining: 94.8ms\n",
      "913:\tlearn: 0.2045087\ttotal: 996ms\tremaining: 93.7ms\n",
      "914:\tlearn: 0.2043556\ttotal: 997ms\tremaining: 92.6ms\n",
      "915:\tlearn: 0.2042029\ttotal: 998ms\tremaining: 91.5ms\n",
      "916:\tlearn: 0.2041374\ttotal: 999ms\tremaining: 90.4ms\n",
      "917:\tlearn: 0.2039668\ttotal: 1000ms\tremaining: 89.3ms\n",
      "918:\tlearn: 0.2038225\ttotal: 1s\tremaining: 88.2ms\n",
      "919:\tlearn: 0.2037351\ttotal: 1s\tremaining: 87.1ms\n",
      "920:\tlearn: 0.2035562\ttotal: 1s\tremaining: 86ms\n",
      "921:\tlearn: 0.2033158\ttotal: 1s\tremaining: 84.9ms\n",
      "922:\tlearn: 0.2031272\ttotal: 1s\tremaining: 83.8ms\n",
      "923:\tlearn: 0.2028653\ttotal: 1.01s\tremaining: 82.8ms\n",
      "924:\tlearn: 0.2027730\ttotal: 1.01s\tremaining: 81.7ms\n",
      "925:\tlearn: 0.2025642\ttotal: 1.01s\tremaining: 80.6ms\n",
      "926:\tlearn: 0.2025182\ttotal: 1.01s\tremaining: 79.5ms\n",
      "927:\tlearn: 0.2023242\ttotal: 1.01s\tremaining: 78.4ms\n",
      "928:\tlearn: 0.2021505\ttotal: 1.01s\tremaining: 77.3ms\n",
      "929:\tlearn: 0.2019405\ttotal: 1.01s\tremaining: 76.2ms\n",
      "930:\tlearn: 0.2018581\ttotal: 1.01s\tremaining: 75.1ms\n",
      "931:\tlearn: 0.2015040\ttotal: 1.01s\tremaining: 74ms\n",
      "932:\tlearn: 0.2012963\ttotal: 1.01s\tremaining: 72.9ms\n",
      "933:\tlearn: 0.2011157\ttotal: 1.02s\tremaining: 71.8ms\n",
      "934:\tlearn: 0.2010048\ttotal: 1.02s\tremaining: 70.7ms\n",
      "935:\tlearn: 0.2008797\ttotal: 1.02s\tremaining: 69.6ms\n",
      "936:\tlearn: 0.2006119\ttotal: 1.02s\tremaining: 68.5ms\n",
      "937:\tlearn: 0.2003997\ttotal: 1.02s\tremaining: 67.4ms\n",
      "938:\tlearn: 0.2002994\ttotal: 1.02s\tremaining: 66.3ms\n",
      "939:\tlearn: 0.2001781\ttotal: 1.02s\tremaining: 65.3ms\n",
      "940:\tlearn: 0.2001108\ttotal: 1.02s\tremaining: 64.2ms\n",
      "941:\tlearn: 0.1998029\ttotal: 1.02s\tremaining: 63.1ms\n",
      "942:\tlearn: 0.1996730\ttotal: 1.02s\tremaining: 62ms\n",
      "943:\tlearn: 0.1996001\ttotal: 1.03s\tremaining: 60.9ms\n",
      "944:\tlearn: 0.1995043\ttotal: 1.03s\tremaining: 59.8ms\n",
      "945:\tlearn: 0.1993791\ttotal: 1.03s\tremaining: 58.7ms\n",
      "946:\tlearn: 0.1993067\ttotal: 1.03s\tremaining: 57.6ms\n",
      "947:\tlearn: 0.1991825\ttotal: 1.03s\tremaining: 56.5ms\n",
      "948:\tlearn: 0.1991477\ttotal: 1.03s\tremaining: 55.4ms\n",
      "949:\tlearn: 0.1989893\ttotal: 1.03s\tremaining: 54.3ms\n",
      "950:\tlearn: 0.1989476\ttotal: 1.03s\tremaining: 53.2ms\n",
      "951:\tlearn: 0.1988571\ttotal: 1.03s\tremaining: 52.1ms\n",
      "952:\tlearn: 0.1987463\ttotal: 1.03s\tremaining: 51ms\n",
      "953:\tlearn: 0.1985914\ttotal: 1.03s\tremaining: 50ms\n",
      "954:\tlearn: 0.1984601\ttotal: 1.04s\tremaining: 48.9ms\n",
      "955:\tlearn: 0.1983558\ttotal: 1.04s\tremaining: 47.8ms\n",
      "956:\tlearn: 0.1981887\ttotal: 1.04s\tremaining: 46.7ms\n",
      "957:\tlearn: 0.1979755\ttotal: 1.04s\tremaining: 45.7ms\n",
      "958:\tlearn: 0.1978122\ttotal: 1.04s\tremaining: 44.6ms\n",
      "959:\tlearn: 0.1976791\ttotal: 1.04s\tremaining: 43.5ms\n",
      "960:\tlearn: 0.1976331\ttotal: 1.05s\tremaining: 42.5ms\n",
      "961:\tlearn: 0.1974878\ttotal: 1.05s\tremaining: 41.4ms\n",
      "962:\tlearn: 0.1973825\ttotal: 1.05s\tremaining: 40.3ms\n",
      "963:\tlearn: 0.1973230\ttotal: 1.05s\tremaining: 39.2ms\n",
      "964:\tlearn: 0.1970565\ttotal: 1.05s\tremaining: 38.1ms\n",
      "965:\tlearn: 0.1969765\ttotal: 1.05s\tremaining: 37.1ms\n",
      "966:\tlearn: 0.1967186\ttotal: 1.05s\tremaining: 36ms\n",
      "967:\tlearn: 0.1965649\ttotal: 1.05s\tremaining: 34.9ms\n",
      "968:\tlearn: 0.1964461\ttotal: 1.06s\tremaining: 33.8ms\n",
      "969:\tlearn: 0.1962676\ttotal: 1.06s\tremaining: 32.7ms\n",
      "970:\tlearn: 0.1961347\ttotal: 1.06s\tremaining: 31.6ms\n",
      "971:\tlearn: 0.1960023\ttotal: 1.06s\tremaining: 30.5ms\n",
      "972:\tlearn: 0.1958286\ttotal: 1.06s\tremaining: 29.4ms\n",
      "973:\tlearn: 0.1956880\ttotal: 1.06s\tremaining: 28.4ms\n",
      "974:\tlearn: 0.1955273\ttotal: 1.06s\tremaining: 27.3ms\n",
      "975:\tlearn: 0.1954718\ttotal: 1.06s\tremaining: 26.2ms\n",
      "976:\tlearn: 0.1954058\ttotal: 1.06s\tremaining: 25.1ms\n",
      "977:\tlearn: 0.1953148\ttotal: 1.07s\tremaining: 24ms\n",
      "978:\tlearn: 0.1951338\ttotal: 1.07s\tremaining: 22.9ms\n",
      "979:\tlearn: 0.1950429\ttotal: 1.07s\tremaining: 21.8ms\n",
      "980:\tlearn: 0.1950004\ttotal: 1.07s\tremaining: 20.7ms\n",
      "981:\tlearn: 0.1948226\ttotal: 1.07s\tremaining: 19.6ms\n",
      "982:\tlearn: 0.1946439\ttotal: 1.07s\tremaining: 18.5ms\n",
      "983:\tlearn: 0.1945826\ttotal: 1.07s\tremaining: 17.4ms\n",
      "984:\tlearn: 0.1944658\ttotal: 1.07s\tremaining: 16.3ms\n",
      "985:\tlearn: 0.1943315\ttotal: 1.07s\tremaining: 15.3ms\n",
      "986:\tlearn: 0.1941699\ttotal: 1.07s\tremaining: 14.2ms\n",
      "987:\tlearn: 0.1939214\ttotal: 1.08s\tremaining: 13.1ms\n",
      "988:\tlearn: 0.1937600\ttotal: 1.08s\tremaining: 12ms\n",
      "989:\tlearn: 0.1936543\ttotal: 1.08s\tremaining: 10.9ms\n",
      "990:\tlearn: 0.1935242\ttotal: 1.08s\tremaining: 9.8ms\n",
      "991:\tlearn: 0.1933722\ttotal: 1.08s\tremaining: 8.71ms\n",
      "992:\tlearn: 0.1932137\ttotal: 1.08s\tremaining: 7.63ms\n",
      "993:\tlearn: 0.1931190\ttotal: 1.08s\tremaining: 6.54ms\n",
      "994:\tlearn: 0.1930025\ttotal: 1.08s\tremaining: 5.45ms\n",
      "995:\tlearn: 0.1929036\ttotal: 1.08s\tremaining: 4.36ms\n",
      "996:\tlearn: 0.1927199\ttotal: 1.09s\tremaining: 3.27ms\n",
      "997:\tlearn: 0.1927060\ttotal: 1.09s\tremaining: 2.18ms\n",
      "998:\tlearn: 0.1926449\ttotal: 1.09s\tremaining: 1.09ms\n",
      "999:\tlearn: 0.1925922\ttotal: 1.09s\tremaining: 0us\n"
     ]
    }
   ],
   "source": [
    "cat_model = CatBoostClassifier().fit(X_train, y_train)"
   ]
  },
  {
   "cell_type": "code",
   "execution_count": 157,
   "metadata": {},
   "outputs": [
    {
     "data": {
      "text/plain": [
       "0.7402597402597403"
      ]
     },
     "execution_count": 157,
     "metadata": {},
     "output_type": "execute_result"
    }
   ],
   "source": [
    "y_pred = cat_model.predict(X_test)\n",
    "accuracy_score(y_test, y_pred)"
   ]
  },
  {
   "cell_type": "markdown",
   "metadata": {},
   "source": [
    "## Model Tuning"
   ]
  },
  {
   "cell_type": "code",
   "execution_count": null,
   "metadata": {},
   "outputs": [],
   "source": [
    "catb_params = {\n",
    "    'iterations': [200,500],\n",
    "    'learning_rate': [0.01,0.05, 0.1],\n",
    "    'depth': [3,5,8] }"
   ]
  },
  {
   "cell_type": "code",
   "execution_count": null,
   "metadata": {},
   "outputs": [
    {
     "name": "stdout",
     "output_type": "stream",
     "text": [
      "Fitting 5 folds for each of 18 candidates, totalling 90 fits\n",
      "0:\tlearn: 0.6863312\ttotal: 10.3ms\tremaining: 2.05s\n",
      "1:\tlearn: 0.6811157\ttotal: 15.2ms\tremaining: 1.51s\n",
      "2:\tlearn: 0.6752970\ttotal: 22.7ms\tremaining: 1.49s\n",
      "3:\tlearn: 0.6697432\ttotal: 29.8ms\tremaining: 1.46s\n",
      "4:\tlearn: 0.6641758\ttotal: 33.8ms\tremaining: 1.32s\n",
      "5:\tlearn: 0.6576656\ttotal: 41.7ms\tremaining: 1.35s\n",
      "6:\tlearn: 0.6521870\ttotal: 45.2ms\tremaining: 1.25s\n",
      "7:\tlearn: 0.6465564\ttotal: 49.4ms\tremaining: 1.18s\n",
      "8:\tlearn: 0.6407595\ttotal: 58.3ms\tremaining: 1.24s\n",
      "9:\tlearn: 0.6357725\ttotal: 62ms\tremaining: 1.18s\n",
      "10:\tlearn: 0.6299942\ttotal: 65.4ms\tremaining: 1.12s\n",
      "11:\tlearn: 0.6240480\ttotal: 72.7ms\tremaining: 1.14s\n",
      "12:\tlearn: 0.6196095\ttotal: 76ms\tremaining: 1.09s\n",
      "13:\tlearn: 0.6148715\ttotal: 79.4ms\tremaining: 1.05s\n",
      "14:\tlearn: 0.6092626\ttotal: 84.6ms\tremaining: 1.04s\n",
      "15:\tlearn: 0.6046764\ttotal: 88.8ms\tremaining: 1.02s\n",
      "16:\tlearn: 0.6012725\ttotal: 92.4ms\tremaining: 995ms\n",
      "17:\tlearn: 0.5958121\ttotal: 96ms\tremaining: 971ms\n",
      "18:\tlearn: 0.5903243\ttotal: 101ms\tremaining: 961ms\n",
      "19:\tlearn: 0.5866024\ttotal: 105ms\tremaining: 946ms\n",
      "20:\tlearn: 0.5831390\ttotal: 109ms\tremaining: 925ms\n",
      "21:\tlearn: 0.5787381\ttotal: 112ms\tremaining: 908ms\n",
      "22:\tlearn: 0.5749016\ttotal: 117ms\tremaining: 903ms\n",
      "23:\tlearn: 0.5703199\ttotal: 121ms\tremaining: 885ms\n",
      "24:\tlearn: 0.5662368\ttotal: 124ms\tremaining: 870ms\n",
      "25:\tlearn: 0.5628682\ttotal: 128ms\tremaining: 854ms\n",
      "26:\tlearn: 0.5589082\ttotal: 132ms\tremaining: 846ms\n",
      "27:\tlearn: 0.5543910\ttotal: 135ms\tremaining: 831ms\n",
      "28:\tlearn: 0.5503864\ttotal: 139ms\tremaining: 818ms\n",
      "29:\tlearn: 0.5470574\ttotal: 142ms\tremaining: 806ms\n",
      "30:\tlearn: 0.5441267\ttotal: 147ms\tremaining: 800ms\n",
      "31:\tlearn: 0.5396280\ttotal: 150ms\tremaining: 787ms\n",
      "32:\tlearn: 0.5356242\ttotal: 153ms\tremaining: 776ms\n",
      "33:\tlearn: 0.5315397\ttotal: 157ms\tremaining: 765ms\n",
      "34:\tlearn: 0.5279847\ttotal: 161ms\tremaining: 757ms\n",
      "35:\tlearn: 0.5248380\ttotal: 164ms\tremaining: 747ms\n",
      "36:\tlearn: 0.5223885\ttotal: 167ms\tremaining: 736ms\n",
      "37:\tlearn: 0.5198269\ttotal: 170ms\tremaining: 726ms\n",
      "38:\tlearn: 0.5167431\ttotal: 174ms\tremaining: 717ms\n",
      "39:\tlearn: 0.5138833\ttotal: 178ms\tremaining: 711ms\n",
      "40:\tlearn: 0.5101494\ttotal: 181ms\tremaining: 703ms\n",
      "41:\tlearn: 0.5066102\ttotal: 185ms\tremaining: 697ms\n",
      "42:\tlearn: 0.5033714\ttotal: 189ms\tremaining: 690ms\n",
      "43:\tlearn: 0.5005898\ttotal: 193ms\tremaining: 685ms\n",
      "44:\tlearn: 0.4980703\ttotal: 196ms\tremaining: 676ms\n",
      "45:\tlearn: 0.4959251\ttotal: 200ms\tremaining: 670ms\n",
      "46:\tlearn: 0.4933987\ttotal: 204ms\tremaining: 663ms\n",
      "47:\tlearn: 0.4906194\ttotal: 208ms\tremaining: 660ms\n",
      "48:\tlearn: 0.4878359\ttotal: 212ms\tremaining: 653ms\n",
      "49:\tlearn: 0.4850755\ttotal: 215ms\tremaining: 645ms\n",
      "50:\tlearn: 0.4825927\ttotal: 218ms\tremaining: 638ms\n",
      "51:\tlearn: 0.4798298\ttotal: 223ms\tremaining: 634ms\n",
      "52:\tlearn: 0.4776108\ttotal: 226ms\tremaining: 626ms\n",
      "53:\tlearn: 0.4754405\ttotal: 229ms\tremaining: 620ms\n",
      "54:\tlearn: 0.4733501\ttotal: 233ms\tremaining: 614ms\n",
      "55:\tlearn: 0.4706076\ttotal: 239ms\tremaining: 614ms\n",
      "56:\tlearn: 0.4677355\ttotal: 242ms\tremaining: 608ms\n",
      "57:\tlearn: 0.4656740\ttotal: 246ms\tremaining: 603ms\n",
      "58:\tlearn: 0.4637413\ttotal: 250ms\tremaining: 597ms\n",
      "59:\tlearn: 0.4615248\ttotal: 254ms\tremaining: 594ms\n",
      "60:\tlearn: 0.4599759\ttotal: 258ms\tremaining: 588ms\n",
      "61:\tlearn: 0.4583985\ttotal: 260ms\tremaining: 578ms\n",
      "62:\tlearn: 0.4567064\ttotal: 263ms\tremaining: 572ms\n",
      "63:\tlearn: 0.4540942\ttotal: 268ms\tremaining: 569ms\n",
      "64:\tlearn: 0.4529822\ttotal: 270ms\tremaining: 561ms\n",
      "65:\tlearn: 0.4512090\ttotal: 274ms\tremaining: 556ms\n",
      "66:\tlearn: 0.4486739\ttotal: 277ms\tremaining: 551ms\n",
      "67:\tlearn: 0.4467865\ttotal: 283ms\tremaining: 548ms\n",
      "68:\tlearn: 0.4449614\ttotal: 287ms\tremaining: 545ms\n",
      "69:\tlearn: 0.4426120\ttotal: 291ms\tremaining: 541ms\n",
      "70:\tlearn: 0.4401612\ttotal: 295ms\tremaining: 536ms\n",
      "71:\tlearn: 0.4380696\ttotal: 302ms\tremaining: 538ms\n",
      "72:\tlearn: 0.4367153\ttotal: 306ms\tremaining: 532ms\n",
      "73:\tlearn: 0.4353223\ttotal: 309ms\tremaining: 526ms\n",
      "74:\tlearn: 0.4339943\ttotal: 316ms\tremaining: 526ms\n",
      "75:\tlearn: 0.4315641\ttotal: 319ms\tremaining: 521ms\n",
      "76:\tlearn: 0.4298680\ttotal: 323ms\tremaining: 515ms\n",
      "77:\tlearn: 0.4285275\ttotal: 326ms\tremaining: 509ms\n",
      "78:\tlearn: 0.4265791\ttotal: 331ms\tremaining: 507ms\n",
      "79:\tlearn: 0.4244024\ttotal: 335ms\tremaining: 502ms\n",
      "80:\tlearn: 0.4228361\ttotal: 338ms\tremaining: 496ms\n",
      "81:\tlearn: 0.4214212\ttotal: 341ms\tremaining: 491ms\n",
      "82:\tlearn: 0.4200602\ttotal: 346ms\tremaining: 488ms\n",
      "83:\tlearn: 0.4184320\ttotal: 349ms\tremaining: 482ms\n",
      "84:\tlearn: 0.4167986\ttotal: 353ms\tremaining: 477ms\n",
      "85:\tlearn: 0.4156404\ttotal: 356ms\tremaining: 472ms\n",
      "86:\tlearn: 0.4140656\ttotal: 360ms\tremaining: 468ms\n",
      "87:\tlearn: 0.4124223\ttotal: 364ms\tremaining: 463ms\n",
      "88:\tlearn: 0.4107329\ttotal: 367ms\tremaining: 458ms\n",
      "89:\tlearn: 0.4090922\ttotal: 370ms\tremaining: 453ms\n",
      "90:\tlearn: 0.4075416\ttotal: 375ms\tremaining: 449ms\n",
      "91:\tlearn: 0.4062399\ttotal: 379ms\tremaining: 444ms\n",
      "92:\tlearn: 0.4044658\ttotal: 382ms\tremaining: 439ms\n",
      "93:\tlearn: 0.4030179\ttotal: 385ms\tremaining: 434ms\n",
      "94:\tlearn: 0.4012034\ttotal: 390ms\tremaining: 431ms\n",
      "95:\tlearn: 0.3994677\ttotal: 394ms\tremaining: 427ms\n",
      "96:\tlearn: 0.3983236\ttotal: 397ms\tremaining: 422ms\n",
      "97:\tlearn: 0.3969830\ttotal: 401ms\tremaining: 418ms\n",
      "98:\tlearn: 0.3955620\ttotal: 405ms\tremaining: 413ms\n",
      "99:\tlearn: 0.3946122\ttotal: 410ms\tremaining: 410ms\n",
      "100:\tlearn: 0.3932345\ttotal: 413ms\tremaining: 405ms\n",
      "101:\tlearn: 0.3920746\ttotal: 417ms\tremaining: 401ms\n",
      "102:\tlearn: 0.3911707\ttotal: 421ms\tremaining: 396ms\n",
      "103:\tlearn: 0.3895752\ttotal: 424ms\tremaining: 392ms\n",
      "104:\tlearn: 0.3880976\ttotal: 427ms\tremaining: 387ms\n",
      "105:\tlearn: 0.3867508\ttotal: 431ms\tremaining: 382ms\n",
      "106:\tlearn: 0.3855281\ttotal: 436ms\tremaining: 379ms\n",
      "107:\tlearn: 0.3841015\ttotal: 440ms\tremaining: 374ms\n",
      "108:\tlearn: 0.3829276\ttotal: 443ms\tremaining: 370ms\n",
      "109:\tlearn: 0.3818795\ttotal: 446ms\tremaining: 365ms\n",
      "110:\tlearn: 0.3809667\ttotal: 451ms\tremaining: 361ms\n",
      "111:\tlearn: 0.3790017\ttotal: 453ms\tremaining: 356ms\n",
      "112:\tlearn: 0.3774333\ttotal: 456ms\tremaining: 351ms\n",
      "113:\tlearn: 0.3762372\ttotal: 459ms\tremaining: 346ms\n",
      "114:\tlearn: 0.3750418\ttotal: 462ms\tremaining: 341ms\n",
      "115:\tlearn: 0.3735203\ttotal: 465ms\tremaining: 337ms\n",
      "116:\tlearn: 0.3727671\ttotal: 468ms\tremaining: 332ms\n",
      "117:\tlearn: 0.3713847\ttotal: 471ms\tremaining: 327ms\n",
      "118:\tlearn: 0.3705588\ttotal: 474ms\tremaining: 323ms\n",
      "119:\tlearn: 0.3694386\ttotal: 477ms\tremaining: 318ms\n",
      "120:\tlearn: 0.3687438\ttotal: 481ms\tremaining: 314ms\n",
      "121:\tlearn: 0.3679429\ttotal: 484ms\tremaining: 310ms\n",
      "122:\tlearn: 0.3666192\ttotal: 487ms\tremaining: 305ms\n",
      "123:\tlearn: 0.3654787\ttotal: 490ms\tremaining: 300ms\n",
      "124:\tlearn: 0.3643185\ttotal: 493ms\tremaining: 296ms\n",
      "125:\tlearn: 0.3636195\ttotal: 496ms\tremaining: 291ms\n",
      "126:\tlearn: 0.3625184\ttotal: 499ms\tremaining: 287ms\n",
      "127:\tlearn: 0.3609778\ttotal: 502ms\tremaining: 282ms\n",
      "128:\tlearn: 0.3595979\ttotal: 505ms\tremaining: 278ms\n",
      "129:\tlearn: 0.3583702\ttotal: 508ms\tremaining: 273ms\n",
      "130:\tlearn: 0.3569225\ttotal: 512ms\tremaining: 270ms\n",
      "131:\tlearn: 0.3558535\ttotal: 515ms\tremaining: 265ms\n",
      "132:\tlearn: 0.3548312\ttotal: 518ms\tremaining: 261ms\n",
      "133:\tlearn: 0.3533459\ttotal: 521ms\tremaining: 256ms\n",
      "134:\tlearn: 0.3524239\ttotal: 523ms\tremaining: 252ms\n",
      "135:\tlearn: 0.3517958\ttotal: 528ms\tremaining: 249ms\n",
      "136:\tlearn: 0.3504984\ttotal: 531ms\tremaining: 244ms\n",
      "137:\tlearn: 0.3497339\ttotal: 534ms\tremaining: 240ms\n",
      "138:\tlearn: 0.3488643\ttotal: 537ms\tremaining: 236ms\n",
      "139:\tlearn: 0.3482265\ttotal: 539ms\tremaining: 231ms\n",
      "140:\tlearn: 0.3470774\ttotal: 543ms\tremaining: 227ms\n",
      "141:\tlearn: 0.3458237\ttotal: 546ms\tremaining: 223ms\n",
      "142:\tlearn: 0.3445470\ttotal: 549ms\tremaining: 219ms\n",
      "143:\tlearn: 0.3436377\ttotal: 552ms\tremaining: 215ms\n",
      "144:\tlearn: 0.3426585\ttotal: 554ms\tremaining: 210ms\n",
      "145:\tlearn: 0.3417233\ttotal: 559ms\tremaining: 207ms\n",
      "146:\tlearn: 0.3407541\ttotal: 562ms\tremaining: 203ms\n",
      "147:\tlearn: 0.3397798\ttotal: 565ms\tremaining: 199ms\n",
      "148:\tlearn: 0.3390128\ttotal: 568ms\tremaining: 195ms\n",
      "149:\tlearn: 0.3381272\ttotal: 571ms\tremaining: 190ms\n",
      "150:\tlearn: 0.3374740\ttotal: 575ms\tremaining: 187ms\n",
      "151:\tlearn: 0.3365500\ttotal: 578ms\tremaining: 183ms\n",
      "152:\tlearn: 0.3358489\ttotal: 581ms\tremaining: 178ms\n",
      "153:\tlearn: 0.3346096\ttotal: 584ms\tremaining: 174ms\n",
      "154:\tlearn: 0.3335622\ttotal: 587ms\tremaining: 170ms\n",
      "155:\tlearn: 0.3330435\ttotal: 592ms\tremaining: 167ms\n",
      "156:\tlearn: 0.3323843\ttotal: 595ms\tremaining: 163ms\n",
      "157:\tlearn: 0.3312172\ttotal: 599ms\tremaining: 159ms\n",
      "158:\tlearn: 0.3299437\ttotal: 601ms\tremaining: 155ms\n",
      "159:\tlearn: 0.3286515\ttotal: 607ms\tremaining: 152ms\n",
      "160:\tlearn: 0.3275885\ttotal: 609ms\tremaining: 148ms\n",
      "161:\tlearn: 0.3266739\ttotal: 612ms\tremaining: 144ms\n",
      "162:\tlearn: 0.3258986\ttotal: 615ms\tremaining: 140ms\n",
      "163:\tlearn: 0.3249133\ttotal: 618ms\tremaining: 136ms\n",
      "164:\tlearn: 0.3241480\ttotal: 621ms\tremaining: 132ms\n",
      "165:\tlearn: 0.3237404\ttotal: 624ms\tremaining: 128ms\n",
      "166:\tlearn: 0.3228217\ttotal: 627ms\tremaining: 124ms\n",
      "167:\tlearn: 0.3218088\ttotal: 629ms\tremaining: 120ms\n",
      "168:\tlearn: 0.3209179\ttotal: 632ms\tremaining: 116ms\n",
      "169:\tlearn: 0.3200101\ttotal: 637ms\tremaining: 112ms\n",
      "170:\tlearn: 0.3188984\ttotal: 640ms\tremaining: 109ms\n",
      "171:\tlearn: 0.3178642\ttotal: 643ms\tremaining: 105ms\n",
      "172:\tlearn: 0.3172455\ttotal: 646ms\tremaining: 101ms\n",
      "173:\tlearn: 0.3166261\ttotal: 648ms\tremaining: 96.9ms\n",
      "174:\tlearn: 0.3157320\ttotal: 652ms\tremaining: 93.2ms\n",
      "175:\tlearn: 0.3149761\ttotal: 655ms\tremaining: 89.3ms\n",
      "176:\tlearn: 0.3142430\ttotal: 657ms\tremaining: 85.4ms\n",
      "177:\tlearn: 0.3138263\ttotal: 659ms\tremaining: 81.5ms\n",
      "178:\tlearn: 0.3133229\ttotal: 661ms\tremaining: 77.6ms\n",
      "179:\tlearn: 0.3124656\ttotal: 664ms\tremaining: 73.7ms\n",
      "180:\tlearn: 0.3114844\ttotal: 667ms\tremaining: 70ms\n",
      "181:\tlearn: 0.3109799\ttotal: 669ms\tremaining: 66.2ms\n",
      "182:\tlearn: 0.3105137\ttotal: 672ms\tremaining: 62.4ms\n",
      "183:\tlearn: 0.3094123\ttotal: 674ms\tremaining: 58.6ms\n",
      "184:\tlearn: 0.3087045\ttotal: 676ms\tremaining: 54.8ms\n",
      "185:\tlearn: 0.3079423\ttotal: 679ms\tremaining: 51.1ms\n",
      "186:\tlearn: 0.3071831\ttotal: 681ms\tremaining: 47.4ms\n",
      "187:\tlearn: 0.3061123\ttotal: 684ms\tremaining: 43.7ms\n",
      "188:\tlearn: 0.3054302\ttotal: 687ms\tremaining: 40ms\n",
      "189:\tlearn: 0.3048047\ttotal: 689ms\tremaining: 36.3ms\n",
      "190:\tlearn: 0.3042241\ttotal: 691ms\tremaining: 32.6ms\n",
      "191:\tlearn: 0.3036602\ttotal: 694ms\tremaining: 28.9ms\n",
      "192:\tlearn: 0.3028507\ttotal: 697ms\tremaining: 25.3ms\n",
      "193:\tlearn: 0.3019733\ttotal: 700ms\tremaining: 21.6ms\n",
      "194:\tlearn: 0.3009586\ttotal: 703ms\tremaining: 18ms\n",
      "195:\tlearn: 0.3001835\ttotal: 705ms\tremaining: 14.4ms\n",
      "196:\tlearn: 0.2999266\ttotal: 706ms\tremaining: 10.8ms\n",
      "197:\tlearn: 0.2993811\ttotal: 709ms\tremaining: 7.16ms\n",
      "198:\tlearn: 0.2986293\ttotal: 711ms\tremaining: 3.57ms\n",
      "199:\tlearn: 0.2980044\ttotal: 716ms\tremaining: 0us\n"
     ]
    },
    {
     "data": {
      "text/plain": [
       "{'depth': 8, 'iterations': 200, 'learning_rate': 0.01}"
      ]
     },
     "execution_count": 7,
     "metadata": {},
     "output_type": "execute_result"
    }
   ],
   "source": [
    "catb = CatBoostClassifier()\n",
    "catb_cv_model = GridSearchCV(catb, catb_params, cv=5, n_jobs = -1, verbose = 2)\n",
    "catb_cv_model.fit(X_train, y_train)\n",
    "catb_cv_model.best_params_"
   ]
  },
  {
   "cell_type": "code",
   "execution_count": null,
   "metadata": {},
   "outputs": [
    {
     "data": {
      "text/plain": [
       "{'depth': 8, 'iterations': 200, 'learning_rate': 0.01}"
      ]
     },
     "execution_count": 8,
     "metadata": {},
     "output_type": "execute_result"
    }
   ],
   "source": [
    "catb_cv_model.best_params_"
   ]
  },
  {
   "cell_type": "code",
   "execution_count": 158,
   "metadata": {},
   "outputs": [
    {
     "name": "stdout",
     "output_type": "stream",
     "text": [
      "0:\tlearn: 0.6863312\ttotal: 11.8ms\tremaining: 2.35s\n",
      "1:\tlearn: 0.6811157\ttotal: 14.9ms\tremaining: 1.47s\n",
      "2:\tlearn: 0.6752970\ttotal: 17.9ms\tremaining: 1.18s\n",
      "3:\tlearn: 0.6697432\ttotal: 20.8ms\tremaining: 1.02s\n",
      "4:\tlearn: 0.6641758\ttotal: 23.9ms\tremaining: 934ms\n",
      "5:\tlearn: 0.6576656\ttotal: 30ms\tremaining: 969ms\n",
      "6:\tlearn: 0.6521870\ttotal: 32.8ms\tremaining: 903ms\n",
      "7:\tlearn: 0.6465564\ttotal: 35.5ms\tremaining: 852ms\n",
      "8:\tlearn: 0.6407595\ttotal: 38.2ms\tremaining: 811ms\n",
      "9:\tlearn: 0.6357725\ttotal: 42.5ms\tremaining: 808ms\n",
      "10:\tlearn: 0.6299942\ttotal: 45.2ms\tremaining: 776ms\n",
      "11:\tlearn: 0.6240480\ttotal: 47.7ms\tremaining: 748ms\n",
      "12:\tlearn: 0.6196095\ttotal: 50.6ms\tremaining: 728ms\n",
      "13:\tlearn: 0.6148715\ttotal: 54.2ms\tremaining: 720ms\n",
      "14:\tlearn: 0.6092626\ttotal: 57.6ms\tremaining: 711ms\n",
      "15:\tlearn: 0.6046764\ttotal: 60.3ms\tremaining: 693ms\n",
      "16:\tlearn: 0.6012725\ttotal: 63.1ms\tremaining: 679ms\n",
      "17:\tlearn: 0.5958121\ttotal: 65.7ms\tremaining: 664ms\n",
      "18:\tlearn: 0.5903243\ttotal: 68.3ms\tremaining: 651ms\n",
      "19:\tlearn: 0.5866024\ttotal: 71.1ms\tremaining: 640ms\n",
      "20:\tlearn: 0.5831390\ttotal: 73.8ms\tremaining: 629ms\n",
      "21:\tlearn: 0.5787381\ttotal: 76.5ms\tremaining: 619ms\n",
      "22:\tlearn: 0.5749016\ttotal: 79.5ms\tremaining: 612ms\n",
      "23:\tlearn: 0.5703199\ttotal: 84.2ms\tremaining: 617ms\n",
      "24:\tlearn: 0.5662368\ttotal: 87ms\tremaining: 609ms\n",
      "25:\tlearn: 0.5628682\ttotal: 91.8ms\tremaining: 614ms\n",
      "26:\tlearn: 0.5589082\ttotal: 94.6ms\tremaining: 606ms\n",
      "27:\tlearn: 0.5543910\ttotal: 97.3ms\tremaining: 598ms\n",
      "28:\tlearn: 0.5503864\ttotal: 100ms\tremaining: 591ms\n",
      "29:\tlearn: 0.5470574\ttotal: 105ms\tremaining: 597ms\n",
      "30:\tlearn: 0.5441267\ttotal: 109ms\tremaining: 593ms\n",
      "31:\tlearn: 0.5396280\ttotal: 111ms\tremaining: 585ms\n",
      "32:\tlearn: 0.5356242\ttotal: 114ms\tremaining: 577ms\n",
      "33:\tlearn: 0.5315397\ttotal: 116ms\tremaining: 569ms\n",
      "34:\tlearn: 0.5279847\ttotal: 120ms\tremaining: 566ms\n",
      "35:\tlearn: 0.5248380\ttotal: 123ms\tremaining: 562ms\n",
      "36:\tlearn: 0.5223885\ttotal: 126ms\tremaining: 554ms\n",
      "37:\tlearn: 0.5198269\ttotal: 128ms\tremaining: 546ms\n",
      "38:\tlearn: 0.5167431\ttotal: 131ms\tremaining: 539ms\n",
      "39:\tlearn: 0.5138833\ttotal: 133ms\tremaining: 532ms\n",
      "40:\tlearn: 0.5101494\ttotal: 136ms\tremaining: 528ms\n",
      "41:\tlearn: 0.5066102\ttotal: 138ms\tremaining: 520ms\n",
      "42:\tlearn: 0.5033714\ttotal: 140ms\tremaining: 513ms\n",
      "43:\tlearn: 0.5005898\ttotal: 143ms\tremaining: 506ms\n",
      "44:\tlearn: 0.4980703\ttotal: 145ms\tremaining: 500ms\n",
      "45:\tlearn: 0.4959251\ttotal: 148ms\tremaining: 494ms\n",
      "46:\tlearn: 0.4933987\ttotal: 150ms\tremaining: 489ms\n",
      "47:\tlearn: 0.4906194\ttotal: 152ms\tremaining: 483ms\n",
      "48:\tlearn: 0.4878359\ttotal: 155ms\tremaining: 477ms\n",
      "49:\tlearn: 0.4850755\ttotal: 157ms\tremaining: 471ms\n",
      "50:\tlearn: 0.4825927\ttotal: 160ms\tremaining: 466ms\n",
      "51:\tlearn: 0.4798298\ttotal: 162ms\tremaining: 461ms\n",
      "52:\tlearn: 0.4776108\ttotal: 164ms\tremaining: 456ms\n",
      "53:\tlearn: 0.4754405\ttotal: 167ms\tremaining: 451ms\n",
      "54:\tlearn: 0.4733501\ttotal: 169ms\tremaining: 446ms\n",
      "55:\tlearn: 0.4706076\ttotal: 171ms\tremaining: 441ms\n",
      "56:\tlearn: 0.4677355\ttotal: 174ms\tremaining: 436ms\n",
      "57:\tlearn: 0.4656740\ttotal: 176ms\tremaining: 431ms\n",
      "58:\tlearn: 0.4637413\ttotal: 179ms\tremaining: 427ms\n",
      "59:\tlearn: 0.4615248\ttotal: 181ms\tremaining: 423ms\n",
      "60:\tlearn: 0.4599759\ttotal: 184ms\tremaining: 419ms\n",
      "61:\tlearn: 0.4583985\ttotal: 185ms\tremaining: 411ms\n",
      "62:\tlearn: 0.4567064\ttotal: 187ms\tremaining: 408ms\n",
      "63:\tlearn: 0.4540942\ttotal: 191ms\tremaining: 407ms\n",
      "64:\tlearn: 0.4529822\ttotal: 192ms\tremaining: 399ms\n",
      "65:\tlearn: 0.4512090\ttotal: 195ms\tremaining: 395ms\n",
      "66:\tlearn: 0.4486739\ttotal: 198ms\tremaining: 393ms\n",
      "67:\tlearn: 0.4467865\ttotal: 201ms\tremaining: 389ms\n",
      "68:\tlearn: 0.4449614\ttotal: 203ms\tremaining: 386ms\n",
      "69:\tlearn: 0.4426120\ttotal: 206ms\tremaining: 383ms\n",
      "70:\tlearn: 0.4401612\ttotal: 210ms\tremaining: 381ms\n",
      "71:\tlearn: 0.4380696\ttotal: 214ms\tremaining: 380ms\n",
      "72:\tlearn: 0.4367153\ttotal: 217ms\tremaining: 377ms\n",
      "73:\tlearn: 0.4353223\ttotal: 219ms\tremaining: 373ms\n",
      "74:\tlearn: 0.4339943\ttotal: 222ms\tremaining: 370ms\n",
      "75:\tlearn: 0.4315641\ttotal: 225ms\tremaining: 367ms\n",
      "76:\tlearn: 0.4298680\ttotal: 228ms\tremaining: 364ms\n",
      "77:\tlearn: 0.4285275\ttotal: 231ms\tremaining: 361ms\n",
      "78:\tlearn: 0.4265791\ttotal: 237ms\tremaining: 362ms\n",
      "79:\tlearn: 0.4244024\ttotal: 239ms\tremaining: 359ms\n",
      "80:\tlearn: 0.4228361\ttotal: 242ms\tremaining: 356ms\n",
      "81:\tlearn: 0.4214212\ttotal: 247ms\tremaining: 356ms\n",
      "82:\tlearn: 0.4200602\ttotal: 250ms\tremaining: 352ms\n",
      "83:\tlearn: 0.4184320\ttotal: 253ms\tremaining: 349ms\n",
      "84:\tlearn: 0.4167986\ttotal: 255ms\tremaining: 346ms\n",
      "85:\tlearn: 0.4156404\ttotal: 258ms\tremaining: 342ms\n",
      "86:\tlearn: 0.4140656\ttotal: 262ms\tremaining: 340ms\n",
      "87:\tlearn: 0.4124223\ttotal: 265ms\tremaining: 337ms\n",
      "88:\tlearn: 0.4107329\ttotal: 267ms\tremaining: 333ms\n",
      "89:\tlearn: 0.4090922\ttotal: 270ms\tremaining: 330ms\n",
      "90:\tlearn: 0.4075416\ttotal: 272ms\tremaining: 326ms\n",
      "91:\tlearn: 0.4062399\ttotal: 275ms\tremaining: 323ms\n",
      "92:\tlearn: 0.4044658\ttotal: 279ms\tremaining: 321ms\n",
      "93:\tlearn: 0.4030179\ttotal: 282ms\tremaining: 318ms\n",
      "94:\tlearn: 0.4012034\ttotal: 285ms\tremaining: 314ms\n",
      "95:\tlearn: 0.3994677\ttotal: 287ms\tremaining: 311ms\n",
      "96:\tlearn: 0.3983236\ttotal: 290ms\tremaining: 307ms\n",
      "97:\tlearn: 0.3969830\ttotal: 293ms\tremaining: 305ms\n",
      "98:\tlearn: 0.3955620\ttotal: 295ms\tremaining: 301ms\n",
      "99:\tlearn: 0.3946122\ttotal: 298ms\tremaining: 298ms\n",
      "100:\tlearn: 0.3932345\ttotal: 300ms\tremaining: 294ms\n",
      "101:\tlearn: 0.3920746\ttotal: 303ms\tremaining: 291ms\n",
      "102:\tlearn: 0.3911707\ttotal: 305ms\tremaining: 287ms\n",
      "103:\tlearn: 0.3895752\ttotal: 308ms\tremaining: 284ms\n",
      "104:\tlearn: 0.3880976\ttotal: 311ms\tremaining: 281ms\n",
      "105:\tlearn: 0.3867508\ttotal: 313ms\tremaining: 278ms\n",
      "106:\tlearn: 0.3855281\ttotal: 316ms\tremaining: 274ms\n",
      "107:\tlearn: 0.3841015\ttotal: 318ms\tremaining: 271ms\n",
      "108:\tlearn: 0.3829276\ttotal: 320ms\tremaining: 267ms\n",
      "109:\tlearn: 0.3818795\ttotal: 323ms\tremaining: 264ms\n",
      "110:\tlearn: 0.3809667\ttotal: 326ms\tremaining: 261ms\n",
      "111:\tlearn: 0.3790017\ttotal: 329ms\tremaining: 258ms\n",
      "112:\tlearn: 0.3774333\ttotal: 331ms\tremaining: 255ms\n",
      "113:\tlearn: 0.3762372\ttotal: 333ms\tremaining: 251ms\n",
      "114:\tlearn: 0.3750418\ttotal: 336ms\tremaining: 248ms\n",
      "115:\tlearn: 0.3735203\ttotal: 338ms\tremaining: 245ms\n",
      "116:\tlearn: 0.3727671\ttotal: 341ms\tremaining: 242ms\n",
      "117:\tlearn: 0.3713847\ttotal: 343ms\tremaining: 238ms\n",
      "118:\tlearn: 0.3705588\ttotal: 345ms\tremaining: 235ms\n",
      "119:\tlearn: 0.3694386\ttotal: 347ms\tremaining: 231ms\n",
      "120:\tlearn: 0.3687438\ttotal: 349ms\tremaining: 228ms\n",
      "121:\tlearn: 0.3679429\ttotal: 351ms\tremaining: 225ms\n",
      "122:\tlearn: 0.3666192\ttotal: 354ms\tremaining: 221ms\n",
      "123:\tlearn: 0.3654787\ttotal: 357ms\tremaining: 219ms\n",
      "124:\tlearn: 0.3643185\ttotal: 359ms\tremaining: 216ms\n",
      "125:\tlearn: 0.3636195\ttotal: 362ms\tremaining: 212ms\n",
      "126:\tlearn: 0.3625184\ttotal: 364ms\tremaining: 209ms\n",
      "127:\tlearn: 0.3609778\ttotal: 366ms\tremaining: 206ms\n",
      "128:\tlearn: 0.3595979\ttotal: 368ms\tremaining: 203ms\n",
      "129:\tlearn: 0.3583702\ttotal: 371ms\tremaining: 200ms\n",
      "130:\tlearn: 0.3569225\ttotal: 374ms\tremaining: 197ms\n",
      "131:\tlearn: 0.3558535\ttotal: 376ms\tremaining: 194ms\n",
      "132:\tlearn: 0.3548312\ttotal: 378ms\tremaining: 190ms\n",
      "133:\tlearn: 0.3533459\ttotal: 380ms\tremaining: 187ms\n",
      "134:\tlearn: 0.3524239\ttotal: 382ms\tremaining: 184ms\n",
      "135:\tlearn: 0.3517958\ttotal: 385ms\tremaining: 181ms\n",
      "136:\tlearn: 0.3504984\ttotal: 387ms\tremaining: 178ms\n",
      "137:\tlearn: 0.3497339\ttotal: 389ms\tremaining: 175ms\n",
      "138:\tlearn: 0.3488643\ttotal: 392ms\tremaining: 172ms\n",
      "139:\tlearn: 0.3482265\ttotal: 394ms\tremaining: 169ms\n",
      "140:\tlearn: 0.3470774\ttotal: 396ms\tremaining: 166ms\n",
      "141:\tlearn: 0.3458237\ttotal: 399ms\tremaining: 163ms\n",
      "142:\tlearn: 0.3445470\ttotal: 402ms\tremaining: 160ms\n",
      "143:\tlearn: 0.3436377\ttotal: 405ms\tremaining: 157ms\n",
      "144:\tlearn: 0.3426585\ttotal: 410ms\tremaining: 155ms\n",
      "145:\tlearn: 0.3417233\ttotal: 412ms\tremaining: 152ms\n",
      "146:\tlearn: 0.3407541\ttotal: 415ms\tremaining: 149ms\n",
      "147:\tlearn: 0.3397798\ttotal: 417ms\tremaining: 147ms\n",
      "148:\tlearn: 0.3390128\ttotal: 420ms\tremaining: 144ms\n",
      "149:\tlearn: 0.3381272\ttotal: 425ms\tremaining: 142ms\n",
      "150:\tlearn: 0.3374740\ttotal: 428ms\tremaining: 139ms\n",
      "151:\tlearn: 0.3365500\ttotal: 431ms\tremaining: 136ms\n",
      "152:\tlearn: 0.3358489\ttotal: 434ms\tremaining: 133ms\n",
      "153:\tlearn: 0.3346096\ttotal: 437ms\tremaining: 130ms\n",
      "154:\tlearn: 0.3335622\ttotal: 439ms\tremaining: 128ms\n",
      "155:\tlearn: 0.3330435\ttotal: 442ms\tremaining: 125ms\n",
      "156:\tlearn: 0.3323843\ttotal: 444ms\tremaining: 122ms\n",
      "157:\tlearn: 0.3312172\ttotal: 446ms\tremaining: 119ms\n",
      "158:\tlearn: 0.3299437\ttotal: 448ms\tremaining: 116ms\n",
      "159:\tlearn: 0.3286515\ttotal: 451ms\tremaining: 113ms\n",
      "160:\tlearn: 0.3275885\ttotal: 453ms\tremaining: 110ms\n",
      "161:\tlearn: 0.3266739\ttotal: 455ms\tremaining: 107ms\n",
      "162:\tlearn: 0.3258986\ttotal: 457ms\tremaining: 104ms\n",
      "163:\tlearn: 0.3249133\ttotal: 459ms\tremaining: 101ms\n",
      "164:\tlearn: 0.3241480\ttotal: 461ms\tremaining: 97.9ms\n",
      "165:\tlearn: 0.3237404\ttotal: 464ms\tremaining: 95ms\n",
      "166:\tlearn: 0.3228217\ttotal: 467ms\tremaining: 92.2ms\n",
      "167:\tlearn: 0.3218088\ttotal: 469ms\tremaining: 89.3ms\n",
      "168:\tlearn: 0.3209179\ttotal: 471ms\tremaining: 86.3ms\n",
      "169:\tlearn: 0.3200101\ttotal: 473ms\tremaining: 83.5ms\n",
      "170:\tlearn: 0.3188984\ttotal: 475ms\tremaining: 80.6ms\n",
      "171:\tlearn: 0.3178642\ttotal: 477ms\tremaining: 77.7ms\n",
      "172:\tlearn: 0.3172455\ttotal: 480ms\tremaining: 74.9ms\n",
      "173:\tlearn: 0.3166261\ttotal: 482ms\tremaining: 72.1ms\n",
      "174:\tlearn: 0.3157320\ttotal: 485ms\tremaining: 69.2ms\n",
      "175:\tlearn: 0.3149761\ttotal: 487ms\tremaining: 66.4ms\n",
      "176:\tlearn: 0.3142430\ttotal: 489ms\tremaining: 63.5ms\n",
      "177:\tlearn: 0.3138263\ttotal: 491ms\tremaining: 60.7ms\n",
      "178:\tlearn: 0.3133229\ttotal: 493ms\tremaining: 57.9ms\n",
      "179:\tlearn: 0.3124656\ttotal: 496ms\tremaining: 55.1ms\n",
      "180:\tlearn: 0.3114844\ttotal: 499ms\tremaining: 52.3ms\n",
      "181:\tlearn: 0.3109799\ttotal: 501ms\tremaining: 49.6ms\n",
      "182:\tlearn: 0.3105137\ttotal: 503ms\tremaining: 46.8ms\n",
      "183:\tlearn: 0.3094123\ttotal: 506ms\tremaining: 44ms\n",
      "184:\tlearn: 0.3087045\ttotal: 508ms\tremaining: 41.2ms\n",
      "185:\tlearn: 0.3079423\ttotal: 510ms\tremaining: 38.4ms\n",
      "186:\tlearn: 0.3071831\ttotal: 513ms\tremaining: 35.7ms\n",
      "187:\tlearn: 0.3061123\ttotal: 516ms\tremaining: 33ms\n",
      "188:\tlearn: 0.3054302\ttotal: 519ms\tremaining: 30.2ms\n",
      "189:\tlearn: 0.3048047\ttotal: 521ms\tremaining: 27.4ms\n",
      "190:\tlearn: 0.3042241\ttotal: 524ms\tremaining: 24.7ms\n",
      "191:\tlearn: 0.3036602\ttotal: 526ms\tremaining: 21.9ms\n",
      "192:\tlearn: 0.3028507\ttotal: 530ms\tremaining: 19.2ms\n",
      "193:\tlearn: 0.3019733\ttotal: 532ms\tremaining: 16.5ms\n",
      "194:\tlearn: 0.3009586\ttotal: 535ms\tremaining: 13.7ms\n",
      "195:\tlearn: 0.3001835\ttotal: 537ms\tremaining: 11ms\n",
      "196:\tlearn: 0.2999266\ttotal: 539ms\tremaining: 8.2ms\n",
      "197:\tlearn: 0.2993811\ttotal: 541ms\tremaining: 5.46ms\n",
      "198:\tlearn: 0.2986293\ttotal: 543ms\tremaining: 2.73ms\n",
      "199:\tlearn: 0.2980044\ttotal: 546ms\tremaining: 0us\n"
     ]
    }
   ],
   "source": [
    "catb = CatBoostClassifier(iterations = 200, \n",
    "                          learning_rate = 0.01, \n",
    "                          depth = 8)\n",
    "\n",
    "catb_tuned = catb.fit(X_train, y_train)\n",
    "y_pred = catb_tuned.predict(X_test)"
   ]
  },
  {
   "cell_type": "code",
   "execution_count": 159,
   "metadata": {},
   "outputs": [
    {
     "data": {
      "text/plain": [
       "0.7532467532467533"
      ]
     },
     "execution_count": 159,
     "metadata": {},
     "output_type": "execute_result"
    }
   ],
   "source": [
    "y_pred = catb_tuned.predict(X_test)\n",
    "accuracy_score(y_test, y_pred)"
   ]
  },
  {
   "cell_type": "markdown",
   "metadata": {},
   "source": [
    "# Tüm Modellerin Karşılaştırılması"
   ]
  },
  {
   "cell_type": "code",
   "execution_count": 160,
   "metadata": {},
   "outputs": [
    {
     "name": "stdout",
     "output_type": "stream",
     "text": [
      "----------------------------\n",
      "KNeighborsClassifier:\n",
      "Accuracy: 73.1602%\n",
      "----------------------------\n",
      "LogisticRegression:\n",
      "Accuracy: 75.3247%\n",
      "----------------------------\n",
      "SVC:\n",
      "Accuracy: 73.5931%\n",
      "----------------------------\n",
      "GaussianNB:\n",
      "Accuracy: 74.4589%\n",
      "----------------------------\n",
      "MLPClassifier:\n",
      "Accuracy: 34.6320%\n",
      "----------------------------\n",
      "DecisionTreeClassifier:\n",
      "Accuracy: 75.3247%\n",
      "----------------------------\n",
      "RandomForestClassifier:\n",
      "Accuracy: 75.3247%\n",
      "----------------------------\n",
      "GradientBoostingClassifier:\n",
      "Accuracy: 74.8918%\n",
      "----------------------------\n",
      "CatBoostClassifier:\n",
      "Accuracy: 75.3247%\n",
      "----------------------------\n",
      "LGBMClassifier:\n",
      "Accuracy: 74.8918%\n",
      "----------------------------\n",
      "XGBClassifier:\n",
      "Accuracy: 75.7576%\n"
     ]
    }
   ],
   "source": [
    "modeller = [\n",
    "    knn_tuned,\n",
    "    loj_model,\n",
    "    svc_tuned,\n",
    "    nb_model,\n",
    "    mlpc_tuned,\n",
    "    cart_tuned,\n",
    "    rf_tuned,\n",
    "    gbm_tuned,\n",
    "    catb_tuned,\n",
    "    lgbm_tuned,\n",
    "    xgb_tuned\n",
    "    \n",
    "]\n",
    "\n",
    "\n",
    "for model in modeller:\n",
    "    isimler = model.__class__.__name__\n",
    "    y_pred = model.predict(X_test)\n",
    "    dogruluk = accuracy_score(y_test, y_pred)\n",
    "    print(\"-\"*28)\n",
    "    print(isimler + \":\" )\n",
    "    print(\"Accuracy: {:.4%}\".format(dogruluk))"
   ]
  },
  {
   "cell_type": "code",
   "execution_count": 161,
   "metadata": {},
   "outputs": [
    {
     "data": {
      "image/png": "[encoded data removed]",
      "text/plain": [
       "<Figure size 432x288 with 1 Axes>"
      ]
     },
     "metadata": {
      "needs_background": "light"
     },
     "output_type": "display_data"
    }
   ],
   "source": [
    "sonuc = []\n",
    "\n",
    "sonuclar = pd.DataFrame(columns= [\"Modeller\",\"Accuracy\"])\n",
    "\n",
    "for model in modeller:\n",
    "    isimler = model.__class__.__name__\n",
    "    y_pred = model.predict(X_test)\n",
    "    dogruluk = accuracy_score(y_test, y_pred)    \n",
    "    sonuc = pd.DataFrame([[isimler, dogruluk*100]], columns= [\"Modeller\",\"Accuracy\"])\n",
    "    sonuclar = sonuclar.append(sonuc)\n",
    "    \n",
    "    \n",
    "sns.barplot(x= 'Accuracy', y = 'Modeller', data=sonuclar, color=\"r\")\n",
    "plt.xlabel('Accuracy %')\n",
    "plt.title('Modellerin Doğruluk Oranları');    "
   ]
  }
 ],
 "metadata": {
  "interpreter": {
   "hash": "793a2f14f758325ee16bf9e9f2de07f64225816d733ff6ae7f1960dfd81a5002"
  },
  "kernelspec": {
   "display_name": "Python 3.9.7 64-bit",
   "language": "python",
   "name": "python3"
  },
  "language_info": {
   "codemirror_mode": {
    "name": "ipython",
    "version": 3
   },
   "file_extension": ".py",
   "mimetype": "text/x-python",
   "name": "python",
   "nbconvert_exporter": "python",
   "pygments_lexer": "ipython3",
   "version": "3.9.7"
  }
 },
 "nbformat": 4,
 "nbformat_minor": 2
}
